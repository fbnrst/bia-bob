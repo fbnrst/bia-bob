{
 "cells": [
  {
   "cell_type": "markdown",
   "id": "7ffc6c0c-f1a7-472d-8990-75ed8056322a",
   "metadata": {},
   "source": [
    "## Extensibility\n",
    "You can give Bob more abilities by adding function tools. These are Python functions that consume multiple parameters of basic types such as string, int and float. The function needs a docstring explaining what the function does. This docstring serves the language model to make use of the function when the description of the task fits."
   ]
  },
  {
   "cell_type": "code",
   "execution_count": 1,
   "id": "fbe2c94e-19d2-4b71-b7b2-457733fee70f",
   "metadata": {
    "tags": []
   },
   "outputs": [
    {
     "data": {
      "text/plain": [
       "'0.2.0'"
      ]
     },
     "execution_count": 1,
     "metadata": {},
     "output_type": "execute_result"
    }
   ],
   "source": [
    "from bia_bob import bob\n",
    "bob.__version__"
   ]
  },
  {
   "cell_type": "markdown",
   "id": "d08bcb04-9df3-462e-a808-298fc6db8863",
   "metadata": {},
   "source": [
    "We give Bob a task it cannot handle and it will respond with an error message:"
   ]
  },
  {
   "cell_type": "code",
   "execution_count": 2,
   "id": "6546ea96-abee-43b6-8ec0-1bf4d35d8c19",
   "metadata": {
    "tags": []
   },
   "outputs": [
    {
     "data": {
      "text/markdown": [
       "I'm sorry, but I couldn't find the folders or files named \"A\" and \"B\" to combine. Please make sure the folders and files exist and try again."
      ],
      "text/plain": [
       "<IPython.core.display.Markdown object>"
      ]
     },
     "metadata": {},
     "output_type": "display_data"
    }
   ],
   "source": [
    "%bob combine A and B"
   ]
  },
  {
   "cell_type": "markdown",
   "id": "c153adef-a821-4928-beef-282decfbfecd",
   "metadata": {},
   "source": [
    "We now add a function to Bob's toolbox..."
   ]
  },
  {
   "cell_type": "code",
   "execution_count": 3,
   "id": "df347e82-6951-475d-b549-a9d015b9731b",
   "metadata": {
    "tags": []
   },
   "outputs": [],
   "source": [
    "@bob.add_function_tool\n",
    "def combine(text1:str, text2:str)->str:\n",
    "    \"\"\"Useful for combining two texts.\"\"\"\n",
    "    return text1 + \" and \" + text2"
   ]
  },
  {
   "cell_type": "markdown",
   "id": "75e6da62-a8d8-4f8b-839c-410e468be3eb",
   "metadata": {},
   "source": [
    "And ask for the same task again."
   ]
  },
  {
   "cell_type": "code",
   "execution_count": 4,
   "id": "b8b46592-28bd-4663-b845-ba809522f85e",
   "metadata": {
    "tags": []
   },
   "outputs": [
    {
     "data": {
      "text/markdown": [
       "The combination of \"A\" and \"B\" is \"A and B\"."
      ],
      "text/plain": [
       "<IPython.core.display.Markdown object>"
      ]
     },
     "metadata": {},
     "output_type": "display_data"
    }
   ],
   "source": [
    "%bob combine A and B"
   ]
  },
  {
   "cell_type": "markdown",
   "id": "cb8acbf7-b842-4be7-95f5-05e83c8d934d",
   "metadata": {},
   "source": [
    "Note: After adding a tool to Bob, it is reinitialized. It may have forgotten what you told it before."
   ]
  }
 ],
 "metadata": {
  "kernelspec": {
   "display_name": "Python 3 (ipykernel)",
   "language": "python",
   "name": "python3"
  },
  "language_info": {
   "codemirror_mode": {
    "name": "ipython",
    "version": 3
   },
   "file_extension": ".py",
   "mimetype": "text/x-python",
   "name": "python",
   "nbconvert_exporter": "python",
   "pygments_lexer": "ipython3",
   "version": "3.9.16"
  }
 },
 "nbformat": 4,
 "nbformat_minor": 5
}
