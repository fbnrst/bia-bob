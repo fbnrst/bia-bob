{
 "cells": [
  {
   "cell_type": "markdown",
   "id": "b97b3b00-8ff4-4e1b-b7c7-709f87aabc37",
   "metadata": {},
   "source": [
    "## BIA Tischi demo\n",
    "BIA Tischi is a Jupyter-magic based assistant for interacting with data via code"
   ]
  },
  {
   "cell_type": "code",
   "execution_count": 2,
   "id": "f4ae3a80-b6ea-4409-95b7-caecd4e4211c",
   "metadata": {
    "scrolled": true,
    "tags": []
   },
   "outputs": [
    {
     "name": "stdout",
     "output_type": "stream",
     "text": [
      "__name__\n",
      "skip\n",
      "__doc__\n",
      "skip\n",
      "__package__\n",
      "skip\n",
      "__loader__\n",
      "skip\n",
      "__spec__\n",
      "skip\n",
      "__builtin__\n",
      "skip\n",
      "__builtins__\n",
      "skip\n",
      "_ih\n",
      "skip\n",
      "_oh\n",
      "skip\n",
      "_dh\n",
      "skip\n",
      "In\n",
      "add\n",
      "Out\n",
      "add\n",
      "get_ipython\n",
      "skip\n",
      "exit\n",
      "skip\n",
      "quit\n",
      "skip\n",
      "open\n",
      "skip\n",
      "_\n",
      "skip\n",
      "__\n",
      "skip\n",
      "___\n",
      "skip\n",
      "__session__\n",
      "skip\n",
      "_i\n",
      "skip\n",
      "_ii\n",
      "skip\n",
      "_iii\n",
      "skip\n",
      "_i1\n",
      "skip\n",
      "np\n",
      "add\n",
      "bob\n",
      "skip\n",
      "xbob\n",
      "skip\n",
      "vars\n",
      "skip\n",
      "_context\n",
      "skip\n",
      "a\n",
      "add\n",
      "_i2\n",
      "skip\n"
     ]
    },
    {
     "data": {
      "text/markdown": [
       "Plan:\n",
       "\n",
       "1. First, we simply use the python built-in print function to print the content of the variable 'a'.\n",
       "\n",
       "```python\n",
       "print(a)\n",
       "```\n",
       "\n",
       "The code simply prints out the content of the variable 'a'. If 'a' is not defined in your python environment, you'll get a NameError."
      ],
      "text/plain": [
       "<IPython.core.display.Markdown object>"
      ]
     },
     "metadata": {},
     "output_type": "display_data"
    },
    {
     "data": {
      "text/html": [
       "\n",
       "    <details>\n",
       "    <summary> Show code </summary>\n",
       "    <pre>\n",
       "    print(a)\n",
       "    </pre>\n",
       "    </details>\n",
       "    "
      ],
      "text/plain": [
       "<IPython.core.display.HTML object>"
      ]
     },
     "metadata": {},
     "output_type": "display_data"
    },
    {
     "name": "stdout",
     "output_type": "stream",
     "text": [
      "5\n"
     ]
    },
    {
     "data": {
      "text/markdown": [
       "Code was generated and executed."
      ],
      "text/plain": [
       "<IPython.core.display.Markdown object>"
      ]
     },
     "metadata": {},
     "output_type": "display_data"
    }
   ],
   "source": [
    "import numpy as np\n",
    "from bia_tischi import bob, xbob, vars\n",
    "from bia_tischi._machinery import _context\n",
    "\n",
    "_context.verbose = False\n",
    "a = 5\n",
    "%xbob print the content of the variable a"
   ]
  },
  {
   "cell_type": "markdown",
   "id": "6b78c8e5-58d1-4750-b659-e639a2b99d2f",
   "metadata": {},
   "source": [
    "It works using the `%tischi` and `%%tischi` magic commands. Just enter tasks and ask questions. Hint: if you want to ask a question, you need to put a space before the `?`."
   ]
  },
  {
   "cell_type": "code",
   "execution_count": null,
   "id": "547ca431-88d9-4e75-8c95-611ba4009759",
   "metadata": {},
   "outputs": [],
   "source": [
    "%tischi measure mean_intensity and major axis length of the objects in the input_image using the label_image as labels. Store the result in a dataframe called df"
   ]
  }
 ],
 "metadata": {
  "kernelspec": {
   "display_name": "Python 3 (ipykernel)",
   "language": "python",
   "name": "python3"
  },
  "language_info": {
   "codemirror_mode": {
    "name": "ipython",
    "version": 3
   },
   "file_extension": ".py",
   "mimetype": "text/x-python",
   "name": "python",
   "nbconvert_exporter": "python",
   "pygments_lexer": "ipython3",
   "version": "3.9.18"
  }
 },
 "nbformat": 4,
 "nbformat_minor": 5
}
