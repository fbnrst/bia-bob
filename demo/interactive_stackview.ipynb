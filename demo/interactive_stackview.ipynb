{
 "cells": [
  {
   "cell_type": "markdown",
   "id": "ef10ea9b-65aa-41ea-9e75-76aa28707a2f",
   "metadata": {
    "tags": []
   },
   "source": [
    "## Interactive inspection of image data\n",
    "BIA Bob is aware of [stackview](https://github.com/haesleinhuepf/stackview) a library for interactive browsing of 3D image data. You can ask it to slice image stacks for example.\n",
    "\n",
    "Note: This notebook doesn't render on github.com . You need to run it locally."
   ]
  },
  {
   "cell_type": "code",
   "execution_count": 1,
   "id": "9ef609ad-04fe-4f1a-b99d-16d55b6a7a55",
   "metadata": {
    "tags": []
   },
   "outputs": [],
   "source": [
    "from bia_bob import bob"
   ]
  },
  {
   "cell_type": "code",
   "execution_count": 2,
   "id": "dfb7c7f0-2e43-4f1f-b85c-ce7eb117803e",
   "metadata": {
    "tags": []
   },
   "outputs": [
    {
     "data": {
      "application/vnd.jupyter.widget-view+json": {
       "model_id": "e74a6c95162d4fecb0b7a9c77c051878",
       "version_major": 2,
       "version_minor": 0
      },
      "text/plain": [
       "VBox(children=(HBox(children=(VBox(children=(ImageWidget(height=160, width=160),)),)), IntSlider(value=60, des…"
      ]
     },
     "metadata": {},
     "output_type": "display_data"
    },
    {
     "data": {
      "text/markdown": [
       "You can now slice through the image \"Haase_MRT_tfl3d1.tif\". How would you like to proceed?"
      ],
      "text/plain": [
       "<IPython.core.display.Markdown object>"
      ]
     },
     "metadata": {},
     "output_type": "display_data"
    }
   ],
   "source": [
    "%bob Load Haase_MRT_tfl3d1.tif, store it and afterwards let me slice through it."
   ]
  },
  {
   "cell_type": "code",
   "execution_count": 3,
   "id": "28d05714-e2fc-4421-9c7d-b54399312da5",
   "metadata": {
    "tags": []
   },
   "outputs": [
    {
     "data": {
      "application/vnd.jupyter.widget-view+json": {
       "model_id": "fa1f3dcde9924e388fd609b38235db35",
       "version_major": 2,
       "version_minor": 0
      },
      "text/plain": [
       "HBox(children=(VBox(children=(HBox(children=(VBox(children=(ImageWidget(height=160, width=160),)),)), IntSlide…"
      ]
     },
     "metadata": {},
     "output_type": "display_data"
    },
    {
     "data": {
      "text/markdown": [
       "The image \"Haase_MRT_tfl3d1.tif\" has 120 slices. You can now slice through the image using the interactive tool."
      ],
      "text/plain": [
       "<IPython.core.display.Markdown object>"
      ]
     },
     "metadata": {},
     "output_type": "display_data"
    }
   ],
   "source": [
    "%bob I'd like to see the image in orthogonal views"
   ]
  },
  {
   "cell_type": "code",
   "execution_count": 4,
   "id": "871124ae-09c7-4b8e-8925-0a331a45bf11",
   "metadata": {
    "tags": []
   },
   "outputs": [
    {
     "data": {
      "application/vnd.jupyter.widget-view+json": {
       "model_id": "ebc408823cbd494b904b9bebb9f76c91",
       "version_major": 2,
       "version_minor": 0
      },
      "text/plain": [
       "VBox(children=(HBox(children=(VBox(children=(ImageWidget(height=160, width=160),)),)), IntSlider(value=60, des…"
      ]
     },
     "metadata": {},
     "output_type": "display_data"
    },
    {
     "data": {
      "text/markdown": [
       "You can now inspect the pixel intensities of the image \"Haase_MRT_tfl3d1.tif\". Please let me know if you need any further assistance."
      ],
      "text/plain": [
       "<IPython.core.display.Markdown object>"
      ]
     },
     "metadata": {},
     "output_type": "display_data"
    }
   ],
   "source": [
    "%bob let me inspect pixel intensities."
   ]
  },
  {
   "cell_type": "code",
   "execution_count": null,
   "id": "1cad85c2-c74d-4a6b-b88f-36e1d8a16e7d",
   "metadata": {},
   "outputs": [],
   "source": []
  }
 ],
 "metadata": {
  "kernelspec": {
   "display_name": "Python 3 (ipykernel)",
   "language": "python",
   "name": "python3"
  },
  "language_info": {
   "codemirror_mode": {
    "name": "ipython",
    "version": 3
   },
   "file_extension": ".py",
   "mimetype": "text/x-python",
   "name": "python",
   "nbconvert_exporter": "python",
   "pygments_lexer": "ipython3",
   "version": "3.9.16"
  }
 },
 "nbformat": 4,
 "nbformat_minor": 5
}
