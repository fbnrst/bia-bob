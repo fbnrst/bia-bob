{
 "cells": [
  {
   "cell_type": "code",
   "execution_count": 1,
   "id": "5ca09f65-d80a-489d-ac75-1c382bd4cef4",
   "metadata": {},
   "outputs": [
    {
     "data": {
      "text/plain": [
       "'0.3.0'"
      ]
     },
     "execution_count": 1,
     "metadata": {},
     "output_type": "execute_result"
    }
   ],
   "source": [
    "from bia_bob import bob\n",
    "bob.__version__"
   ]
  },
  {
   "cell_type": "code",
   "execution_count": 2,
   "id": "9b0d455c-e9b5-4705-9026-3d08abb488de",
   "metadata": {},
   "outputs": [
    {
     "data": {
      "text/markdown": [
       "Sure! Here's a step-by-step plan for segmenting the nuclei in the \"blobs.tif\" grayscale image and displaying the resulting label mask:\n",
       "\n",
       "1. Load the \"blobs.tif\" image using the `imread` function from the scikit-image library.\n",
       "2. Apply a thresholding method to the grayscale image to create a binary mask of the nuclei. You can use the `threshold_otsu` function from the scikit-image library to automatically determine the threshold value.\n",
       "3. Use the binary mask to label the connected components of the nuclei using the `label` function from the scikit-image library.\n",
       "4. Display the labeled mask using the `stackview.insight` function from the stackview library.\n",
       "\n",
       "And here's the code:"
      ],
      "text/plain": [
       "<IPython.core.display.Markdown object>"
      ]
     },
     "metadata": {},
     "output_type": "display_data"
    }
   ],
   "source": [
    "%%bob \n",
    "please segment all nuclei in the blobs.tif grayscale image \n",
    "and show the resulting label mask (without the original image)"
   ]
  },
  {
   "cell_type": "code",
   "execution_count": 3,
   "id": "4ac6b258-cec8-486d-9190-6b067c33e3cd",
   "metadata": {},
   "outputs": [
    {
     "data": {
      "text/html": [
       "<table>\n",
       "<tr>\n",
       "<td>\n",
       "<img src=\"data:image/png;base64,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\"></img>\n",
       "</td>\n",
       "<td style=\"text-align: center; vertical-align: top;\">\n",
       "\n",
       "<table>\n",
       "<tr><td>shape</td><td>(254,&nbsp;256)</td></tr>\n",
       "<tr><td>dtype</td><td>int32</td></tr>\n",
       "<tr><td>size</td><td>254.0 kB</td></tr>\n",
       "<tr><td>min</td><td>0</td></tr><tr><td>max</td><td>64</td></tr>\n",
       "</table>\n",
       "\n",
       "</td>\n",
       "</tr>\n",
       "</table>"
      ],
      "text/plain": [
       "StackViewNDArray([[0, 0, 0, ..., 5, 5, 5],\n",
       "                  [0, 0, 0, ..., 5, 5, 5],\n",
       "                  [0, 0, 0, ..., 5, 5, 5],\n",
       "                  ...,\n",
       "                  [0, 0, 0, ..., 0, 0, 0],\n",
       "                  [0, 0, 0, ..., 0, 0, 0],\n",
       "                  [0, 0, 0, ..., 0, 0, 0]])"
      ]
     },
     "execution_count": 3,
     "metadata": {},
     "output_type": "execute_result"
    }
   ],
   "source": [
    "from skimage.io import imread\n",
    "from skimage.filters import threshold_otsu\n",
    "from skimage.measure import label\n",
    "import stackview\n",
    "\n",
    "# Load the grayscale image\n",
    "image = imread(\"blobs.tif\")\n",
    "\n",
    "# Threshold the image to create a binary mask\n",
    "threshold_value = threshold_otsu(image)\n",
    "binary_mask = image > threshold_value\n",
    "\n",
    "# Label the connected components in the binary mask\n",
    "labels = label(binary_mask)\n",
    "\n",
    "# Display the labeled mask\n",
    "stackview.insight(labels)"
   ]
  },
  {
   "cell_type": "code",
   "execution_count": null,
   "id": "8cdf85bc-f21e-4f69-adb6-415b4466626a",
   "metadata": {},
   "outputs": [],
   "source": []
  }
 ],
 "metadata": {
  "kernelspec": {
   "display_name": "Python 3 (ipykernel)",
   "language": "python",
   "name": "python3"
  },
  "language_info": {
   "codemirror_mode": {
    "name": "ipython",
    "version": 3
   },
   "file_extension": ".py",
   "mimetype": "text/x-python",
   "name": "python",
   "nbconvert_exporter": "python",
   "pygments_lexer": "ipython3",
   "version": "3.9.16"
  }
 },
 "nbformat": 4,
 "nbformat_minor": 5
}
