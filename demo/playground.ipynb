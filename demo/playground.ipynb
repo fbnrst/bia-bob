{
 "cells": [
  {
   "cell_type": "code",
   "execution_count": 2,
   "id": "370cf3ae-7b85-43c4-b042-c835db1507db",
   "metadata": {},
   "outputs": [
    {
     "name": "stdout",
     "output_type": "stream",
     "text": [
      "Assistant initialised.\n",
      "\n",
      "You can call it using the %ai command, e.g.\n",
      "\n",
      "%ai please generate a random 2D grayscale image.\n"
     ]
    }
   ],
   "source": [
    "import openai\n",
    "from bia_tischi._utilities import available_models\n",
    "from bia_tischi._machinery import init_assistant\n",
    "from bia_tischi._machinery import Context\n",
    "\n",
    "Context.verbose = True\n",
    "init_assistant(\"gpt-3.5-turbo\", 0)\n"
   ]
  },
  {
   "cell_type": "code",
   "execution_count": 3,
   "id": "c8e6e4f5-8c35-476e-8bb7-5c256aab75ee",
   "metadata": {},
   "outputs": [
    {
     "name": "stdout",
     "output_type": "stream",
     "text": [
      "\n",
      "Prompt: \n",
      "    If the request entails writing code, write concise professional \n",
      "    bioimage analysis high-quality python code.\n",
      "    The code should be as short as possible.\n",
      "    If there are several ways to solve the task, chose the option with the least amount of code.\n",
      "    Preferably, use these python libraries skimage,numpy,sklearn,scipy,matplotlib,pandas,seaborn.\n",
      "    Show results and save them in variables.\n",
      "    The following variables are available: In,Out,openai\n",
      "    Do not set the values of the variables that are available.\n",
      "    The following functions are available: get_ipython,open,available_models,init_assistant,Context\n",
      "    A live python environment is available and the code you produce will be executed afterwards.\n",
      "\n",
      "    Before writing the code, provide a concise step-by-step plan \n",
      "    of what the code will be going to do. \n",
      "    This plan must not contain any \"`\" characters and should be written in plain text.\n",
      "    Then print the code.\n",
      "    The code block must start with the line: \n",
      "    ```python\n",
      "    and it must end with the line:\n",
      "    ```\n",
      "    There must be no text after the code block.\n",
      "    \n",
      "    If the user request does not require to write code, simply answer in plain text.\n",
      "    \n",
      "    Here is the user request:\n",
      "    please generate a random 2D grayscale image.\n",
      "Full response:\n",
      " To generate a random 2D grayscale image, we can use the `numpy` library to create a 2D array of random values between 0 and 255. We can then use the `matplotlib` library to visualize the array as an image.\n",
      "\n",
      "Here is the code to generate a random 2D grayscale image:\n",
      "\n",
      "```python\n",
      "import numpy as np\n",
      "import matplotlib.pyplot as plt\n",
      "\n",
      "# Generate a random 2D array of shape (height, width) with values between 0 and 255\n",
      "image = np.random.randint(0, 255, size=(512, 512)).astype(np.uint8)\n",
      "\n",
      "# Display the image as a grayscale image\n",
      "plt.imshow(image, cmap='gray')\n",
      "plt.axis('off')\n",
      "plt.show()\n",
      "\n",
      "# Save the image as a file\n",
      "plt.imsave('random_image.png', image, cmap='gray')\n",
      "```\n",
      "\n",
      "This code will generate a random 2D grayscale image of size 512x512 pixels and display it. It will also save the image as a file named \"random_image.png\".\n"
     ]
    },
    {
     "data": {
      "text/markdown": [
       "### Assistant response\n",
       "\n",
       "To generate a random 2D grayscale image, we can use the `numpy` library to create a 2D array of random values between 0 and 255. We can then use the `matplotlib` library to visualize the array as an image.\n",
       "\n",
       "Here is the code to generate a random 2D grayscale image:#### Additional information\n",
       "\n",
       "The code was put into the next cell.  It is your responsibility to carefully check it before executing it!"
      ],
      "text/plain": [
       "<IPython.core.display.Markdown object>"
      ]
     },
     "metadata": {},
     "output_type": "display_data"
    }
   ],
   "source": [
    "%ai please generate a random 2D grayscale image."
   ]
  },
  {
   "cell_type": "code",
   "execution_count": null,
   "id": "6db05829-612f-480e-b3c5-2f3ff9649557",
   "metadata": {},
   "outputs": [],
   "source": []
  }
 ],
 "metadata": {
  "kernelspec": {
   "display_name": "Python 3 (ipykernel)",
   "language": "python",
   "name": "python3"
  },
  "language_info": {
   "codemirror_mode": {
    "name": "ipython",
    "version": 3
   },
   "file_extension": ".py",
   "mimetype": "text/x-python",
   "name": "python",
   "nbconvert_exporter": "python",
   "pygments_lexer": "ipython3",
   "version": "3.9.18"
  }
 },
 "nbformat": 4,
 "nbformat_minor": 5
}
