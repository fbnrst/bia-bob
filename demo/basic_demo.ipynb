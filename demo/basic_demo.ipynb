{
 "cells": [
  {
   "cell_type": "markdown",
   "id": "b97b3b00-8ff4-4e1b-b7c7-709f87aabc37",
   "metadata": {},
   "source": [
    "## BIA Tischi demo\n",
    "BIA Tischi is a Jupyter-magic based assistant for interacting with data via code"
   ]
  },
  {
   "cell_type": "code",
   "execution_count": 1,
   "id": "f4ae3a80-b6ea-4409-95b7-caecd4e4211c",
   "metadata": {
    "tags": []
   },
   "outputs": [
    {
     "name": "stdout",
     "output_type": "stream",
     "text": [
      "Agent and context have been initialized already.\n",
      "Variables: 20\n",
      "Prompt ---- \n",
      "    Write concise professional bioimage analysis high-quality python code.\n",
      "    The code should be as short as possible.\n",
      "    If there are several ways to solve the task, chose the option with the least amount of code.\n",
      "    Use preferably the python libraries scipy,sklearn,pandas,skimage,matplotlib,numpy,seaborn.\n",
      "    Show results and save them in variables.\n",
      "    The following variables are available: \n",
      "    Do not set the values of the variables that are available.\n",
      "    The following functions are available: register_line_cell_magic,display,Markdown,generate_response,output_text,output_code,xbob,bob,update_context_and_fetch_user_input,CustomAgent,init_assistant\n",
      "    A live python environment is available and the code you produce will be executed afterwards.\n",
      "\n",
      "    The code block must be start with the line\n",
      "    ```python\n",
      "    and it must end with the line \n",
      "    ```\n",
      "\n",
      "    Before writing the code, provide a concise step-by-step plan.\n",
      "    The plan must not contain anything about the # code start and end.\n",
      "\n",
      "    The python code should do the following:\n",
      "    print out the variable a\n",
      "----\n",
      "\n",
      "Full response ----\n",
      " Step-by-Step Plan:\n",
      "\n",
      "1. Start a new line of python code.\n",
      "2. Use the print function to display the value of variable `a`.\n",
      "3. Close the line of python code.\n",
      "\n",
      "Here is the corresponding python code:\n",
      "\n",
      "```python\n",
      "print(a)\n",
      "``` \n",
      "----\n",
      "\n",
      "Code ----\n",
      " print(a) \n",
      "----\n",
      "\n"
     ]
    },
    {
     "data": {
      "text/markdown": [
       "Step-by-Step Plan:\n",
       "\n",
       "1. Start a new line of python code.\n",
       "2. Use the print function to display the value of variable `a`.\n",
       "3. Close the line of python code.\n",
       "\n",
       "Here is the corresponding python code:\n",
       "\n",
       "```python\n",
       "print(a)\n",
       "```"
      ],
      "text/plain": [
       "<IPython.core.display.Markdown object>"
      ]
     },
     "metadata": {},
     "output_type": "display_data"
    },
    {
     "data": {
      "text/html": [
       "\n",
       "    <details>\n",
       "    <summary> Show code </summary>\n",
       "    <pre>\n",
       "    print(a)\n",
       "    </pre>\n",
       "    </details>\n",
       "    "
      ],
      "text/plain": [
       "<IPython.core.display.HTML object>"
      ]
     },
     "metadata": {},
     "output_type": "display_data"
    },
    {
     "ename": "TypeError",
     "evalue": "Markdown expects text, not <IPython.core.display.Markdown object>",
     "output_type": "error",
     "traceback": [
      "\u001b[0;31m---------------------------------------------------------------------------\u001b[0m",
      "\u001b[0;31mTypeError\u001b[0m                                 Traceback (most recent call last)",
      "Cell \u001b[0;32mIn[1], line 8\u001b[0m\n\u001b[1;32m      6\u001b[0m bob\u001b[38;5;241m.\u001b[39minitialize(\u001b[38;5;28mglobals\u001b[39m())\n\u001b[1;32m      7\u001b[0m a \u001b[38;5;241m=\u001b[39m \u001b[38;5;241m5\u001b[39m\n\u001b[0;32m----> 8\u001b[0m \u001b[43mget_ipython\u001b[49m\u001b[43m(\u001b[49m\u001b[43m)\u001b[49m\u001b[38;5;241;43m.\u001b[39;49m\u001b[43mrun_line_magic\u001b[49m\u001b[43m(\u001b[49m\u001b[38;5;124;43m'\u001b[39;49m\u001b[38;5;124;43mbob\u001b[39;49m\u001b[38;5;124;43m'\u001b[39;49m\u001b[43m,\u001b[49m\u001b[43m \u001b[49m\u001b[38;5;124;43m'\u001b[39;49m\u001b[38;5;124;43mprint out the variable a\u001b[39;49m\u001b[38;5;124;43m'\u001b[39;49m\u001b[43m)\u001b[49m\n",
      "File \u001b[0;32m~/mambaforge/envs/chat-gpt-jupyter/lib/python3.9/site-packages/IPython/core/interactiveshell.py:2432\u001b[0m, in \u001b[0;36mInteractiveShell.run_line_magic\u001b[0;34m(self, magic_name, line, _stack_depth)\u001b[0m\n\u001b[1;32m   2430\u001b[0m     kwargs[\u001b[38;5;124m'\u001b[39m\u001b[38;5;124mlocal_ns\u001b[39m\u001b[38;5;124m'\u001b[39m] \u001b[38;5;241m=\u001b[39m \u001b[38;5;28mself\u001b[39m\u001b[38;5;241m.\u001b[39mget_local_scope(stack_depth)\n\u001b[1;32m   2431\u001b[0m \u001b[38;5;28;01mwith\u001b[39;00m \u001b[38;5;28mself\u001b[39m\u001b[38;5;241m.\u001b[39mbuiltin_trap:\n\u001b[0;32m-> 2432\u001b[0m     result \u001b[38;5;241m=\u001b[39m \u001b[43mfn\u001b[49m\u001b[43m(\u001b[49m\u001b[38;5;241;43m*\u001b[39;49m\u001b[43margs\u001b[49m\u001b[43m,\u001b[49m\u001b[43m \u001b[49m\u001b[38;5;241;43m*\u001b[39;49m\u001b[38;5;241;43m*\u001b[39;49m\u001b[43mkwargs\u001b[49m\u001b[43m)\u001b[49m\n\u001b[1;32m   2434\u001b[0m \u001b[38;5;66;03m# The code below prevents the output from being displayed\u001b[39;00m\n\u001b[1;32m   2435\u001b[0m \u001b[38;5;66;03m# when using magics with decorator @output_can_be_silenced\u001b[39;00m\n\u001b[1;32m   2436\u001b[0m \u001b[38;5;66;03m# when the last Python token in the expression is a ';'.\u001b[39;00m\n\u001b[1;32m   2437\u001b[0m \u001b[38;5;28;01mif\u001b[39;00m \u001b[38;5;28mgetattr\u001b[39m(fn, magic\u001b[38;5;241m.\u001b[39mMAGIC_OUTPUT_CAN_BE_SILENCED, \u001b[38;5;28;01mFalse\u001b[39;00m):\n",
      "File \u001b[0;32m~/Documents/bia-tischi/src/bia_tischi/_machinery.py:41\u001b[0m, in \u001b[0;36mbob\u001b[0;34m(line, cell)\u001b[0m\n\u001b[1;32m     37\u001b[0m     display(\u001b[38;5;124m\"\u001b[39m\u001b[38;5;124mPlease ask a question!\u001b[39m\u001b[38;5;124m\"\u001b[39m)\n\u001b[1;32m     39\u001b[0m result \u001b[38;5;241m=\u001b[39m _context\u001b[38;5;241m.\u001b[39magent\u001b[38;5;241m.\u001b[39mgenerate_response(user_input)\n\u001b[0;32m---> 41\u001b[0m \u001b[43moutput_text\u001b[49m\u001b[43m(\u001b[49m\u001b[43mMarkdown\u001b[49m\u001b[43m(\u001b[49m\u001b[43mresult\u001b[49m\u001b[43m)\u001b[49m\u001b[43m)\u001b[49m\n",
      "File \u001b[0;32m~/Documents/bia-tischi/src/bia_tischi/_utilities.py:118\u001b[0m, in \u001b[0;36moutput_text\u001b[0;34m(markdown)\u001b[0m\n\u001b[1;32m    116\u001b[0m \u001b[38;5;250m\u001b[39m\u001b[38;5;124;03m\"\"\"Display markdown content in the notebook.\"\"\"\u001b[39;00m\n\u001b[1;32m    117\u001b[0m \u001b[38;5;28;01mfrom\u001b[39;00m \u001b[38;5;21;01mIPython\u001b[39;00m\u001b[38;5;21;01m.\u001b[39;00m\u001b[38;5;21;01mdisplay\u001b[39;00m \u001b[38;5;28;01mimport\u001b[39;00m display, Markdown\n\u001b[0;32m--> 118\u001b[0m display(\u001b[43mMarkdown\u001b[49m\u001b[43m(\u001b[49m\u001b[43mmarkdown\u001b[49m\u001b[43m)\u001b[49m)\n",
      "File \u001b[0;32m~/mambaforge/envs/chat-gpt-jupyter/lib/python3.9/site-packages/IPython/core/display.py:328\u001b[0m, in \u001b[0;36mDisplayObject.__init__\u001b[0;34m(self, data, url, filename, metadata)\u001b[0m\n\u001b[1;32m    325\u001b[0m     \u001b[38;5;28mself\u001b[39m\u001b[38;5;241m.\u001b[39mmetadata \u001b[38;5;241m=\u001b[39m {}\n\u001b[1;32m    327\u001b[0m \u001b[38;5;28mself\u001b[39m\u001b[38;5;241m.\u001b[39mreload()\n\u001b[0;32m--> 328\u001b[0m \u001b[38;5;28;43mself\u001b[39;49m\u001b[38;5;241;43m.\u001b[39;49m\u001b[43m_check_data\u001b[49m\u001b[43m(\u001b[49m\u001b[43m)\u001b[49m\n",
      "File \u001b[0;32m~/mambaforge/envs/chat-gpt-jupyter/lib/python3.9/site-packages/IPython/core/display.py:407\u001b[0m, in \u001b[0;36mTextDisplayObject._check_data\u001b[0;34m(self)\u001b[0m\n\u001b[1;32m    405\u001b[0m \u001b[38;5;28;01mdef\u001b[39;00m \u001b[38;5;21m_check_data\u001b[39m(\u001b[38;5;28mself\u001b[39m):\n\u001b[1;32m    406\u001b[0m     \u001b[38;5;28;01mif\u001b[39;00m \u001b[38;5;28mself\u001b[39m\u001b[38;5;241m.\u001b[39mdata \u001b[38;5;129;01mis\u001b[39;00m \u001b[38;5;129;01mnot\u001b[39;00m \u001b[38;5;28;01mNone\u001b[39;00m \u001b[38;5;129;01mand\u001b[39;00m \u001b[38;5;129;01mnot\u001b[39;00m \u001b[38;5;28misinstance\u001b[39m(\u001b[38;5;28mself\u001b[39m\u001b[38;5;241m.\u001b[39mdata, \u001b[38;5;28mstr\u001b[39m):\n\u001b[0;32m--> 407\u001b[0m         \u001b[38;5;28;01mraise\u001b[39;00m \u001b[38;5;167;01mTypeError\u001b[39;00m(\u001b[38;5;124m\"\u001b[39m\u001b[38;5;132;01m%s\u001b[39;00m\u001b[38;5;124m expects text, not \u001b[39m\u001b[38;5;132;01m%r\u001b[39;00m\u001b[38;5;124m\"\u001b[39m \u001b[38;5;241m%\u001b[39m (\u001b[38;5;28mself\u001b[39m\u001b[38;5;241m.\u001b[39m\u001b[38;5;18m__class__\u001b[39m\u001b[38;5;241m.\u001b[39m\u001b[38;5;18m__name__\u001b[39m, \u001b[38;5;28mself\u001b[39m\u001b[38;5;241m.\u001b[39mdata))\n",
      "\u001b[0;31mTypeError\u001b[0m: Markdown expects text, not <IPython.core.display.Markdown object>"
     ]
    }
   ],
   "source": [
    "import numpy as np\n",
    "from bia_tischi import bob\n",
    "from bia_tischi._machinery import _context\n",
    "_context.verbose = True\n",
    "bob.__version__\n",
    "bob.initialize(globals())\n",
    "a = 5\n",
    "%bob print out the variable a"
   ]
  },
  {
   "cell_type": "markdown",
   "id": "847ef918-65b2-4122-adb6-b2cabb46b1b4",
   "metadata": {},
   "source": [
    "We initially give bob access to all variables in the current scope."
   ]
  },
  {
   "cell_type": "code",
   "execution_count": null,
   "id": "00a53272-efae-4393-b639-d73d68655575",
   "metadata": {},
   "outputs": [],
   "source": [
    "bob.initialize(globals())"
   ]
  },
  {
   "cell_type": "markdown",
   "id": "dd2b4344-5cf9-4372-b57d-61e651f21041",
   "metadata": {},
   "source": [
    "Turn on debug mode to see what happens"
   ]
  },
  {
   "cell_type": "code",
   "execution_count": null,
   "id": "7a5caedb-8331-498c-9283-3e851852f7b2",
   "metadata": {},
   "outputs": [],
   "source": [
    "# from bia_tischi._machinery import _context\n",
    "# _context.verbose = True"
   ]
  },
  {
   "cell_type": "markdown",
   "id": "6b78c8e5-58d1-4750-b659-e639a2b99d2f",
   "metadata": {},
   "source": [
    "It works using the `%tischi` and `%%tischi` magic commands. Just enter tasks and ask questions. Hint: if you want to ask a question, you need to put a space before the `?`."
   ]
  },
  {
   "cell_type": "code",
   "execution_count": null,
   "id": "80439485-2899-4f51-b78e-3bf7f7c58e4d",
   "metadata": {},
   "outputs": [],
   "source": [
    "a = 5"
   ]
  },
  {
   "cell_type": "code",
   "execution_count": null,
   "id": "7f40c8a0-d0df-4b19-b43b-2d817ac5ee15",
   "metadata": {
    "tags": []
   },
   "outputs": [],
   "source": [
    "%bob print out the variable a"
   ]
  },
  {
   "cell_type": "code",
   "execution_count": null,
   "id": "e403391c",
   "metadata": {
    "collapsed": false,
    "jupyter": {
     "outputs_hidden": false
    }
   },
   "outputs": [],
   "source": [
    "%tischi load \"blobs.tif\", store it in the variable input_image and visualize it"
   ]
  },
  {
   "cell_type": "code",
   "execution_count": null,
   "id": "1729a4ab-8ba5-4cb2-8ce9-b13a72b74873",
   "metadata": {},
   "outputs": [],
   "source": [
    "%%tischi \n",
    "* Use Otsu's method to segment the image stored in the variable input_image, \n",
    "* apply connected component labeling to label individual objects, \n",
    "* store the result in the variable label_image, and \n",
    "* visualize the result"
   ]
  },
  {
   "cell_type": "code",
   "execution_count": null,
   "id": "db85a811-a2da-4d4b-a308-e065a62ab59b",
   "metadata": {},
   "outputs": [],
   "source": [
    "%tischi print out the number of objects in the label_image"
   ]
  },
  {
   "cell_type": "code",
   "execution_count": null,
   "id": "547ca431-88d9-4e75-8c95-611ba4009759",
   "metadata": {},
   "outputs": [],
   "source": [
    "%tischi measure mean_intensity and major axis length of the objects in the input_image using the label_image as labels. Store the result in a dataframe called df"
   ]
  },
  {
   "cell_type": "code",
   "execution_count": null,
   "id": "0b8a545c-c11a-4571-b302-f4e073f7e5a3",
   "metadata": {},
   "outputs": [],
   "source": [
    "%tischi show the dataframe df"
   ]
  },
  {
   "cell_type": "code",
   "execution_count": null,
   "id": "46d76bc3-3d0e-4d10-bb0f-687124de1199",
   "metadata": {},
   "outputs": [],
   "source": [
    "%tischi plot the mean_intensity against major_axis_length in the dataframe df "
   ]
  },
  {
   "cell_type": "code",
   "execution_count": null,
   "id": "bbc98506-ff23-4add-865f-b65e5adc42c8",
   "metadata": {},
   "outputs": [],
   "source": [
    "%tischi show a histogram of mean_intensity"
   ]
  },
  {
   "cell_type": "code",
   "execution_count": null,
   "id": "11bc5d02-99da-4935-a8be-cc177f167572",
   "metadata": {},
   "outputs": [],
   "source": [
    "%%tischi \n",
    "please segment all nuclei in the blobs.tif fluorescence microscopy grayscale image \n",
    "and show the resulting label mask"
   ]
  },
  {
   "cell_type": "code",
   "execution_count": null,
   "id": "e814d387-d208-43e3-9a6e-32c0e72ffd60",
   "metadata": {},
   "outputs": [],
   "source": [
    "%%tischi \n",
    "please segment all nuclei in the blobs.tif grayscale image \n",
    "and show the resulting label mask"
   ]
  },
  {
   "cell_type": "code",
   "execution_count": null,
   "id": "5945f79f-a7c4-4e3c-a070-bd8c574c25f6",
   "metadata": {},
   "outputs": [],
   "source": []
  },
  {
   "cell_type": "code",
   "execution_count": null,
   "id": "13c1520b-1fdb-4d35-92e8-6f3825e3f06d",
   "metadata": {},
   "outputs": [],
   "source": []
  }
 ],
 "metadata": {
  "kernelspec": {
   "display_name": "Python 3 (ipykernel)",
   "language": "python",
   "name": "python3"
  },
  "language_info": {
   "codemirror_mode": {
    "name": "ipython",
    "version": 3
   },
   "file_extension": ".py",
   "mimetype": "text/x-python",
   "name": "python",
   "nbconvert_exporter": "python",
   "pygments_lexer": "ipython3",
   "version": "3.9.18"
  }
 },
 "nbformat": 4,
 "nbformat_minor": 5
}
