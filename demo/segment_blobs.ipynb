{
 "cells": [
  {
   "cell_type": "code",
   "execution_count": 1,
   "id": "5ca09f65-d80a-489d-ac75-1c382bd4cef4",
   "metadata": {},
   "outputs": [
    {
     "data": {
      "text/plain": [
       "'0.3.0'"
      ]
     },
     "execution_count": 1,
     "metadata": {},
     "output_type": "execute_result"
    }
   ],
   "source": [
    "from bia_bob import bob\n",
    "bob.__version__"
   ]
  },
  {
   "cell_type": "code",
   "execution_count": 2,
   "id": "9b0d455c-e9b5-4705-9026-3d08abb488de",
   "metadata": {},
   "outputs": [
    {
     "data": {
      "text/markdown": [
       "Step-by-step plan:\n",
       "1. Load the \"blobs.tif\" grayscale image using the `imread` function from the `skimage.io` module.\n",
       "2. Apply a threshold to the image to separate the nuclei from the background.\n",
       "3. Use the `label` function from the `skimage.measure` module to generate a label mask of the segmented nuclei.\n",
       "4. Show the original image and the segmented label mask using the `curtain` function from the `stackview` module.\n",
       "\n",
       "Code:"
      ],
      "text/plain": [
       "<IPython.core.display.Markdown object>"
      ]
     },
     "metadata": {},
     "output_type": "display_data"
    }
   ],
   "source": [
    "%%bob \n",
    "please segment all nuclei in the blobs.tif grayscale image \n",
    "and show the resulting label mask"
   ]
  },
  {
   "cell_type": "code",
   "execution_count": null,
   "id": "a3bd2712-5aef-4546-8108-8ca0e86186cf",
   "metadata": {},
   "outputs": [],
   "source": [
    "from skimage.io import imread\n",
    "from skimage.filters import threshold_otsu\n",
    "from skimage.measure import label\n",
    "import stackview\n",
    "\n",
    "# Load the image\n",
    "image = imread(\"blobs.tif\")\n",
    "\n",
    "# Apply thresholding\n",
    "threshold = threshold_otsu(image)\n",
    "binary = image > threshold\n",
    "\n",
    "# Generate label mask\n",
    "labels = label(binary)\n",
    "\n",
    "# Show image and label mask\n",
    "stackview.curtain(image, labels)"
   ]
  },
  {
   "cell_type": "code",
   "execution_count": null,
   "id": "8cdf85bc-f21e-4f69-adb6-415b4466626a",
   "metadata": {},
   "outputs": [],
   "source": []
  }
 ],
 "metadata": {
  "kernelspec": {
   "display_name": "Python 3 (ipykernel)",
   "language": "python",
   "name": "python3"
  },
  "language_info": {
   "codemirror_mode": {
    "name": "ipython",
    "version": 3
   },
   "file_extension": ".py",
   "mimetype": "text/x-python",
   "name": "python",
   "nbconvert_exporter": "python",
   "pygments_lexer": "ipython3",
   "version": "3.9.16"
  }
 },
 "nbformat": 4,
 "nbformat_minor": 5
}
