{
 "cells": [
  {
   "cell_type": "markdown",
   "id": "b97b3b00-8ff4-4e1b-b7c7-709f87aabc37",
   "metadata": {},
   "source": [
    "## BIA Tischi demo\n",
    "BIA Tischi is a Jupyter-magic based assistant for interacting with data via code"
   ]
  },
  {
   "cell_type": "code",
   "execution_count": 1,
   "id": "7c43ee07-79a2-4616-b254-1627ce0ad90c",
   "metadata": {},
   "outputs": [],
   "source": [
    "a = 5"
   ]
  },
  {
   "cell_type": "code",
   "execution_count": 2,
   "id": "f4ae3a80-b6ea-4409-95b7-caecd4e4211c",
   "metadata": {
    "tags": []
   },
   "outputs": [
    {
     "name": "stdout",
     "output_type": "stream",
     "text": [
      "Agent and context have been initialized already.\n",
      "Agent and context have been initialized already.\n",
      "Variables: 20\n",
      "Prompt ---- \n",
      "    Write concise professional bioimage analysis high-quality python code.\n",
      "    The code should be as short as possible.\n",
      "    If there are several ways to solve the task, chose the option with the least amount of code.\n",
      "    Use preferably the python libraries numpy,pandas,skimage,scipy,seaborn,sklearn,matplotlib.\n",
      "    Show results and save them in variables.\n",
      "    The following variables are available: \n",
      "    Do not set the values of the variables that are available.\n",
      "    The following functions are available: register_line_cell_magic,display,Markdown,generate_response,output_text,output_code,xbob,bob,update_context_and_fetch_user_input,CustomAgent,init_assistant\n",
      "    A live python environment is available and the code you produce will be executed afterwards.\n",
      "\n",
      "    The code block must start with the line\n",
      "    ```python\n",
      "    and it must end with the line \n",
      "    ```\n",
      "\n",
      "    Before writing the code, provide a concise step-by-step plan.\n",
      "    The plan must not contain any code nor information about the code block.\n",
      "\n",
      "    The python code should do the following:\n",
      "    print out the variable a\n",
      "----\n",
      "\n",
      "Full response ----\n",
      " Step-by-step plan:\n",
      "1. Use a simple print statement to output the value of variable 'a'. It's a straightforward task that doesn't require any particular strategy or advanced Python skills. \n",
      "\n",
      "Code:\n",
      "\n",
      "```python\n",
      "print(a)\n",
      "``` \n",
      "----\n",
      "\n",
      "Code ----\n",
      " print(a) \n",
      "----\n",
      "\n"
     ]
    },
    {
     "data": {
      "text/markdown": [
       "Step-by-step plan:\n",
       "1. Use a simple print statement to output the value of variable 'a'. It's a straightforward task that doesn't require any particular strategy or advanced Python skills. \n",
       "\n",
       "Code:\n",
       "\n",
       "```python\n",
       "print(a)\n",
       "```"
      ],
      "text/plain": [
       "<IPython.core.display.Markdown object>"
      ]
     },
     "metadata": {},
     "output_type": "display_data"
    },
    {
     "data": {
      "text/html": [
       "\n",
       "    <details>\n",
       "    <summary> Show code </summary>\n",
       "    <pre>\n",
       "    print(a)\n",
       "    </pre>\n",
       "    </details>\n",
       "    "
      ],
      "text/plain": [
       "<IPython.core.display.HTML object>"
      ]
     },
     "metadata": {},
     "output_type": "display_data"
    },
    {
     "name": "stdout",
     "output_type": "stream",
     "text": [
      "Execution:\n",
      "Global variables:\n",
      "{'__name__': 'bia_tischi._machinery', '__doc__': None, '__package__': 'bia_tischi', '__loader__': <_frozen_importlib_external.SourceFileLoader object at 0x1103f0430>, '__spec__': ModuleSpec(name='bia_tischi._machinery', loader=<_frozen_importlib_external.SourceFileLoader object at 0x1103f0430>, origin='/Users/tischer/Documents/bia-tischi/src/bia_tischi/_machinery.py'), '__file__': '/Users/tischer/Documents/bia-tischi/src/bia_tischi/_machinery.py', '__cached__': '/Users/tischer/Documents/bia-tischi/src/bia_tischi/__pycache__/_machinery.cpython-39.pyc', '__builtins__': {'__name__': 'builtins', '__doc__': \"Built-in functions, exceptions, and other objects.\\n\\nNoteworthy: None is the `nil' object; Ellipsis represents `...' in slices.\", '__package__': '', '__loader__': <class '_frozen_importlib.BuiltinImporter'>, '__spec__': ModuleSpec(name='builtins', loader=<class '_frozen_importlib.BuiltinImporter'>, origin='built-in'), '__build_class__': <built-in function __build_class__>, '__import__': <built-in function __import__>, 'abs': <built-in function abs>, 'all': <built-in function all>, 'any': <built-in function any>, 'ascii': <built-in function ascii>, 'bin': <built-in function bin>, 'breakpoint': <built-in function breakpoint>, 'callable': <built-in function callable>, 'chr': <built-in function chr>, 'compile': <built-in function compile>, 'delattr': <built-in function delattr>, 'dir': <built-in function dir>, 'divmod': <built-in function divmod>, 'eval': <built-in function eval>, 'exec': <built-in function exec>, 'format': <built-in function format>, 'getattr': <built-in function getattr>, 'globals': <built-in function globals>, 'hasattr': <built-in function hasattr>, 'hash': <built-in function hash>, 'hex': <built-in function hex>, 'id': <built-in function id>, 'input': <bound method Kernel.raw_input of <ipykernel.ipkernel.IPythonKernel object at 0x106498fd0>>, 'isinstance': <built-in function isinstance>, 'issubclass': <built-in function issubclass>, 'iter': <built-in function iter>, 'len': <built-in function len>, 'locals': <built-in function locals>, 'max': <built-in function max>, 'min': <built-in function min>, 'next': <built-in function next>, 'oct': <built-in function oct>, 'ord': <built-in function ord>, 'pow': <built-in function pow>, 'print': <built-in function print>, 'repr': <built-in function repr>, 'round': <built-in function round>, 'setattr': <built-in function setattr>, 'sorted': <built-in function sorted>, 'sum': <built-in function sum>, 'vars': <built-in function vars>, 'None': None, 'Ellipsis': Ellipsis, 'NotImplemented': NotImplemented, 'False': False, 'True': True, 'bool': <class 'bool'>, 'memoryview': <class 'memoryview'>, 'bytearray': <class 'bytearray'>, 'bytes': <class 'bytes'>, 'classmethod': <class 'classmethod'>, 'complex': <class 'complex'>, 'dict': <class 'dict'>, 'enumerate': <class 'enumerate'>, 'filter': <class 'filter'>, 'float': <class 'float'>, 'frozenset': <class 'frozenset'>, 'property': <class 'property'>, 'int': <class 'int'>, 'list': <class 'list'>, 'map': <class 'map'>, 'object': <class 'object'>, 'range': <class 'range'>, 'reversed': <class 'reversed'>, 'set': <class 'set'>, 'slice': <class 'slice'>, 'staticmethod': <class 'staticmethod'>, 'str': <class 'str'>, 'super': <class 'super'>, 'tuple': <class 'tuple'>, 'type': <class 'type'>, 'zip': <class 'zip'>, '__debug__': True, 'BaseException': <class 'BaseException'>, 'Exception': <class 'Exception'>, 'TypeError': <class 'TypeError'>, 'StopAsyncIteration': <class 'StopAsyncIteration'>, 'StopIteration': <class 'StopIteration'>, 'GeneratorExit': <class 'GeneratorExit'>, 'SystemExit': <class 'SystemExit'>, 'KeyboardInterrupt': <class 'KeyboardInterrupt'>, 'ImportError': <class 'ImportError'>, 'ModuleNotFoundError': <class 'ModuleNotFoundError'>, 'OSError': <class 'OSError'>, 'EnvironmentError': <class 'OSError'>, 'IOError': <class 'OSError'>, 'EOFError': <class 'EOFError'>, 'RuntimeError': <class 'RuntimeError'>, 'RecursionError': <class 'RecursionError'>, 'NotImplementedError': <class 'NotImplementedError'>, 'NameError': <class 'NameError'>, 'UnboundLocalError': <class 'UnboundLocalError'>, 'AttributeError': <class 'AttributeError'>, 'SyntaxError': <class 'SyntaxError'>, 'IndentationError': <class 'IndentationError'>, 'TabError': <class 'TabError'>, 'LookupError': <class 'LookupError'>, 'IndexError': <class 'IndexError'>, 'KeyError': <class 'KeyError'>, 'ValueError': <class 'ValueError'>, 'UnicodeError': <class 'UnicodeError'>, 'UnicodeEncodeError': <class 'UnicodeEncodeError'>, 'UnicodeDecodeError': <class 'UnicodeDecodeError'>, 'UnicodeTranslateError': <class 'UnicodeTranslateError'>, 'AssertionError': <class 'AssertionError'>, 'ArithmeticError': <class 'ArithmeticError'>, 'FloatingPointError': <class 'FloatingPointError'>, 'OverflowError': <class 'OverflowError'>, 'ZeroDivisionError': <class 'ZeroDivisionError'>, 'SystemError': <class 'SystemError'>, 'ReferenceError': <class 'ReferenceError'>, 'MemoryError': <class 'MemoryError'>, 'BufferError': <class 'BufferError'>, 'Warning': <class 'Warning'>, 'UserWarning': <class 'UserWarning'>, 'DeprecationWarning': <class 'DeprecationWarning'>, 'PendingDeprecationWarning': <class 'PendingDeprecationWarning'>, 'SyntaxWarning': <class 'SyntaxWarning'>, 'RuntimeWarning': <class 'RuntimeWarning'>, 'FutureWarning': <class 'FutureWarning'>, 'ImportWarning': <class 'ImportWarning'>, 'UnicodeWarning': <class 'UnicodeWarning'>, 'BytesWarning': <class 'BytesWarning'>, 'ResourceWarning': <class 'ResourceWarning'>, 'ConnectionError': <class 'ConnectionError'>, 'BlockingIOError': <class 'BlockingIOError'>, 'BrokenPipeError': <class 'BrokenPipeError'>, 'ChildProcessError': <class 'ChildProcessError'>, 'ConnectionAbortedError': <class 'ConnectionAbortedError'>, 'ConnectionRefusedError': <class 'ConnectionRefusedError'>, 'ConnectionResetError': <class 'ConnectionResetError'>, 'FileExistsError': <class 'FileExistsError'>, 'FileNotFoundError': <class 'FileNotFoundError'>, 'IsADirectoryError': <class 'IsADirectoryError'>, 'NotADirectoryError': <class 'NotADirectoryError'>, 'InterruptedError': <class 'InterruptedError'>, 'PermissionError': <class 'PermissionError'>, 'ProcessLookupError': <class 'ProcessLookupError'>, 'TimeoutError': <class 'TimeoutError'>, 'open': <built-in function open>, 'copyright': Copyright (c) 2001-2023 Python Software Foundation.\n",
      "All Rights Reserved.\n",
      "\n",
      "Copyright (c) 2000 BeOpen.com.\n",
      "All Rights Reserved.\n",
      "\n",
      "Copyright (c) 1995-2001 Corporation for National Research Initiatives.\n",
      "All Rights Reserved.\n",
      "\n",
      "Copyright (c) 1991-1995 Stichting Mathematisch Centrum, Amsterdam.\n",
      "All Rights Reserved., 'credits':     Thanks to CWI, CNRI, BeOpen.com, Zope Corporation and a cast of thousands\n",
      "    for supporting Python development.  See www.python.org for more information., 'license': Type license() to see the full license text, 'help': Type help() for interactive help, or help(object) for help about object., 'execfile': <function execfile at 0x105eb3c10>, 'runfile': <function runfile at 0x1061b8310>, '__IPYTHON__': True, 'display': <function display at 0x104d029d0>, 'get_ipython': <bound method InteractiveShell.get_ipython of <ipykernel.zmqshell.ZMQInteractiveShell object at 0x1064ae550>>}, 'register_line_cell_magic': <function _function_magic_marker.<locals>.magic_deco at 0x104e28790>, 'display': <function display at 0x104d029d0>, 'Markdown': <class 'IPython.core.display.Markdown'>, 'generate_response': <function generate_response at 0x110564550>, 'output_text': <function output_text at 0x1105645e0>, 'output_code': <function output_code at 0x110564670>, '_context': <class 'bia_tischi._machinery._context'>, 'xbob': <function xbob at 0x1103efca0>, 'bob': <function bob at 0x110564820>, 'update_context_and_fetch_user_input': <function update_context_and_fetch_user_input at 0x1105648b0>, 'CustomAgent': <class 'bia_tischi._machinery.CustomAgent'>, 'init_assistant': <function init_assistant at 0x110564940>}\n",
      "Context variables:\n",
      "{'__name__': 'bia_tischi._machinery', '__doc__': None, '__package__': 'bia_tischi', '__loader__': <_frozen_importlib_external.SourceFileLoader object at 0x1103f0430>, '__spec__': ModuleSpec(name='bia_tischi._machinery', loader=<_frozen_importlib_external.SourceFileLoader object at 0x1103f0430>, origin='/Users/tischer/Documents/bia-tischi/src/bia_tischi/_machinery.py'), '__file__': '/Users/tischer/Documents/bia-tischi/src/bia_tischi/_machinery.py', '__cached__': '/Users/tischer/Documents/bia-tischi/src/bia_tischi/__pycache__/_machinery.cpython-39.pyc', '__builtins__': {'__name__': 'builtins', '__doc__': \"Built-in functions, exceptions, and other objects.\\n\\nNoteworthy: None is the `nil' object; Ellipsis represents `...' in slices.\", '__package__': '', '__loader__': <class '_frozen_importlib.BuiltinImporter'>, '__spec__': ModuleSpec(name='builtins', loader=<class '_frozen_importlib.BuiltinImporter'>, origin='built-in'), '__build_class__': <built-in function __build_class__>, '__import__': <built-in function __import__>, 'abs': <built-in function abs>, 'all': <built-in function all>, 'any': <built-in function any>, 'ascii': <built-in function ascii>, 'bin': <built-in function bin>, 'breakpoint': <built-in function breakpoint>, 'callable': <built-in function callable>, 'chr': <built-in function chr>, 'compile': <built-in function compile>, 'delattr': <built-in function delattr>, 'dir': <built-in function dir>, 'divmod': <built-in function divmod>, 'eval': <built-in function eval>, 'exec': <built-in function exec>, 'format': <built-in function format>, 'getattr': <built-in function getattr>, 'globals': <built-in function globals>, 'hasattr': <built-in function hasattr>, 'hash': <built-in function hash>, 'hex': <built-in function hex>, 'id': <built-in function id>, 'input': <bound method Kernel.raw_input of <ipykernel.ipkernel.IPythonKernel object at 0x106498fd0>>, 'isinstance': <built-in function isinstance>, 'issubclass': <built-in function issubclass>, 'iter': <built-in function iter>, 'len': <built-in function len>, 'locals': <built-in function locals>, 'max': <built-in function max>, 'min': <built-in function min>, 'next': <built-in function next>, 'oct': <built-in function oct>, 'ord': <built-in function ord>, 'pow': <built-in function pow>, 'print': <built-in function print>, 'repr': <built-in function repr>, 'round': <built-in function round>, 'setattr': <built-in function setattr>, 'sorted': <built-in function sorted>, 'sum': <built-in function sum>, 'vars': <built-in function vars>, 'None': None, 'Ellipsis': Ellipsis, 'NotImplemented': NotImplemented, 'False': False, 'True': True, 'bool': <class 'bool'>, 'memoryview': <class 'memoryview'>, 'bytearray': <class 'bytearray'>, 'bytes': <class 'bytes'>, 'classmethod': <class 'classmethod'>, 'complex': <class 'complex'>, 'dict': <class 'dict'>, 'enumerate': <class 'enumerate'>, 'filter': <class 'filter'>, 'float': <class 'float'>, 'frozenset': <class 'frozenset'>, 'property': <class 'property'>, 'int': <class 'int'>, 'list': <class 'list'>, 'map': <class 'map'>, 'object': <class 'object'>, 'range': <class 'range'>, 'reversed': <class 'reversed'>, 'set': <class 'set'>, 'slice': <class 'slice'>, 'staticmethod': <class 'staticmethod'>, 'str': <class 'str'>, 'super': <class 'super'>, 'tuple': <class 'tuple'>, 'type': <class 'type'>, 'zip': <class 'zip'>, '__debug__': True, 'BaseException': <class 'BaseException'>, 'Exception': <class 'Exception'>, 'TypeError': <class 'TypeError'>, 'StopAsyncIteration': <class 'StopAsyncIteration'>, 'StopIteration': <class 'StopIteration'>, 'GeneratorExit': <class 'GeneratorExit'>, 'SystemExit': <class 'SystemExit'>, 'KeyboardInterrupt': <class 'KeyboardInterrupt'>, 'ImportError': <class 'ImportError'>, 'ModuleNotFoundError': <class 'ModuleNotFoundError'>, 'OSError': <class 'OSError'>, 'EnvironmentError': <class 'OSError'>, 'IOError': <class 'OSError'>, 'EOFError': <class 'EOFError'>, 'RuntimeError': <class 'RuntimeError'>, 'RecursionError': <class 'RecursionError'>, 'NotImplementedError': <class 'NotImplementedError'>, 'NameError': <class 'NameError'>, 'UnboundLocalError': <class 'UnboundLocalError'>, 'AttributeError': <class 'AttributeError'>, 'SyntaxError': <class 'SyntaxError'>, 'IndentationError': <class 'IndentationError'>, 'TabError': <class 'TabError'>, 'LookupError': <class 'LookupError'>, 'IndexError': <class 'IndexError'>, 'KeyError': <class 'KeyError'>, 'ValueError': <class 'ValueError'>, 'UnicodeError': <class 'UnicodeError'>, 'UnicodeEncodeError': <class 'UnicodeEncodeError'>, 'UnicodeDecodeError': <class 'UnicodeDecodeError'>, 'UnicodeTranslateError': <class 'UnicodeTranslateError'>, 'AssertionError': <class 'AssertionError'>, 'ArithmeticError': <class 'ArithmeticError'>, 'FloatingPointError': <class 'FloatingPointError'>, 'OverflowError': <class 'OverflowError'>, 'ZeroDivisionError': <class 'ZeroDivisionError'>, 'SystemError': <class 'SystemError'>, 'ReferenceError': <class 'ReferenceError'>, 'MemoryError': <class 'MemoryError'>, 'BufferError': <class 'BufferError'>, 'Warning': <class 'Warning'>, 'UserWarning': <class 'UserWarning'>, 'DeprecationWarning': <class 'DeprecationWarning'>, 'PendingDeprecationWarning': <class 'PendingDeprecationWarning'>, 'SyntaxWarning': <class 'SyntaxWarning'>, 'RuntimeWarning': <class 'RuntimeWarning'>, 'FutureWarning': <class 'FutureWarning'>, 'ImportWarning': <class 'ImportWarning'>, 'UnicodeWarning': <class 'UnicodeWarning'>, 'BytesWarning': <class 'BytesWarning'>, 'ResourceWarning': <class 'ResourceWarning'>, 'ConnectionError': <class 'ConnectionError'>, 'BlockingIOError': <class 'BlockingIOError'>, 'BrokenPipeError': <class 'BrokenPipeError'>, 'ChildProcessError': <class 'ChildProcessError'>, 'ConnectionAbortedError': <class 'ConnectionAbortedError'>, 'ConnectionRefusedError': <class 'ConnectionRefusedError'>, 'ConnectionResetError': <class 'ConnectionResetError'>, 'FileExistsError': <class 'FileExistsError'>, 'FileNotFoundError': <class 'FileNotFoundError'>, 'IsADirectoryError': <class 'IsADirectoryError'>, 'NotADirectoryError': <class 'NotADirectoryError'>, 'InterruptedError': <class 'InterruptedError'>, 'PermissionError': <class 'PermissionError'>, 'ProcessLookupError': <class 'ProcessLookupError'>, 'TimeoutError': <class 'TimeoutError'>, 'open': <built-in function open>, 'copyright': Copyright (c) 2001-2023 Python Software Foundation.\n",
      "All Rights Reserved.\n",
      "\n",
      "Copyright (c) 2000 BeOpen.com.\n",
      "All Rights Reserved.\n",
      "\n",
      "Copyright (c) 1995-2001 Corporation for National Research Initiatives.\n",
      "All Rights Reserved.\n",
      "\n",
      "Copyright (c) 1991-1995 Stichting Mathematisch Centrum, Amsterdam.\n",
      "All Rights Reserved., 'credits':     Thanks to CWI, CNRI, BeOpen.com, Zope Corporation and a cast of thousands\n",
      "    for supporting Python development.  See www.python.org for more information., 'license': Type license() to see the full license text, 'help': Type help() for interactive help, or help(object) for help about object., 'execfile': <function execfile at 0x105eb3c10>, 'runfile': <function runfile at 0x1061b8310>, '__IPYTHON__': True, 'display': <function display at 0x104d029d0>, 'get_ipython': <bound method InteractiveShell.get_ipython of <ipykernel.zmqshell.ZMQInteractiveShell object at 0x1064ae550>>}, 'register_line_cell_magic': <function _function_magic_marker.<locals>.magic_deco at 0x104e28790>, 'display': <function display at 0x104d029d0>, 'Markdown': <class 'IPython.core.display.Markdown'>, 'generate_response': <function generate_response at 0x110564550>, 'output_text': <function output_text at 0x1105645e0>, 'output_code': <function output_code at 0x110564670>, '_context': <class 'bia_tischi._machinery._context'>, 'xbob': <function xbob at 0x1103efca0>, 'bob': <function bob at 0x110564820>, 'update_context_and_fetch_user_input': <function update_context_and_fetch_user_input at 0x1105648b0>, 'CustomAgent': <class 'bia_tischi._machinery.CustomAgent'>, 'init_assistant': <function init_assistant at 0x110564940>}\n"
     ]
    },
    {
     "ename": "NameError",
     "evalue": "name 'a' is not defined",
     "output_type": "error",
     "traceback": [
      "\u001b[0;31m---------------------------------------------------------------------------\u001b[0m",
      "\u001b[0;31mNameError\u001b[0m                                 Traceback (most recent call last)",
      "Cell \u001b[0;32mIn[2], line 10\u001b[0m\n\u001b[1;32m      7\u001b[0m bob\u001b[38;5;241m.\u001b[39minitialize(\u001b[38;5;28mglobals\u001b[39m())\n\u001b[1;32m      8\u001b[0m xbob\u001b[38;5;241m.\u001b[39minitialize(\u001b[38;5;28mglobals\u001b[39m())\n\u001b[0;32m---> 10\u001b[0m \u001b[43mget_ipython\u001b[49m\u001b[43m(\u001b[49m\u001b[43m)\u001b[49m\u001b[38;5;241;43m.\u001b[39;49m\u001b[43mrun_line_magic\u001b[49m\u001b[43m(\u001b[49m\u001b[38;5;124;43m'\u001b[39;49m\u001b[38;5;124;43mxbob\u001b[39;49m\u001b[38;5;124;43m'\u001b[39;49m\u001b[43m,\u001b[49m\u001b[43m \u001b[49m\u001b[38;5;124;43m'\u001b[39;49m\u001b[38;5;124;43mprint out the variable a\u001b[39;49m\u001b[38;5;124;43m'\u001b[39;49m\u001b[43m)\u001b[49m\n",
      "File \u001b[0;32m~/mambaforge/envs/chat-gpt-jupyter/lib/python3.9/site-packages/IPython/core/interactiveshell.py:2432\u001b[0m, in \u001b[0;36mInteractiveShell.run_line_magic\u001b[0;34m(self, magic_name, line, _stack_depth)\u001b[0m\n\u001b[1;32m   2430\u001b[0m     kwargs[\u001b[38;5;124m'\u001b[39m\u001b[38;5;124mlocal_ns\u001b[39m\u001b[38;5;124m'\u001b[39m] \u001b[38;5;241m=\u001b[39m \u001b[38;5;28mself\u001b[39m\u001b[38;5;241m.\u001b[39mget_local_scope(stack_depth)\n\u001b[1;32m   2431\u001b[0m \u001b[38;5;28;01mwith\u001b[39;00m \u001b[38;5;28mself\u001b[39m\u001b[38;5;241m.\u001b[39mbuiltin_trap:\n\u001b[0;32m-> 2432\u001b[0m     result \u001b[38;5;241m=\u001b[39m \u001b[43mfn\u001b[49m\u001b[43m(\u001b[49m\u001b[38;5;241;43m*\u001b[39;49m\u001b[43margs\u001b[49m\u001b[43m,\u001b[49m\u001b[43m \u001b[49m\u001b[38;5;241;43m*\u001b[39;49m\u001b[38;5;241;43m*\u001b[39;49m\u001b[43mkwargs\u001b[49m\u001b[43m)\u001b[49m\n\u001b[1;32m   2434\u001b[0m \u001b[38;5;66;03m# The code below prevents the output from being displayed\u001b[39;00m\n\u001b[1;32m   2435\u001b[0m \u001b[38;5;66;03m# when using magics with decorator @output_can_be_silenced\u001b[39;00m\n\u001b[1;32m   2436\u001b[0m \u001b[38;5;66;03m# when the last Python token in the expression is a ';'.\u001b[39;00m\n\u001b[1;32m   2437\u001b[0m \u001b[38;5;28;01mif\u001b[39;00m \u001b[38;5;28mgetattr\u001b[39m(fn, magic\u001b[38;5;241m.\u001b[39mMAGIC_OUTPUT_CAN_BE_SILENCED, \u001b[38;5;28;01mFalse\u001b[39;00m):\n",
      "File \u001b[0;32m~/Documents/bia-tischi/src/bia_tischi/_machinery.py:23\u001b[0m, in \u001b[0;36mxbob\u001b[0;34m(line, cell)\u001b[0m\n\u001b[1;32m     20\u001b[0m \u001b[38;5;28;01mif\u001b[39;00m user_input \u001b[38;5;129;01mis\u001b[39;00m \u001b[38;5;28;01mNone\u001b[39;00m:\n\u001b[1;32m     21\u001b[0m     display(\u001b[38;5;124m\"\u001b[39m\u001b[38;5;124mPlease ask a question!\u001b[39m\u001b[38;5;124m\"\u001b[39m)\n\u001b[0;32m---> 23\u001b[0m result \u001b[38;5;241m=\u001b[39m \u001b[43m_context\u001b[49m\u001b[38;5;241;43m.\u001b[39;49m\u001b[43magent\u001b[49m\u001b[38;5;241;43m.\u001b[39;49m\u001b[43mgenerate_and_execute_response\u001b[49m\u001b[43m(\u001b[49m\u001b[38;5;28;43minput\u001b[39;49m\u001b[38;5;241;43m=\u001b[39;49m\u001b[43muser_input\u001b[49m\u001b[43m)\u001b[49m\n\u001b[1;32m     24\u001b[0m output_text(result)\n",
      "File \u001b[0;32m~/Documents/bia-tischi/src/bia_tischi/_machinery.py:90\u001b[0m, in \u001b[0;36mCustomAgent.generate_and_execute_response\u001b[0;34m(self, input)\u001b[0m\n\u001b[1;32m     87\u001b[0m     \u001b[38;5;28mprint\u001b[39m(\u001b[38;5;124m\"\u001b[39m\u001b[38;5;124mContext variables:\u001b[39m\u001b[38;5;124m\"\u001b[39m)\n\u001b[1;32m     88\u001b[0m     \u001b[38;5;28mprint\u001b[39m(_context\u001b[38;5;241m.\u001b[39mvariables)\n\u001b[0;32m---> 90\u001b[0m \u001b[43mexec\u001b[49m\u001b[43m(\u001b[49m\u001b[43mcode\u001b[49m\u001b[43m,\u001b[49m\u001b[43m \u001b[49m\u001b[38;5;28;43mglobals\u001b[39;49m\u001b[43m(\u001b[49m\u001b[43m)\u001b[49m\u001b[43m)\u001b[49m\n\u001b[1;32m     92\u001b[0m \u001b[38;5;28;01mif\u001b[39;00m _context\u001b[38;5;241m.\u001b[39mverbose:\n\u001b[1;32m     93\u001b[0m     \u001b[38;5;28mprint\u001b[39m(\u001b[38;5;124m\"\u001b[39m\u001b[38;5;124mExecution done.\u001b[39m\u001b[38;5;124m\"\u001b[39m)\n",
      "File \u001b[0;32m<string>:1\u001b[0m\n",
      "\u001b[0;31mNameError\u001b[0m: name 'a' is not defined"
     ]
    }
   ],
   "source": [
    "import numpy as np\n",
    "from bia_tischi import bob, xbob\n",
    "from bia_tischi._machinery import _context\n",
    "\n",
    "_context.verbose = True\n",
    "\n",
    "bob.initialize(globals())\n",
    "xbob.initialize(globals())\n",
    "\n",
    "%xbob print out the variable a"
   ]
  },
  {
   "cell_type": "markdown",
   "id": "847ef918-65b2-4122-adb6-b2cabb46b1b4",
   "metadata": {},
   "source": [
    "We initially give bob access to all variables in the current scope."
   ]
  },
  {
   "cell_type": "code",
   "execution_count": null,
   "id": "00a53272-efae-4393-b639-d73d68655575",
   "metadata": {},
   "outputs": [],
   "source": [
    "bob.initialize(globals())"
   ]
  },
  {
   "cell_type": "markdown",
   "id": "dd2b4344-5cf9-4372-b57d-61e651f21041",
   "metadata": {},
   "source": [
    "Turn on debug mode to see what happens"
   ]
  },
  {
   "cell_type": "code",
   "execution_count": null,
   "id": "7a5caedb-8331-498c-9283-3e851852f7b2",
   "metadata": {},
   "outputs": [],
   "source": [
    "# from bia_tischi._machinery import _context\n",
    "# _context.verbose = True"
   ]
  },
  {
   "cell_type": "markdown",
   "id": "6b78c8e5-58d1-4750-b659-e639a2b99d2f",
   "metadata": {},
   "source": [
    "It works using the `%tischi` and `%%tischi` magic commands. Just enter tasks and ask questions. Hint: if you want to ask a question, you need to put a space before the `?`."
   ]
  },
  {
   "cell_type": "code",
   "execution_count": null,
   "id": "80439485-2899-4f51-b78e-3bf7f7c58e4d",
   "metadata": {},
   "outputs": [],
   "source": [
    "a = 5"
   ]
  },
  {
   "cell_type": "code",
   "execution_count": null,
   "id": "7f40c8a0-d0df-4b19-b43b-2d817ac5ee15",
   "metadata": {
    "tags": []
   },
   "outputs": [],
   "source": [
    "%bob print out the variable a"
   ]
  },
  {
   "cell_type": "code",
   "execution_count": null,
   "id": "e403391c",
   "metadata": {
    "collapsed": false,
    "jupyter": {
     "outputs_hidden": false
    }
   },
   "outputs": [],
   "source": [
    "%tischi load \"blobs.tif\", store it in the variable input_image and visualize it"
   ]
  },
  {
   "cell_type": "code",
   "execution_count": null,
   "id": "1729a4ab-8ba5-4cb2-8ce9-b13a72b74873",
   "metadata": {},
   "outputs": [],
   "source": [
    "%%tischi \n",
    "* Use Otsu's method to segment the image stored in the variable input_image, \n",
    "* apply connected component labeling to label individual objects, \n",
    "* store the result in the variable label_image, and \n",
    "* visualize the result"
   ]
  },
  {
   "cell_type": "code",
   "execution_count": null,
   "id": "db85a811-a2da-4d4b-a308-e065a62ab59b",
   "metadata": {},
   "outputs": [],
   "source": [
    "%tischi print out the number of objects in the label_image"
   ]
  },
  {
   "cell_type": "code",
   "execution_count": null,
   "id": "547ca431-88d9-4e75-8c95-611ba4009759",
   "metadata": {},
   "outputs": [],
   "source": [
    "%tischi measure mean_intensity and major axis length of the objects in the input_image using the label_image as labels. Store the result in a dataframe called df"
   ]
  },
  {
   "cell_type": "code",
   "execution_count": null,
   "id": "0b8a545c-c11a-4571-b302-f4e073f7e5a3",
   "metadata": {},
   "outputs": [],
   "source": [
    "%tischi show the dataframe df"
   ]
  },
  {
   "cell_type": "code",
   "execution_count": null,
   "id": "46d76bc3-3d0e-4d10-bb0f-687124de1199",
   "metadata": {},
   "outputs": [],
   "source": [
    "%tischi plot the mean_intensity against major_axis_length in the dataframe df "
   ]
  },
  {
   "cell_type": "code",
   "execution_count": null,
   "id": "bbc98506-ff23-4add-865f-b65e5adc42c8",
   "metadata": {},
   "outputs": [],
   "source": [
    "%tischi show a histogram of mean_intensity"
   ]
  },
  {
   "cell_type": "code",
   "execution_count": null,
   "id": "11bc5d02-99da-4935-a8be-cc177f167572",
   "metadata": {},
   "outputs": [],
   "source": [
    "%%tischi \n",
    "please segment all nuclei in the blobs.tif fluorescence microscopy grayscale image \n",
    "and show the resulting label mask"
   ]
  },
  {
   "cell_type": "code",
   "execution_count": null,
   "id": "e814d387-d208-43e3-9a6e-32c0e72ffd60",
   "metadata": {},
   "outputs": [],
   "source": [
    "%%tischi \n",
    "please segment all nuclei in the blobs.tif grayscale image \n",
    "and show the resulting label mask"
   ]
  },
  {
   "cell_type": "code",
   "execution_count": null,
   "id": "5945f79f-a7c4-4e3c-a070-bd8c574c25f6",
   "metadata": {},
   "outputs": [],
   "source": []
  },
  {
   "cell_type": "code",
   "execution_count": null,
   "id": "13c1520b-1fdb-4d35-92e8-6f3825e3f06d",
   "metadata": {},
   "outputs": [],
   "source": []
  }
 ],
 "metadata": {
  "kernelspec": {
   "display_name": "Python 3 (ipykernel)",
   "language": "python",
   "name": "python3"
  },
  "language_info": {
   "codemirror_mode": {
    "name": "ipython",
    "version": 3
   },
   "file_extension": ".py",
   "mimetype": "text/x-python",
   "name": "python",
   "nbconvert_exporter": "python",
   "pygments_lexer": "ipython3",
   "version": "3.9.18"
  }
 },
 "nbformat": 4,
 "nbformat_minor": 5
}
