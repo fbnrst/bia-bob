{
 "cells": [
  {
   "cell_type": "markdown",
   "id": "c18442ad-3205-496e-8d6b-b44a62896269",
   "metadata": {},
   "source": [
    "# Listing tools\n",
    "BIA Bob can list all available tools and explain them."
   ]
  },
  {
   "cell_type": "code",
   "execution_count": 1,
   "id": "5b82c4e6-bf35-42c2-ac61-23f54113f149",
   "metadata": {},
   "outputs": [
    {
     "data": {
      "text/plain": [
       "'0.2.0'"
      ]
     },
     "execution_count": 1,
     "metadata": {},
     "output_type": "execute_result"
    }
   ],
   "source": [
    "from bia_bob import bob\n",
    "bob.__version__"
   ]
  },
  {
   "cell_type": "code",
   "execution_count": 2,
   "id": "e46a428f-e367-45e3-aa7c-286df34b6d3a",
   "metadata": {},
   "outputs": [
    {
     "data": {
      "text/markdown": [
       "Here are the available tools and their purposes:\n",
       "\n",
       "1. `load_image`: Used for loading an image file.\n",
       "2. `load_csv`: Used for loading a CSV file as a pandas DataFrame.\n",
       "3. `image_size`: Used for determining the size or shape of an image.\n",
       "4. `gaussian_blur`: Used for removing noise from an image using Gaussian blur.\n",
       "5. `median_filter`: Used for removing noise from an image using median filtering.\n",
       "6. `top_hat`: Used for removing background from an image using the Top-Hat filter.\n",
       "7. `morphological_gradient`: Used for enhancing edges in an image using the Morphological Gradient filter.\n",
       "8. `segment_bright_objects`: Used for segmenting bright objects in an image using the Voronoi-Otsu-Labeling algorithm.\n",
       "9. `segment_dark_objects_with_bright_borders`: Used for segmenting dark objects with bright borders in an image using the Local-Minima-Seeded-Watershed algorithm.\n",
       "10. `show_image`: Used for displaying an image.\n",
       "11. `count_objects`: Used for counting objects in a segmented image.\n",
       "12. `slice`: Used for interactively slicing through a 3D image.\n",
       "13. `picker`: Used for interactively inspecting images and picking pixel intensities.\n",
       "14. `orthogonal`: Used for interactively inspecting 3D image stacks using orthogonal views.\n",
       "15. `curtain`: Used for blending one image over another using an interactive curtain.\n",
       "16. `list_tools`: Used for listing all available tools.\n",
       "17. `list_dataframes`: Used for listing all available dataframes.\n",
       "18. `list_images`: Used for listing all available images.\n",
       "19. `list_files_in_folder`: Used for listing all files in a folder.\n",
       "20. `multiply_image_with_factor`: Used for multiplying the pixel values in an image by a factor.\n",
       "21. `extract_features`: Used for extracting features from a label image and an intensity image.\n",
       "22. `show_dataframe`: Used for displaying a stored dataframe.\n",
       "23. `list_columns_of_dataframe`: Used for listing the columns of a stored dataframe.\n",
       "24. `plot_columns_in_dataframe`: Used for plotting columns in a dataframe."
      ],
      "text/plain": [
       "<IPython.core.display.Markdown object>"
      ]
     },
     "metadata": {},
     "output_type": "display_data"
    }
   ],
   "source": [
    "%bob can you list all available tools and what they are good for ?"
   ]
  },
  {
   "cell_type": "code",
   "execution_count": 3,
   "id": "900aef7a-404e-4214-b314-f1b40eda0933",
   "metadata": {},
   "outputs": [
    {
     "data": {
      "text/markdown": [
       "1. `segment_bright_objects`: Segments bright objects in an image using the Voronoi-Otsu-Labeling algorithm.\n",
       "2. `segment_dark_objects_with_bright_borders`: Segments dark objects with bright borders in an image using the Local-Minima-Seeded-Watershed algorithm."
      ],
      "text/plain": [
       "<IPython.core.display.Markdown object>"
      ]
     },
     "metadata": {},
     "output_type": "display_data"
    }
   ],
   "source": [
    "%bob please list the explanations for all available segmentation tools"
   ]
  },
  {
   "cell_type": "code",
   "execution_count": null,
   "id": "f3a327d2-ef91-43c0-ae6b-4e0d96626892",
   "metadata": {},
   "outputs": [],
   "source": []
  }
 ],
 "metadata": {
  "kernelspec": {
   "display_name": "Python 3 (ipykernel)",
   "language": "python",
   "name": "python3"
  },
  "language_info": {
   "codemirror_mode": {
    "name": "ipython",
    "version": 3
   },
   "file_extension": ".py",
   "mimetype": "text/x-python",
   "name": "python",
   "nbconvert_exporter": "python",
   "pygments_lexer": "ipython3",
   "version": "3.9.16"
  }
 },
 "nbformat": 4,
 "nbformat_minor": 5
}
