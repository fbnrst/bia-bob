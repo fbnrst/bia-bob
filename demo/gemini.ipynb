{
 "cells": [
  {
   "cell_type": "code",
   "execution_count": 1,
   "id": "2c2e0fb7-0df2-4a9b-b497-5ca62a0aa2af",
   "metadata": {},
   "outputs": [
    {
     "data": {
      "text/plain": [
       "'0.7.0'"
      ]
     },
     "execution_count": 1,
     "metadata": {},
     "output_type": "execute_result"
    }
   ],
   "source": [
    "from bia_bob import bob\n",
    "bob.__version__"
   ]
  },
  {
   "cell_type": "code",
   "execution_count": 2,
   "id": "f9c0e70d-1d7c-45cd-b094-4df5f47e5919",
   "metadata": {},
   "outputs": [],
   "source": [
    "bob.initialize(\"gemini-pro\")"
   ]
  },
  {
   "cell_type": "code",
   "execution_count": 3,
   "id": "0106862b-8c2a-48af-a83d-2cf045368596",
   "metadata": {},
   "outputs": [
    {
     "data": {
      "text/markdown": [
       "1. Load the image `blobs.tif` using `aicsimageio`.\n",
       "2. Segment the image using the Voronoi-Otsu-Labeling method in `pyclesperanto_prototype`.\n",
       "3. Display the original image and the resulting label image together using `stackview`.\n",
       "\n"
      ],
      "text/plain": [
       "<IPython.core.display.Markdown object>"
      ]
     },
     "metadata": {},
     "output_type": "display_data"
    }
   ],
   "source": [
    "%%bob\n",
    "load blobs.tif,\n",
    "segment it using Voronoi-Otsu-Labeling in pyclesperanto_prototype\n",
    "and show the image and the resulting label image together"
   ]
  },
  {
   "cell_type": "code",
   "execution_count": 4,
   "id": "17795a64-bd11-4bf3-95c0-6465fbf6e834",
   "metadata": {},
   "outputs": [
    {
     "data": {
      "application/vnd.jupyter.widget-view+json": {
       "model_id": "7c06454ceffe4600b184eec374b6a679",
       "version_major": 2,
       "version_minor": 0
      },
      "text/plain": [
       "VBox(children=(HBox(children=(VBox(children=(ImageWidget(height=254, width=256),)),)), IntSlider(value=0, desc…"
      ]
     },
     "execution_count": 4,
     "metadata": {},
     "output_type": "execute_result"
    }
   ],
   "source": [
    "import aicsimageio\n",
    "import pyclesperanto_prototype as csp\n",
    "import stackview\n",
    "\n",
    "# Load the image\n",
    "image = aicsimageio.AICSImage(\"blobs.tif\")\n",
    "image = image.get_image_data(\"ZYX\")\n",
    "\n",
    "# Segment the image\n",
    "labels = csp.voronoi_otsu_labeling(image)\n",
    "\n",
    "# Display the original image and the resulting label image together\n",
    "stackview.curtain(image, labels)"
   ]
  },
  {
   "cell_type": "code",
   "execution_count": 5,
   "id": "c308e425-1b9a-45f9-bd69-2e0da41de31a",
   "metadata": {},
   "outputs": [],
   "source": [
    "bob.initialize(\"gpt-3.5-turbo\")"
   ]
  },
  {
   "cell_type": "code",
   "execution_count": 6,
   "id": "57179a56-e407-4991-941c-5bea6ad496bd",
   "metadata": {},
   "outputs": [
    {
     "data": {
      "text/markdown": [
       "Here is a concise step-by-step plan to load the image \"blobs.tif\", segment it using Voronoi-Otsu-Labeling in `pyclesperanto_prototype`, and show the image and resulting label image together:\n",
       "\n",
       "1. Load the image \"blobs.tif\" using `aicsimageio`.\n",
       "2. Convert the loaded image to a 2D numpy array.\n",
       "3. Preprocess the image (if necessary) to enhance the quality of the segmentation.\n",
       "4. Segment the preprocessed image using Voronoi-Otsu-Labeling in `pyclesperanto_prototype`.\n",
       "5. Display the original image and the resulting label image together using `stackview`.\n",
       "\n",
       "And here is the code to perform the above steps:\n",
       "\n"
      ],
      "text/plain": [
       "<IPython.core.display.Markdown object>"
      ]
     },
     "metadata": {},
     "output_type": "display_data"
    }
   ],
   "source": [
    "%%bob\n",
    "load blobs.tif,\n",
    "segment it using Voronoi-Otsu-Labeling in pyclesperanto_prototype\n",
    "and show the image and the resulting label image together"
   ]
  },
  {
   "cell_type": "code",
   "execution_count": 7,
   "id": "2ed7cb3a-ba3c-4661-b820-48c52aa1eb1f",
   "metadata": {},
   "outputs": [
    {
     "name": "stderr",
     "output_type": "stream",
     "text": [
      "c:\\structure\\code\\pyclesperanto_prototype\\pyclesperanto_prototype\\_tier0\\_device.py:77: UserWarning: No OpenCL device found with cpu in their name. Using gfx1035 instead.\n",
      "  warnings.warn(f\"No OpenCL device found with {name} in their name. Using {device.name} instead.\")\n"
     ]
    },
    {
     "data": {
      "application/vnd.jupyter.widget-view+json": {
       "model_id": "467cbad40d4e49429d31eaa7f56ab787",
       "version_major": 2,
       "version_minor": 0
      },
      "text/plain": [
       "VBox(children=(HBox(children=(VBox(children=(ImageWidget(height=256, width=254),)),)), IntSlider(value=128, de…"
      ]
     },
     "execution_count": 7,
     "metadata": {},
     "output_type": "execute_result"
    }
   ],
   "source": [
    "from aicsimageio import AICSImage\n",
    "import numpy as np\n",
    "import pyclesperanto_prototype as cle\n",
    "import stackview\n",
    "\n",
    "# Step 1: Load the image\n",
    "aics_image = AICSImage(\"blobs.tif\")\n",
    "image = aics_image.get_image_data(\"XY\")\n",
    "image = np.squeeze(image)  # convert to 2D\n",
    "\n",
    "# Step 2: Normalize the image if necessary\n",
    "# (perform any preprocessing you need)\n",
    "\n",
    "# Step 3: Segment the image using Voronoi-Otsu-Labeling\n",
    "cle.select_device(\"cpu\")  # If you have GPU, you can switch to \"gpu\"\n",
    "cle_image = cle.push(image)\n",
    "labels = cle.voronoi_otsu_labeling(cle_image)\n",
    "\n",
    "# Step 4: Display the image and labels\n",
    "stackview.curtain(image, labels)"
   ]
  },
  {
   "cell_type": "code",
   "execution_count": null,
   "id": "3d0c592a-a519-4e6f-9806-6d7795509202",
   "metadata": {},
   "outputs": [],
   "source": []
  }
 ],
 "metadata": {
  "kernelspec": {
   "display_name": "Python 3 (ipykernel)",
   "language": "python",
   "name": "python3"
  },
  "language_info": {
   "codemirror_mode": {
    "name": "ipython",
    "version": 3
   },
   "file_extension": ".py",
   "mimetype": "text/x-python",
   "name": "python",
   "nbconvert_exporter": "python",
   "pygments_lexer": "ipython3",
   "version": "3.9.16"
  }
 },
 "nbformat": 4,
 "nbformat_minor": 5
}
