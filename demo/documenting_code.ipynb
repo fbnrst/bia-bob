{
 "cells": [
  {
   "cell_type": "markdown",
   "id": "18e8d7f0-88ca-4384-bacf-e76011c0a097",
   "metadata": {},
   "source": [
    "# Documenting code\n",
    "Bob can be used to document code. If you put the `%%document` magic at the beginning of a cell..."
   ]
  },
  {
   "cell_type": "code",
   "execution_count": 1,
   "id": "6430b191-58af-4d84-b76e-39d7a9e1a38b",
   "metadata": {},
   "outputs": [],
   "source": [
    "import bia_bob"
   ]
  },
  {
   "cell_type": "code",
   "execution_count": 2,
   "id": "6cf2a6ee-c0dd-48a5-bad4-03b086f43cf6",
   "metadata": {},
   "outputs": [],
   "source": [
    "%%document\n",
    "def segmentation(image):\n",
    "    from skimage.filters import threshold_otsu\n",
    "    from skimage.measure import label\n",
    "    threshold = threshold_otsu(image)\n",
    "    binary = image > threshold\n",
    "    labels = label(binary)\n",
    "    return labels"
   ]
  },
  {
   "cell_type": "markdown",
   "id": "208bc3f0-b867-44c1-b65f-8a8b03e9af14",
   "metadata": {},
   "source": [
    "... the cell will get updated when executing it. Note: In case there is `%%document` at the beginning of a cell, the code will not be executed, it will just be replaced."
   ]
  },
  {
   "cell_type": "code",
   "execution_count": null,
   "id": "39a6f6b9-51ce-4872-9370-660765514476",
   "metadata": {},
   "outputs": [],
   "source": [
    "%%document\n",
    "def segmentation(image):\n",
    "    from skimage.filters import threshold_otsu\n",
    "    from skimage.measure import label\n",
    "    threshold = threshold_otsu(image)\n",
    "    binary = image > threshold\n",
    "    labels = label(binary)\n",
    "    return labels"
   ]
  }
 ],
 "metadata": {
  "kernelspec": {
   "display_name": "Python 3 (ipykernel)",
   "language": "python",
   "name": "python3"
  },
  "language_info": {
   "codemirror_mode": {
    "name": "ipython",
    "version": 3
   },
   "file_extension": ".py",
   "mimetype": "text/x-python",
   "name": "python",
   "nbconvert_exporter": "python",
   "pygments_lexer": "ipython3",
   "version": "3.9.16"
  }
 },
 "nbformat": 4,
 "nbformat_minor": 5
}
