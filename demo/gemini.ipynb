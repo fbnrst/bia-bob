{
 "cells": [
  {
   "cell_type": "code",
   "execution_count": null,
   "id": "2c2e0fb7-0df2-4a9b-b497-5ca62a0aa2af",
   "metadata": {},
   "outputs": [],
   "source": [
    "from bia_bob import bob\n",
    "bob.__version__"
   ]
  },
  {
   "cell_type": "code",
   "execution_count": 12,
   "id": "f9c0e70d-1d7c-45cd-b094-4df5f47e5919",
   "metadata": {},
   "outputs": [],
   "source": [
    "bob.initialize(\"gemini-pro\")"
   ]
  },
  {
   "cell_type": "code",
   "execution_count": 13,
   "id": "0106862b-8c2a-48af-a83d-2cf045368596",
   "metadata": {},
   "outputs": [
    {
     "data": {
      "text/markdown": [
       "1. Load the image `blobs.tif` using the `imread` function.\n",
       "2. Segment the image using the Voronoi-Otsu-Labeling algorithm in the `pyclesperanto_prototype` library.\n",
       "3. Display the original image and the segmented image together using the `stackview.curtain` function.\n",
       "\n"
      ],
      "text/plain": [
       "<IPython.core.display.Markdown object>"
      ]
     },
     "metadata": {},
     "output_type": "display_data"
    }
   ],
   "source": [
    "%%bob\n",
    "load blobs.tif,\n",
    "segment it using the Voronoi-Otsu-Labeling algorithm in the library pyclesperanto_prototype\n",
    "and show the image and the resulting label image together"
   ]
  },
  {
   "cell_type": "code",
   "execution_count": 14,
   "id": "e980375d-b17a-4a3a-9d71-c27dfdb3cb80",
   "metadata": {},
   "outputs": [
    {
     "data": {
      "application/vnd.jupyter.widget-view+json": {
       "model_id": "592616cd8aab4d8ea135366df7363ab3",
       "version_major": 2,
       "version_minor": 0
      },
      "text/plain": [
       "VBox(children=(HBox(children=(VBox(children=(ImageWidget(height=254, width=256),)),)), IntSlider(value=127, de…"
      ]
     },
     "execution_count": 14,
     "metadata": {},
     "output_type": "execute_result"
    }
   ],
   "source": [
    "import skimage.io as io\n",
    "import pyclesperanto_prototype as pyc\n",
    "import stackview\n",
    "\n",
    "# 1. Load the image\n",
    "image = io.imread('blobs.tif')\n",
    "\n",
    "# 2. Segment the image\n",
    "labels = pyc.voronoi_otsu_labeling(image)\n",
    "\n",
    "# 3. Display the original image and the segmented image together\n",
    "stackview.curtain(image, labels)"
   ]
  },
  {
   "cell_type": "code",
   "execution_count": 15,
   "id": "c308e425-1b9a-45f9-bd69-2e0da41de31a",
   "metadata": {},
   "outputs": [],
   "source": [
    "bob.initialize(\"gpt-3.5-turbo\")"
   ]
  },
  {
   "cell_type": "code",
   "execution_count": 16,
   "id": "57179a56-e407-4991-941c-5bea6ad496bd",
   "metadata": {},
   "outputs": [
    {
     "data": {
      "text/markdown": [],
      "text/plain": [
       "<IPython.core.display.Markdown object>"
      ]
     },
     "metadata": {},
     "output_type": "display_data"
    }
   ],
   "source": [
    "%%bob\n",
    "load blobs.tif,\n",
    "show it,\n",
    "segment it using the Voronoi-Otsu-Labeling algorithm in the library pyclesperanto_prototype\n",
    "and show the result"
   ]
  },
  {
   "cell_type": "code",
   "execution_count": null,
   "id": "13746250-9482-4ea9-a94d-54815fa1a0ab",
   "metadata": {},
   "outputs": [],
   "source": [
    "from skimage.io import imread\n",
    "import pyclesperanto_prototype as cle\n",
    "import stackview\n",
    "\n",
    "# Step 1: Load the \"blobs.tif\" image file\n",
    "image = imread(\"blobs.tif\")\n",
    "\n",
    "# Step 2: Show the loaded image\n",
    "stackview.insight(image)\n",
    "\n",
    "# Step 3: Segment the image using the Voronoi-Otsu-Labeling algorithm\n",
    "labels = cle.voronoi_otsu_labeling(image)\n",
    "\n",
    "# Step 4: Display the segmented image\n",
    "stackview.curtain(image, labels)"
   ]
  },
  {
   "cell_type": "code",
   "execution_count": null,
   "id": "b7d8dbc1-94c4-4a04-ade2-bb790cd94d60",
   "metadata": {},
   "outputs": [],
   "source": []
  }
 ],
 "metadata": {
  "kernelspec": {
   "display_name": "Python 3 (ipykernel)",
   "language": "python",
   "name": "python3"
  },
  "language_info": {
   "codemirror_mode": {
    "name": "ipython",
    "version": 3
   },
   "file_extension": ".py",
   "mimetype": "text/x-python",
   "name": "python",
   "nbconvert_exporter": "python",
   "pygments_lexer": "ipython3",
   "version": "3.9.16"
  }
 },
 "nbformat": 4,
 "nbformat_minor": 5
}
