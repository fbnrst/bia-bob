{
 "cells": [
  {
   "cell_type": "code",
   "execution_count": 1,
   "id": "370cf3ae-7b85-43c4-b042-c835db1507db",
   "metadata": {},
   "outputs": [
    {
     "name": "stdout",
     "output_type": "stream",
     "text": [
      "Assistant initialised.\n",
      "\n",
      "You can call it using the %ai command, e.g.\n",
      "\n",
      "%ai please generate a random 2D grayscale image.\n"
     ]
    }
   ],
   "source": [
    "import openai\n",
    "from bia_tischi._utilities import available_models\n",
    "from bia_tischi._machinery import init_assistant\n",
    "from bia_tischi._machinery import Context\n",
    "\n",
    "Context.verbose = True\n",
    "init_assistant(\"gpt-3.5-turbo\", 0)\n"
   ]
  },
  {
   "cell_type": "code",
   "execution_count": 5,
   "id": "c8e6e4f5-8c35-476e-8bb7-5c256aab75ee",
   "metadata": {},
   "outputs": [
    {
     "data": {
      "text/markdown": [
       "### Assistant response\n",
       "\n",
       "Here is the step-by-step plan:\n",
       "\n",
       "1. Import the necessary libraries.\n",
       "2. Generate random pixel values for a 2D grayscale image using the NumPy library.\n",
       "3. Create the image using the generated pixel values.\n",
       "4. Display the image using matplotlib.\n",
       "5. Save the generated image in a variable.\n",
       "\n",
       "Here is the code:\n",
       "#### Additional information\n",
       "\n",
       "The code was put into the next cell.  It is your responsibility to carefully check it before executing it!"
      ],
      "text/plain": [
       "<IPython.core.display.Markdown object>"
      ]
     },
     "metadata": {},
     "output_type": "display_data"
    }
   ],
   "source": [
    "Context.verbose = False\n",
    "%ai please generate a random 2D grayscale image."
   ]
  },
  {
   "cell_type": "code",
   "execution_count": null,
   "id": "aeb17b1a-75cb-4299-a7b6-777b4a959447",
   "metadata": {},
   "outputs": [],
   "source": [
    "import numpy as np\n",
    "import matplotlib.pyplot as plt\n",
    "\n",
    "# Generate random pixel values\n",
    "image = np.random.randint(0, 256, size=(512, 512))\n",
    "\n",
    "# Display the image\n",
    "plt.imshow(image, cmap='gray')\n",
    "plt.axis('off')\n",
    "plt.show()\n",
    "\n",
    "# Save the generated image in a variable\n",
    "Out = image"
   ]
  },
  {
   "cell_type": "code",
   "execution_count": null,
   "id": "6db05829-612f-480e-b3c5-2f3ff9649557",
   "metadata": {},
   "outputs": [],
   "source": []
  }
 ],
 "metadata": {
  "kernelspec": {
   "display_name": "Python 3 (ipykernel)",
   "language": "python",
   "name": "python3"
  },
  "language_info": {
   "codemirror_mode": {
    "name": "ipython",
    "version": 3
   },
   "file_extension": ".py",
   "mimetype": "text/x-python",
   "name": "python",
   "nbconvert_exporter": "python",
   "pygments_lexer": "ipython3",
   "version": "3.9.18"
  }
 },
 "nbformat": 4,
 "nbformat_minor": 5
}
