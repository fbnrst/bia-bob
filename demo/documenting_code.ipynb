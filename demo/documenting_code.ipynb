{
 "cells": [
  {
   "cell_type": "markdown",
   "id": "18e8d7f0-88ca-4384-bacf-e76011c0a097",
   "metadata": {},
   "source": [
    "# Documenting code\n",
    "Bob can be used to document code. If you put the `%%document` magic at the beginning of a cell..."
   ]
  },
  {
   "cell_type": "code",
   "execution_count": 1,
   "id": "6430b191-58af-4d84-b76e-39d7a9e1a38b",
   "metadata": {},
   "outputs": [],
   "source": [
    "import bia_bob"
   ]
  },
  {
   "cell_type": "code",
   "execution_count": null,
   "id": "6cf2a6ee-c0dd-48a5-bad4-03b086f43cf6",
   "metadata": {},
   "outputs": [],
   "source": [
    "%%document\n",
    "def segmentation(image):\n",
    "    from skimage.filters import threshold_otsu\n",
    "    from skimage.measure import label\n",
    "    threshold = threshold_otsu(image)\n",
    "    binary = image > threshold\n",
    "    labels = label(binary)\n",
    "    return labels"
   ]
  },
  {
   "cell_type": "markdown",
   "id": "208bc3f0-b867-44c1-b65f-8a8b03e9af14",
   "metadata": {},
   "source": [
    "... the cell will get updated when executing it. Note: In case there is `%%document` at the beginning of a cell, the code will not be executed, it will just be replaced. For example the code above could be replaced with this:"
   ]
  },
  {
   "cell_type": "code",
   "execution_count": 2,
   "id": "39a6f6b9-51ce-4872-9370-660765514476",
   "metadata": {},
   "outputs": [],
   "source": [
    "import numpy as np\n",
    "from skimage.filters import threshold_otsu\n",
    "from skimage.measure import label\n",
    "\n",
    "def segmentation(image):\n",
    "    \"\"\"\n",
    "    Perform image segmentation using Otsu's thresholding method.\n",
    "\n",
    "    Parameters\n",
    "    ----------\n",
    "    image : ndarray\n",
    "        Input image.\n",
    "\n",
    "    Returns\n",
    "    -------\n",
    "    labels : ndarray\n",
    "        Labeled image.\n",
    "\n",
    "    Notes\n",
    "    -----\n",
    "    Otsu's thresholding method automatically calculates an optimal threshold\n",
    "    value to separate the foreground and background pixels in an image.\n",
    "    This threshold value is used to create a binary image, where the pixels\n",
    "    above the threshold are considered foreground and the pixels below or\n",
    "    equal to the threshold are considered background.\n",
    "\n",
    "    The binary image is then labeled to identify the connected components,\n",
    "    which represent different objects or regions in the image.\n",
    "\n",
    "    Examples\n",
    "    --------\n",
    "    >>> segmented_image = segmentation(image)\n",
    "    \"\"\"\n",
    "    # Calculate the threshold value using Otsu's method\n",
    "    threshold = threshold_otsu(image)\n",
    "\n",
    "    # Create a binary image using the threshold\n",
    "    binary = image > threshold\n",
    "\n",
    "    # Label the connected components in the binary image\n",
    "    labels = label(binary)\n",
    "\n",
    "    return labels"
   ]
  },
  {
   "cell_type": "code",
   "execution_count": null,
   "id": "50fed2a0-e36d-4825-80ad-cdec46987636",
   "metadata": {},
   "outputs": [],
   "source": []
  }
 ],
 "metadata": {
  "kernelspec": {
   "display_name": "Python 3 (ipykernel)",
   "language": "python",
   "name": "python3"
  },
  "language_info": {
   "codemirror_mode": {
    "name": "ipython",
    "version": 3
   },
   "file_extension": ".py",
   "mimetype": "text/x-python",
   "name": "python",
   "nbconvert_exporter": "python",
   "pygments_lexer": "ipython3",
   "version": "3.9.16"
  }
 },
 "nbformat": 4,
 "nbformat_minor": 5
}
