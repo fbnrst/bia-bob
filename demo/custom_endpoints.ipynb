{
 "cells": [
  {
   "cell_type": "markdown",
   "id": "b1880ec0-dfa0-48c1-82ab-e8bc0c4f9dc1",
   "metadata": {},
   "source": [
    "# Using custom endpoints\n",
    "You can also access alternative endpoints for prompting, such as [ollama](https://ollama.com/) or the [blablador](https://login.helmholtz.de/oauth2-as/oauth2-authz-web-entry) service provided by the Helmholtz foundation."
   ]
  },
  {
   "cell_type": "code",
   "execution_count": 1,
   "id": "54151cc0-94f9-4d2b-ba26-3b4511eff07a",
   "metadata": {},
   "outputs": [
    {
     "data": {
      "text/plain": [
       "'0.10.1'"
      ]
     },
     "execution_count": 1,
     "metadata": {},
     "output_type": "execute_result"
    }
   ],
   "source": [
    "import os\n",
    "from bia_bob import bob\n",
    "bob.__version__"
   ]
  },
  {
   "cell_type": "markdown",
   "id": "678d1dfb-1830-4afe-9aed-7cbccf7ec6ce",
   "metadata": {},
   "source": [
    "## Ollama\n",
    "For using `bia-bob` with [Ollama](https://ollama.com) you need to run a local `ollama` instance. Therefore, download and install `ollama` and run `ollama serve` from a separate terminal window. You should also have downloaded `ollama run codellama` once in the past to make the following cell work."
   ]
  },
  {
   "cell_type": "code",
   "execution_count": 2,
   "id": "f72b7e11-de17-43fb-b6cd-c5f008b7f268",
   "metadata": {},
   "outputs": [],
   "source": [
    "bob.initialize(endpoint='ollama', model='codellama')"
   ]
  },
  {
   "cell_type": "markdown",
   "id": "8771f7ca-1ad4-46de-a902-2d8fb5ff8988",
   "metadata": {},
   "source": [
    "Afterwards, you can use `bob` as usual."
   ]
  },
  {
   "cell_type": "code",
   "execution_count": 3,
   "id": "46b8f1b4-8b64-40d2-8fc7-c510ef7c51c2",
   "metadata": {},
   "outputs": [
    {
     "data": {
      "text/markdown": [
       "I will load the \"blobs.tif\" image, apply a threshold to it, find all connected components, and then display the resulting label image.\n",
       "\n"
      ],
      "text/plain": [
       "<IPython.core.display.Markdown object>"
      ]
     },
     "metadata": {},
     "output_type": "display_data"
    }
   ],
   "source": [
    "%bob load blobs.tif, segment the blobs, label individual objects and show the resulting label image."
   ]
  },
  {
   "cell_type": "code",
   "execution_count": null,
   "id": "e21bcafe-83d1-4d12-8fa5-49a8d61ad916",
   "metadata": {},
   "outputs": [],
   "source": [
    "from skimage import io, filters, measure, segmentation, stackview\n",
    "import numpy as np\n",
    "\n",
    "# Load the \"blobs.tif\" image\n",
    "im = io.imread(\"blobs.tif\")\n",
    "\n",
    "# Apply a binary thresholding filter to separate light regions from dark regions in the image\n",
    "thresholded_image = filters.threshold(im, 0.5)\n",
    "\n",
    "# Use the label() function to find all connected components (i.e., blobs) in the thresholded image and label them individually\n",
    "label_image = segmentation.label(thresholded_image)\n",
    "\n",
    "# Display the resulting label image using the stackview.insight() function\n",
    "stackview.insight(label_image)"
   ]
  },
  {
   "cell_type": "markdown",
   "id": "4c5d5028-3dbe-4e1e-8ff8-222d2bf2a0a2",
   "metadata": {},
   "source": [
    "## Blablador\n",
    "We now do this again for blablador."
   ]
  },
  {
   "cell_type": "code",
   "execution_count": 4,
   "id": "ed3f8372-bdfa-47aa-865a-aa9f9eb18600",
   "metadata": {},
   "outputs": [],
   "source": [
    "bob.initialize(\n",
    "    endpoint='https://helmholtz-blablador.fz-juelich.de:8000/v1', \n",
    "    api_key=os.environ.get('BLABLADOR_API_KEY'), \n",
    "    model='Mistral-7B-Instruct-v0.2')"
   ]
  },
  {
   "cell_type": "code",
   "execution_count": 5,
   "id": "caa31fd3-172e-4c14-b010-ebf801108152",
   "metadata": {},
   "outputs": [
    {
     "name": "stdout",
     "output_type": "stream",
     "text": [
      "There was an issue. Retrying (1/3)...\n"
     ]
    },
    {
     "data": {
      "text/markdown": [
       "I will load the \"blobs.tif\" image, segment the blobs using Otsu's thresholding method, label individual objects, and display the resulting label image.\n",
       "\n"
      ],
      "text/plain": [
       "<IPython.core.display.Markdown object>"
      ]
     },
     "metadata": {},
     "output_type": "display_data"
    }
   ],
   "source": [
    "%bob load blobs.tif, segment the blobs, label individual objects and show the resulting label image."
   ]
  },
  {
   "cell_type": "code",
   "execution_count": null,
   "id": "f69763bb-d68d-4111-911e-220ebc284b6f",
   "metadata": {},
   "outputs": [],
   "source": [
    "from skimage import io, filters, measure, segmentation, stackview\n",
    "import numpy as np\n",
    "\n",
    "# Load the \"blobs.tif\" image\n",
    "im = io.imread(\"blobs.tif\")\n",
    "\n",
    "# Apply Otsu's thresholding method to segment the blobs\n",
    "thresholded_image = filters.threshold(im, value=np.amax(np.unique(im)), method='otsu')\n",
    "\n",
    "# Use the label() function to label individual objects in the segmented image\n",
    "label_image = measure.label(thresholded_image)\n",
    "\n",
    "# Display the resulting label image using the stackview.insight() function\n",
    "stackview.insight(label_image)"
   ]
  },
  {
   "cell_type": "markdown",
   "id": "beb38ec0-2762-4cb3-8863-540e3b759933",
   "metadata": {},
   "source": [
    "## Listing available models on blablador\n",
    "You can list available models like this:"
   ]
  },
  {
   "cell_type": "code",
   "execution_count": 6,
   "id": "91c3c1a7-fe42-4548-b621-3620dbc0d5d5",
   "metadata": {},
   "outputs": [
    {
     "data": {
      "text/plain": [
       "['Mistral-7B-Instruct-v0.2',\n",
       " 'Mixtral-8x7B-Instruct-v0.1',\n",
       " 'alias-large',\n",
       " 'cosmosage_v2',\n",
       " 'gemma-7b-it',\n",
       " 'zephyr-7b-beta']"
      ]
     },
     "execution_count": 6,
     "metadata": {},
     "output_type": "execute_result"
    }
   ],
   "source": [
    "from bia_bob import available_models\n",
    "available_models(\n",
    "    endpoint='https://helmholtz-blablador.fz-juelich.de:8000/v1', \n",
    "    api_key=os.environ.get('BLABLADOR_API_KEY')\n",
    ")"
   ]
  }
 ],
 "metadata": {
  "kernelspec": {
   "display_name": "Python 3 (ipykernel)",
   "language": "python",
   "name": "python3"
  },
  "language_info": {
   "codemirror_mode": {
    "name": "ipython",
    "version": 3
   },
   "file_extension": ".py",
   "mimetype": "text/x-python",
   "name": "python",
   "nbconvert_exporter": "python",
   "pygments_lexer": "ipython3",
   "version": "3.9.18"
  }
 },
 "nbformat": 4,
 "nbformat_minor": 5
}
