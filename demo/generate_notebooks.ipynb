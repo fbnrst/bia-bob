{
 "cells": [
  {
   "cell_type": "markdown",
   "id": "bbd93ac1-f79b-491c-88b4-50807b541b6e",
   "metadata": {},
   "source": [
    "# Generating notebooks\n",
    "When working on complex tasks, it may make sense to generate an entire notebook for the task. \n",
    "Hence, we can ask bob to generate a notebook for a series of tasks."
   ]
  },
  {
   "cell_type": "code",
   "execution_count": 1,
   "id": "51256f2d-e4cb-4c8b-975d-75afad68c837",
   "metadata": {
    "tags": []
   },
   "outputs": [],
   "source": [
    "from bia_bob import bob"
   ]
  },
  {
   "cell_type": "code",
   "execution_count": 2,
   "id": "8a1e8db6-a144-4773-a2ab-6e0eac17f94b",
   "metadata": {},
   "outputs": [
    {
     "name": "stdout",
     "output_type": "stream",
     "text": [
      "Task type: 3\n"
     ]
    },
    {
     "data": {
      "text/markdown": [
       "A notebook has been saved as [Blob_Segmentation_Analysis.ipynb](Blob_Segmentation_Analysis.ipynb)."
      ],
      "text/plain": [
       "<IPython.core.display.Markdown object>"
      ]
     },
     "metadata": {},
     "output_type": "display_data"
    }
   ],
   "source": [
    "%%bob \n",
    "Please write a notebook that does the following:\n",
    "* open blobs.tif, \n",
    "* segment the bright objects\n",
    "* measure their area and perimeter\n",
    "* plot the area against perimeter"
   ]
  },
  {
   "cell_type": "markdown",
   "id": "9a13dd39-7c0a-42b9-94c0-a916e21addd9",
   "metadata": {},
   "source": [
    "Note, if we don't ask for the notebook explicitly, Bob will write a huge code block, which might be less readable."
   ]
  },
  {
   "cell_type": "code",
   "execution_count": 3,
   "id": "8b152eb3-326b-4651-9033-0458116be0d7",
   "metadata": {},
   "outputs": [
    {
     "name": "stdout",
     "output_type": "stream",
     "text": [
      "Task type: 1\n"
     ]
    },
    {
     "data": {
      "text/markdown": [
       "We will load an image, segment bright objects, measure their area and perimeter, and plot area against perimeter.\n",
       "\n"
      ],
      "text/plain": [
       "<IPython.core.display.Markdown object>"
      ]
     },
     "metadata": {},
     "output_type": "display_data"
    }
   ],
   "source": [
    "%%bob \n",
    "Please do the following:\n",
    "* open blobs.tif, \n",
    "* segment the bright objects\n",
    "* measure their area and perimeter\n",
    "* plot the area against perimeter"
   ]
  },
  {
   "cell_type": "code",
   "execution_count": null,
   "id": "6f12df40-04df-42ab-88ca-3691418362b6",
   "metadata": {},
   "outputs": [],
   "source": [
    "from skimage.io import imread\n",
    "from skimage.filters import threshold_otsu\n",
    "from skimage.measure import label, regionprops_table\n",
    "import matplotlib.pyplot as plt\n",
    "import pandas as pd\n",
    "import stackview\n",
    "\n",
    "# Load the image\n",
    "filename = 'blobs.tif'\n",
    "image = imread(filename)\n",
    "stackview.insight(image)\n",
    "\n",
    "# Segment the bright objects using Otsu's thresholding\n",
    "threshold_value = threshold_otsu(image)\n",
    "binary_image = image > threshold_value\n",
    "stackview.insight(binary_image)\n",
    "\n",
    "# Label the segmented objects\n",
    "labeled_image = label(binary_image)\n",
    "stackview.insight(labeled_image)\n",
    "\n",
    "# Measure area and perimeter of each labeled object\n",
    "properties = regionprops_table(labeled_image, properties=['area', 'perimeter'])\n",
    "df_properties = pd.DataFrame(properties)\n",
    "\n",
    "# Plot area against perimeter\n",
    "plt.scatter(df_properties['area'], df_properties['perimeter'])\n",
    "plt.xlabel('Area')\n",
    "plt.ylabel('Perimeter')\n",
    "plt.title('Area vs Perimeter of Segmented Objects')\n",
    "plt.show()"
   ]
  }
 ],
 "metadata": {
  "kernelspec": {
   "display_name": "Python 3 (ipykernel)",
   "language": "python",
   "name": "python3"
  },
  "language_info": {
   "codemirror_mode": {
    "name": "ipython",
    "version": 3
   },
   "file_extension": ".py",
   "mimetype": "text/x-python",
   "name": "python",
   "nbconvert_exporter": "python",
   "pygments_lexer": "ipython3",
   "version": "3.9.19"
  }
 },
 "nbformat": 4,
 "nbformat_minor": 5
}
