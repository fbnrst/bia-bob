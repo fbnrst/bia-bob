{
 "cells": [
  {
   "cell_type": "markdown",
   "id": "02a86432-916b-4c26-9093-5f8bd1e86fcf",
   "metadata": {},
   "source": [
    "# Choosing model versions\n",
    "You can list all available OpenAI models..."
   ]
  },
  {
   "cell_type": "code",
   "execution_count": 1,
   "id": "9506b408-672e-441c-acf9-54e3c59f445e",
   "metadata": {},
   "outputs": [
    {
     "data": {
      "text/plain": [
       "'0.7.0'"
      ]
     },
     "execution_count": 1,
     "metadata": {},
     "output_type": "execute_result"
    }
   ],
   "source": [
    "from bia_bob import bob, available_models\n",
    "bob.__version__"
   ]
  },
  {
   "cell_type": "code",
   "execution_count": 2,
   "id": "fbe78c02-96cc-4cb6-b631-a6be88a168a7",
   "metadata": {},
   "outputs": [
    {
     "data": {
      "text/plain": [
       "['ada',\n",
       " 'ada-code-search-code',\n",
       " 'ada-code-search-text',\n",
       " 'ada-search-document',\n",
       " 'ada-search-query',\n",
       " 'ada-similarity',\n",
       " 'babbage',\n",
       " 'babbage-002',\n",
       " 'babbage-code-search-code',\n",
       " 'babbage-code-search-text',\n",
       " 'babbage-search-document',\n",
       " 'babbage-search-query',\n",
       " 'babbage-similarity',\n",
       " 'code-davinci-edit-001',\n",
       " 'code-search-ada-code-001',\n",
       " 'code-search-ada-text-001',\n",
       " 'code-search-babbage-code-001',\n",
       " 'code-search-babbage-text-001',\n",
       " 'curie',\n",
       " 'curie-instruct-beta',\n",
       " 'curie-search-document',\n",
       " 'curie-search-query',\n",
       " 'curie-similarity',\n",
       " 'dall-e-2',\n",
       " 'davinci',\n",
       " 'davinci-002',\n",
       " 'davinci-instruct-beta',\n",
       " 'davinci-search-document',\n",
       " 'davinci-search-query',\n",
       " 'davinci-similarity',\n",
       " 'ft:gpt-3.5-turbo-0613:personal::7zUen5wo',\n",
       " 'ft:gpt-3.5-turbo-0613:personal::7zUyeEKY',\n",
       " 'ft:gpt-3.5-turbo-0613:personal::7zVLxA5b',\n",
       " 'ft:gpt-3.5-turbo-0613:personal::8EwxBNGh',\n",
       " 'ft:gpt-3.5-turbo-0613:personal::8ExLLbYX',\n",
       " 'ft:gpt-3.5-turbo-0613:personal::8ExMgIyE',\n",
       " 'ft:gpt-3.5-turbo-0613:personal::8Exw7Ggs',\n",
       " 'ft:gpt-3.5-turbo-0613:personal::8EyMmUpY',\n",
       " 'ft:gpt-3.5-turbo-0613:personal::8F1Bh4nk',\n",
       " 'ft:gpt-3.5-turbo-0613:personal::8F51T395',\n",
       " 'ft:gpt-3.5-turbo-0613:personal::8GTbD6B7',\n",
       " 'gemini-pro',\n",
       " 'gemini-pro-vision',\n",
       " 'gpt-3.5-turbo',\n",
       " 'gpt-3.5-turbo-0301',\n",
       " 'gpt-3.5-turbo-0613',\n",
       " 'gpt-3.5-turbo-1106',\n",
       " 'gpt-3.5-turbo-16k',\n",
       " 'gpt-3.5-turbo-16k-0613',\n",
       " 'gpt-3.5-turbo-instruct',\n",
       " 'gpt-3.5-turbo-instruct-0914',\n",
       " 'gpt-4',\n",
       " 'gpt-4-0314',\n",
       " 'gpt-4-0613',\n",
       " 'gpt-4-1106-preview',\n",
       " 'gpt-4-vision-preview',\n",
       " 'text-ada-001',\n",
       " 'text-babbage-001',\n",
       " 'text-curie-001',\n",
       " 'text-davinci-001',\n",
       " 'text-davinci-002',\n",
       " 'text-davinci-003',\n",
       " 'text-davinci-edit-001',\n",
       " 'text-embedding-ada-002',\n",
       " 'text-search-ada-doc-001',\n",
       " 'text-search-ada-query-001',\n",
       " 'text-search-babbage-doc-001',\n",
       " 'text-search-babbage-query-001',\n",
       " 'text-search-curie-doc-001',\n",
       " 'text-search-curie-query-001',\n",
       " 'text-search-davinci-doc-001',\n",
       " 'text-search-davinci-query-001',\n",
       " 'text-similarity-ada-001',\n",
       " 'text-similarity-babbage-001',\n",
       " 'text-similarity-curie-001',\n",
       " 'text-similarity-davinci-001',\n",
       " 'tts-1',\n",
       " 'tts-1-1106',\n",
       " 'tts-1-hd',\n",
       " 'tts-1-hd-1106',\n",
       " 'whisper-1']"
      ]
     },
     "execution_count": 2,
     "metadata": {},
     "output_type": "execute_result"
    }
   ],
   "source": [
    "available_models()"
   ]
  },
  {
   "cell_type": "markdown",
   "id": "279762ab-9984-463f-9104-e15211e9ebef",
   "metadata": {},
   "source": [
    "You can also search for models with specific names."
   ]
  },
  {
   "cell_type": "code",
   "execution_count": 3,
   "id": "6e7633a7-74b3-4b81-9f0d-8eb442bb16fa",
   "metadata": {},
   "outputs": [
    {
     "data": {
      "text/plain": [
       "['gemini-pro', 'gemini-pro-vision']"
      ]
     },
     "execution_count": 3,
     "metadata": {},
     "output_type": "execute_result"
    }
   ],
   "source": [
    "[m for m in available_models() if \"gemini\" in m]"
   ]
  },
  {
   "cell_type": "code",
   "execution_count": 4,
   "id": "76b611b7-08cf-4860-95b1-0435ebaba43f",
   "metadata": {},
   "outputs": [
    {
     "data": {
      "text/plain": [
       "['gpt-4',\n",
       " 'gpt-4-0314',\n",
       " 'gpt-4-0613',\n",
       " 'gpt-4-1106-preview',\n",
       " 'gpt-4-vision-preview']"
      ]
     },
     "execution_count": 4,
     "metadata": {},
     "output_type": "execute_result"
    }
   ],
   "source": [
    "[m for m in available_models() if \"gpt-4\" in m]"
   ]
  },
  {
   "cell_type": "markdown",
   "id": "567ef131-931f-4233-92f8-746a4137ec9f",
   "metadata": {},
   "source": [
    "... and choose one for your work."
   ]
  },
  {
   "cell_type": "code",
   "execution_count": 5,
   "id": "8f521a94-ccf4-4a16-b3d0-c05089c30b6a",
   "metadata": {},
   "outputs": [],
   "source": [
    "bob.initialize(\"gpt-4\")"
   ]
  },
  {
   "cell_type": "code",
   "execution_count": 6,
   "id": "510018fc-05da-4912-a286-1f3a53ab6f86",
   "metadata": {},
   "outputs": [
    {
     "data": {
      "text/markdown": [
       "Here is the plan:\n",
       "\n",
       "1. Load the image file `blobs.tif` and save it in a variable named `input_image`. \n",
       "2. Display `input_image`.\n",
       "\n",
       "Here is the Python code to execute the plan:\n",
       "\n"
      ],
      "text/plain": [
       "<IPython.core.display.Markdown object>"
      ]
     },
     "metadata": {},
     "output_type": "display_data"
    }
   ],
   "source": [
    "%bob load blobs.tif, save in a variable named `input_image` and show it"
   ]
  },
  {
   "cell_type": "code",
   "execution_count": null,
   "id": "1681740c-09b0-4af9-8b1e-ae1f450231a0",
   "metadata": {},
   "outputs": [],
   "source": [
    "from skimage.io import imread\n",
    "import stackview\n",
    "\n",
    "# Load the image file\n",
    "input_image = imread('blobs.tif')\n",
    "\n",
    "# Display the image\n",
    "stackview.insight(input_image)"
   ]
  },
  {
   "cell_type": "markdown",
   "id": "240319ba-6751-4bb6-a30b-3cd660b9f2d1",
   "metadata": {},
   "source": [
    "Hint: BiA-Bob's default model can be shown like this:"
   ]
  },
  {
   "cell_type": "code",
   "execution_count": 10,
   "id": "ec51efd4-489e-41a8-95bb-f50b31d78998",
   "metadata": {},
   "outputs": [
    {
     "data": {
      "text/plain": [
       "\u001b[1;31mSignature:\u001b[0m\n",
       "\u001b[0mbob\u001b[0m\u001b[1;33m.\u001b[0m\u001b[0minitialize\u001b[0m\u001b[1;33m(\u001b[0m\u001b[1;33m\n",
       "\u001b[0m    \u001b[0mmodel\u001b[0m\u001b[1;33m=\u001b[0m\u001b[1;34m'gpt-3.5-turbo'\u001b[0m\u001b[1;33m,\u001b[0m\u001b[1;33m\n",
       "\u001b[0m    \u001b[0mauto_execute\u001b[0m\u001b[1;33m:\u001b[0m \u001b[0mbool\u001b[0m \u001b[1;33m=\u001b[0m \u001b[1;32mFalse\u001b[0m\u001b[1;33m,\u001b[0m\u001b[1;33m\n",
       "\u001b[0m    \u001b[0mvariables\u001b[0m\u001b[1;33m:\u001b[0m \u001b[0mdict\u001b[0m \u001b[1;33m=\u001b[0m \u001b[1;32mNone\u001b[0m\u001b[1;33m,\u001b[0m\u001b[1;33m\n",
       "\u001b[0m\u001b[1;33m)\u001b[0m\u001b[1;33m\u001b[0m\u001b[1;33m\u001b[0m\u001b[0m\n",
       "\u001b[1;31mDocstring:\u001b[0m\n",
       "Initialises the assistant.\n",
       "\n",
       "Parameters\n",
       "----------\n",
       "model: str\n",
       "auto_execute: bool, optional (default: False) If True, the assistant will automatically execute the code it generates.\n",
       "variables: dict, optional (default: None) A dictionary of variables that should be available to the assistant.\n",
       "           If None, it will use the global variables of the current namespace.\n",
       "\u001b[1;31mFile:\u001b[0m      c:\\structure\\code\\bia-bob\\src\\bia_bob\\_machinery.py\n",
       "\u001b[1;31mType:\u001b[0m      function"
      ]
     },
     "metadata": {},
     "output_type": "display_data"
    }
   ],
   "source": [
    "bob.initialize?"
   ]
  },
  {
   "cell_type": "code",
   "execution_count": null,
   "id": "47105b4e-8b4f-4cf9-ab05-5daddc8efed9",
   "metadata": {},
   "outputs": [],
   "source": []
  }
 ],
 "metadata": {
  "kernelspec": {
   "display_name": "Python 3 (ipykernel)",
   "language": "python",
   "name": "python3"
  },
  "language_info": {
   "codemirror_mode": {
    "name": "ipython",
    "version": 3
   },
   "file_extension": ".py",
   "mimetype": "text/x-python",
   "name": "python",
   "nbconvert_exporter": "python",
   "pygments_lexer": "ipython3",
   "version": "3.9.16"
  }
 },
 "nbformat": 4,
 "nbformat_minor": 5
}
