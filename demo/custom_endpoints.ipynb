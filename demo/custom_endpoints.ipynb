{
 "cells": [
  {
   "cell_type": "markdown",
   "id": "b1880ec0-dfa0-48c1-82ab-e8bc0c4f9dc1",
   "metadata": {},
   "source": [
    "# Using custom endpoints\n",
    "You can also access alternative endpoints for prompting, such as [ollama](https://ollama.com/) or the [blablador](https://login.helmholtz.de/oauth2-as/oauth2-authz-web-entry) service provided by the Helmholtz foundation."
   ]
  },
  {
   "cell_type": "code",
   "execution_count": 1,
   "id": "54151cc0-94f9-4d2b-ba26-3b4511eff07a",
   "metadata": {},
   "outputs": [
    {
     "data": {
      "text/plain": [
       "'0.10.1'"
      ]
     },
     "execution_count": 1,
     "metadata": {},
     "output_type": "execute_result"
    }
   ],
   "source": [
    "import os\n",
    "from bia_bob import bob\n",
    "bob.__version__"
   ]
  },
  {
   "cell_type": "markdown",
   "id": "678d1dfb-1830-4afe-9aed-7cbccf7ec6ce",
   "metadata": {},
   "source": [
    "## Ollama\n",
    "For this you need to initialize the model and the endpoint. As example, we use a locally running [ollama](https://ollama.com) instance. To make the next step work, you need to download and install ollama and run `ollama serve` from a separate terminal window. You should also have downloaded `ollama run codellama` once in the past."
   ]
  },
  {
   "cell_type": "code",
   "execution_count": 2,
   "id": "f72b7e11-de17-43fb-b6cd-c5f008b7f268",
   "metadata": {},
   "outputs": [],
   "source": [
    "bob.initialize(endpoint='ollama', model='codellama')"
   ]
  },
  {
   "cell_type": "markdown",
   "id": "8771f7ca-1ad4-46de-a902-2d8fb5ff8988",
   "metadata": {},
   "source": [
    "Afterwards, you can use `bob` as usual."
   ]
  },
  {
   "cell_type": "code",
   "execution_count": 3,
   "id": "46b8f1b4-8b64-40d2-8fc7-c510ef7c51c2",
   "metadata": {},
   "outputs": [
    {
     "data": {
      "text/markdown": [
       "You will load the \"blobs.tif\" image file, apply a thresholding algorithm to segment it into its constituent blobs, and display the resulting labeled image.\n",
       "\n"
      ],
      "text/plain": [
       "<IPython.core.display.Markdown object>"
      ]
     },
     "metadata": {},
     "output_type": "display_data"
    }
   ],
   "source": [
    "%bob load blobs.tif, segment the blobs and show the resulting label image."
   ]
  },
  {
   "cell_type": "code",
   "execution_count": null,
   "id": "a67c1486-5370-4bd6-bd3e-f31c199dd07c",
   "metadata": {},
   "outputs": [],
   "source": [
    "from skimage import io\n",
    "import skimage.filters\n",
    "import stackview\n",
    "\n",
    "image = io.imread(\"blobs.tif\")\n",
    "thresh = skimage.filters.threshold_otsu(image)\n",
    "label_image = (image >= thresh).astype(int)\n",
    "stackview.insight(label_image)"
   ]
  },
  {
   "cell_type": "markdown",
   "id": "4c5d5028-3dbe-4e1e-8ff8-222d2bf2a0a2",
   "metadata": {},
   "source": [
    "## Blablador\n",
    "We now do this again for blablador."
   ]
  },
  {
   "cell_type": "code",
   "execution_count": 4,
   "id": "ed3f8372-bdfa-47aa-865a-aa9f9eb18600",
   "metadata": {},
   "outputs": [],
   "source": [
    "bob.initialize(\n",
    "    endpoint='https://helmholtz-blablador.fz-juelich.de:8000/v1', \n",
    "    api_key=os.environ.get('BLABLADOR_API_KEY'), \n",
    "    model='Mistral-7B-Instruct-v0.2')"
   ]
  },
  {
   "cell_type": "code",
   "execution_count": 5,
   "id": "caa31fd3-172e-4c14-b010-ebf801108152",
   "metadata": {},
   "outputs": [
    {
     "data": {
      "text/markdown": [
       "You will load the \"blobs.tif\" image file, apply a thresholding algorithm to segment it into its constituent blobs, and display the resulting labeled image.\n",
       "\n"
      ],
      "text/plain": [
       "<IPython.core.display.Markdown object>"
      ]
     },
     "metadata": {},
     "output_type": "display_data"
    }
   ],
   "source": [
    "%bob load blobs.tif, segment the blobs and show the resulting label image."
   ]
  },
  {
   "cell_type": "code",
   "execution_count": null,
   "id": "e749d903-2672-4d66-b2e7-8b8a93c14032",
   "metadata": {},
   "outputs": [],
   "source": [
    "from skimage import io\n",
    "import skimage.filters\n",
    "import stackview\n",
    "\n",
    "# Load the image\n",
    "image = io.imread(\"blobs.tif\")\n",
    "\n",
    "# Apply thresholding\n",
    "thresh = skimage.filters.threshold_otsu(image)\n",
    "label_image = (image >= thresh).astype(int)\n",
    "\n",
    "# Display the labeled image\n",
    "stackview.insight(label_image)"
   ]
  },
  {
   "cell_type": "markdown",
   "id": "beb38ec0-2762-4cb3-8863-540e3b759933",
   "metadata": {},
   "source": [
    "## Listing available models on blablador\n",
    "You can list available models like this:"
   ]
  },
  {
   "cell_type": "code",
   "execution_count": 6,
   "id": "91c3c1a7-fe42-4548-b621-3620dbc0d5d5",
   "metadata": {},
   "outputs": [
    {
     "data": {
      "text/plain": [
       "['Mistral-7B-Instruct-v0.2',\n",
       " 'Mixtral-8x7B-Instruct-v0.1',\n",
       " 'alias-large',\n",
       " 'cosmosage_v2',\n",
       " 'gemma-7b-it',\n",
       " 'zephyr-7b-beta']"
      ]
     },
     "execution_count": 6,
     "metadata": {},
     "output_type": "execute_result"
    }
   ],
   "source": [
    "from bia_bob import available_models\n",
    "available_models(\n",
    "    endpoint='https://helmholtz-blablador.fz-juelich.de:8000/v1', \n",
    "    api_key=os.environ.get('BLABLADOR_API_KEY')\n",
    ")"
   ]
  }
 ],
 "metadata": {
  "kernelspec": {
   "display_name": "Python 3 (ipykernel)",
   "language": "python",
   "name": "python3"
  },
  "language_info": {
   "codemirror_mode": {
    "name": "ipython",
    "version": 3
   },
   "file_extension": ".py",
   "mimetype": "text/x-python",
   "name": "python",
   "nbconvert_exporter": "python",
   "pygments_lexer": "ipython3",
   "version": "3.9.18"
  }
 },
 "nbformat": 4,
 "nbformat_minor": 5
}
