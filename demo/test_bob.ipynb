{
 "cells": [
  {
   "cell_type": "code",
   "execution_count": 1,
   "id": "4dbec23f-4c29-4123-bcd9-68a5592b3c63",
   "metadata": {},
   "outputs": [],
   "source": [
    "import os\n",
    "os.environ['OPENAI_API_KEY'] = 'sk-...'"
   ]
  },
  {
   "cell_type": "code",
   "execution_count": 1,
   "id": "28e1cd02-5f49-4522-89ae-677a0a764e0c",
   "metadata": {},
   "outputs": [],
   "source": [
    "from bia_bob import bob"
   ]
  },
  {
   "cell_type": "code",
   "execution_count": 2,
   "id": "17c8334d-2590-4a8b-96d4-84c674eafe98",
   "metadata": {},
   "outputs": [
    {
     "data": {
      "text/markdown": [
       "I will load the `blobs.tif` image and display it.\n",
       "\n"
      ],
      "text/plain": [
       "<IPython.core.display.Markdown object>"
      ]
     },
     "metadata": {},
     "output_type": "display_data"
    }
   ],
   "source": [
    "%bob load blobs.tif and show it"
   ]
  },
  {
   "cell_type": "code",
   "execution_count": null,
   "id": "5b18c5d2-6333-4d84-a3cd-3f699c999052",
   "metadata": {},
   "outputs": [],
   "source": [
    "from skimage.io import imread\n",
    "import stackview\n",
    "\n",
    "# Load the image\n",
    "filename = 'blobs.tif'\n",
    "image = imread(filename)\n",
    "\n",
    "# Show the image\n",
    "stackview.insight(image)"
   ]
  },
  {
   "cell_type": "code",
   "execution_count": null,
   "id": "8ed8ffad-e1b3-4e96-bf1c-0136cf196051",
   "metadata": {},
   "outputs": [],
   "source": []
  }
 ],
 "metadata": {
  "kernelspec": {
   "display_name": "Python 3 (ipykernel)",
   "language": "python",
   "name": "python3"
  },
  "language_info": {
   "codemirror_mode": {
    "name": "ipython",
    "version": 3
   },
   "file_extension": ".py",
   "mimetype": "text/x-python",
   "name": "python",
   "nbconvert_exporter": "python",
   "pygments_lexer": "ipython3",
   "version": "3.10.13"
  }
 },
 "nbformat": 4,
 "nbformat_minor": 5
}
