{
 "cells": [
  {
   "cell_type": "markdown",
   "id": "b4fc675c-5d4c-4a36-a07f-1c04f0d10c07",
   "metadata": {},
   "source": [
    "# Bug fixing\n",
    "Bia-bob can assist bug fixing. In case you meet a bug, just put `%%fix` in the beginnign of the cell and exectue the cell again. The cell's code will then be replaced with an updated version of the code."
   ]
  },
  {
   "cell_type": "code",
   "execution_count": 1,
   "id": "d677eeda-d384-48d3-b9a7-8ac9bc3b56e2",
   "metadata": {},
   "outputs": [],
   "source": [
    "from bia_bob import fix"
   ]
  },
  {
   "cell_type": "markdown",
   "id": "16c3e037-7a5d-43ce-bdf2-309e3ebf71bb",
   "metadata": {},
   "source": [
    "For example, if you execute this code, there will be an error:"
   ]
  },
  {
   "cell_type": "code",
   "execution_count": 2,
   "id": "92966320-2db1-4a9f-98ab-a772836f7b8e",
   "metadata": {},
   "outputs": [
    {
     "ename": "NameError",
     "evalue": "name 'blobs' is not defined",
     "output_type": "error",
     "traceback": [
      "\u001b[1;31m---------------------------------------------------------------------------\u001b[0m",
      "\u001b[1;31mNameError\u001b[0m                                 Traceback (most recent call last)",
      "Cell \u001b[1;32mIn[2], line 2\u001b[0m\n\u001b[0;32m      1\u001b[0m \u001b[38;5;28;01mfrom\u001b[39;00m \u001b[38;5;21;01mskimage\u001b[39;00m\u001b[38;5;21;01m.\u001b[39;00m\u001b[38;5;21;01mio\u001b[39;00m \u001b[38;5;28;01mimport\u001b[39;00m imread\n\u001b[1;32m----> 2\u001b[0m image \u001b[38;5;241m=\u001b[39m imread(\u001b[43mblobs\u001b[49m\u001b[38;5;241m.\u001b[39mtif)\n",
      "\u001b[1;31mNameError\u001b[0m: name 'blobs' is not defined"
     ]
    }
   ],
   "source": [
    "from skimage.io import imread\n",
    "image = imread(blobs.tif)"
   ]
  },
  {
   "cell_type": "markdown",
   "id": "dd365b31-7809-42e0-8385-5688fa147ed6",
   "metadata": {},
   "source": [
    "You can then add the `%%fix` magic in the cell above as shown here:"
   ]
  },
  {
   "cell_type": "code",
   "execution_count": 3,
   "id": "84e16614-1ad9-42a5-b1d4-a2a6860b3ba8",
   "metadata": {},
   "outputs": [],
   "source": [
    "%%fix\n",
    "from skimage.io import imread\n",
    "image = imread(blobs.tif)"
   ]
  },
  {
   "cell_type": "markdown",
   "id": "932c3087-85e0-4f8e-bf08-1a534efbacaf",
   "metadata": {},
   "source": [
    "The cell will then be replaced by this one:"
   ]
  },
  {
   "cell_type": "code",
   "execution_count": 4,
   "id": "5f18df6a-daa8-46be-9015-3081bf4c3d07",
   "metadata": {},
   "outputs": [],
   "source": [
    "from skimage.io import imread\n",
    "image = imread(\"blobs.tif\")"
   ]
  },
  {
   "cell_type": "code",
   "execution_count": null,
   "id": "a9e0522f-473c-479c-9501-afe70d86aec3",
   "metadata": {},
   "outputs": [],
   "source": []
  }
 ],
 "metadata": {
  "kernelspec": {
   "display_name": "Python 3 (ipykernel)",
   "language": "python",
   "name": "python3"
  },
  "language_info": {
   "codemirror_mode": {
    "name": "ipython",
    "version": 3
   },
   "file_extension": ".py",
   "mimetype": "text/x-python",
   "name": "python",
   "nbconvert_exporter": "python",
   "pygments_lexer": "ipython3",
   "version": "3.9.16"
  }
 },
 "nbformat": 4,
 "nbformat_minor": 5
}
