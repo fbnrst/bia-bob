{
 "cells": [
  {
   "cell_type": "code",
   "execution_count": null,
   "id": "8b50eb00-5a9e-462c-a2ee-78a4c6ec629b",
   "metadata": {},
   "outputs": [],
   "source": [
    "from bia_bob import bob"
   ]
  },
  {
   "cell_type": "code",
   "execution_count": null,
   "id": "72fc2ea8-e1bd-4c78-911f-2546c6bf4543",
   "metadata": {},
   "outputs": [],
   "source": [
    "bob.initialize(\"gpt-4\", auto_execute=True)"
   ]
  },
  {
   "cell_type": "code",
   "execution_count": null,
   "id": "0332da03-947c-4a5f-af76-1d3e5fdc1bf1",
   "metadata": {},
   "outputs": [],
   "source": [
    "%bob load blobs.tif, segment the bright blobs in the image using Otsu's method and show the result"
   ]
  },
  {
   "cell_type": "code",
   "execution_count": null,
   "id": "0f85980d-806f-4cbe-9cde-efa3300ac064",
   "metadata": {},
   "outputs": [],
   "source": [
    "%bob how does the above code work ?"
   ]
  },
  {
   "cell_type": "code",
   "execution_count": null,
   "id": "7e3bc9f4-e4b0-422f-8ff5-f6fdc815ae62",
   "metadata": {},
   "outputs": [],
   "source": []
  }
 ],
 "metadata": {
  "kernelspec": {
   "display_name": "Python 3 (ipykernel)",
   "language": "python",
   "name": "python3"
  },
  "language_info": {
   "codemirror_mode": {
    "name": "ipython",
    "version": 3
   },
   "file_extension": ".py",
   "mimetype": "text/x-python",
   "name": "python",
   "nbconvert_exporter": "python",
   "pygments_lexer": "ipython3",
   "version": "3.9.16"
  }
 },
 "nbformat": 4,
 "nbformat_minor": 5
}
