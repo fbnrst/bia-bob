{
 "cells": [
  {
   "cell_type": "code",
   "execution_count": null,
   "id": "3123c22f",
   "metadata": {},
   "outputs": [],
   "source": [
    "import subprocess\n",
    "import time\n",
    "\n",
    "# Start the ollama serve process silently (no output)\n",
    "ollama_process = subprocess.Popen(\n",
    "    ['ollama', 'serve'],\n",
    "    stdout=subprocess.DEVNULL,\n",
    "    stderr=subprocess.DEVNULL\n",
    ")\n",
    "\n",
    "# Wait for the server to be ready\n",
    "time.sleep(5)\n",
    "\n",
    "print(\"Ollama server started.\")"
   ]
  },
  {
   "cell_type": "code",
   "execution_count": null,
   "id": "b55aae14",
   "metadata": {},
   "outputs": [],
   "source": [
    "# Step 1: Download the model (run once per environment)\n",
    "!ollama pull codellama"
   ]
  },
  {
   "cell_type": "code",
   "execution_count": null,
   "id": "661d2e56",
   "metadata": {},
   "outputs": [],
   "source": [
    "from bia_bob import bob\n",
    "bob.initialize(endpoint='ollama', model='codellama', api_key='', ) # need to get api_key to something"
   ]
  },
  {
   "cell_type": "code",
   "execution_count": null,
   "id": "84e1fa0a",
   "metadata": {},
   "outputs": [],
   "source": [
    "%bob load blobs.tif and show it"
   ]
  }
 ],
 "metadata": {
  "kernelspec": {
   "display_name": "Python 3",
   "language": "python",
   "name": "python3"
  },
  "language_info": {
   "name": "python",
   "version": "3.11"
  }
 },
 "nbformat": 4,
 "nbformat_minor": 5
}
