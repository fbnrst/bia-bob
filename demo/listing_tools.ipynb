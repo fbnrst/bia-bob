{
 "cells": [
  {
   "cell_type": "markdown",
   "id": "c18442ad-3205-496e-8d6b-b44a62896269",
   "metadata": {},
   "source": [
    "# Listing tools\n",
    "BIA Bob can list all available tools and explain them."
   ]
  },
  {
   "cell_type": "code",
   "execution_count": 1,
   "id": "5b82c4e6-bf35-42c2-ac61-23f54113f149",
   "metadata": {},
   "outputs": [
    {
     "data": {
      "text/plain": [
       "'0.2.0'"
      ]
     },
     "execution_count": 1,
     "metadata": {},
     "output_type": "execute_result"
    }
   ],
   "source": [
    "from bia_bob import bob\n",
    "bob.__version__"
   ]
  },
  {
   "cell_type": "code",
   "execution_count": 2,
   "id": "e46a428f-e367-45e3-aa7c-286df34b6d3a",
   "metadata": {},
   "outputs": [
    {
     "data": {
      "text/markdown": [
       "Here are the available tools and their purposes:\n",
       "\n",
       "1. load_image: Used for loading an image file and storing it under a given variable name.\n",
       "2. image_size: Used for determining the size or shape of an image.\n",
       "3. gaussian_blur: Used for removing noise from an image using the Gaussian blur method.\n",
       "4. median_filter: Used for removing noise from an image using the median filter method.\n",
       "5. top_hat: Used for removing background from an image using the Top-Hat filter.\n",
       "6. morphological_gradient: Used for enhancing edges in an image using the Morphological Gradient filter.\n",
       "7. segment_bright_objects: Used for segmenting bright objects in an image using the Voronoi-Otsu-Labeling algorithm.\n",
       "8. segment_dark_objects_with_bright_borders: Used for segmenting dark objects with bright borders in an image using the Local-Minima-Seeded-Watershed algorithm.\n",
       "9. show_image: Used for displaying an image that has been loaded and stored.\n",
       "10. count_objects: Used for counting objects in a segmented image.\n",
       "11. slice: Used for slicing a 3D image and going through its slices interactively.\n",
       "12. picker: Used for interactively inspecting images and picking pixel intensities.\n",
       "13. orthogonal: Used for interactively inspecting 3D image stacks using orthogonal views.\n",
       "14. list_tools: Used for listing all available tools.\n",
       "15. list_files_in_folder: Used for listing all files in a folder.\n",
       "16. multiply_image: Used for multiplying the pixel values in an image by an integer factor and displaying the result.\n",
       "\n",
       "Let me know if you need more information about any specific tool."
      ],
      "text/plain": [
       "<IPython.core.display.Markdown object>"
      ]
     },
     "metadata": {},
     "output_type": "display_data"
    }
   ],
   "source": [
    "%bob can you list all available tools and what they are good for ?"
   ]
  },
  {
   "cell_type": "code",
   "execution_count": 3,
   "id": "900aef7a-404e-4214-b314-f1b40eda0933",
   "metadata": {},
   "outputs": [
    {
     "data": {
      "text/markdown": [
       "Sure! Here are the explanations for the available segmentation tools:\n",
       "\n",
       "1. segment_bright_objects: This tool is used for segmenting bright objects in an image using the Voronoi-Otsu-Labeling algorithm. It is particularly useful when you want to separate and identify bright objects from the background.\n",
       "\n",
       "2. segment_dark_objects_with_bright_borders: This tool is used for segmenting dark objects with bright borders in an image using the Local-Minima-Seeded-Watershed algorithm. It is commonly used for segmenting cells in images where the cell membranes are visible as bright borders.\n",
       "\n",
       "Both segmentation tools are helpful for separating objects of interest from the background or other objects in an image. They can be used in various applications such as cell counting, object recognition, and image analysis.\n",
       "\n",
       "If you have any specific questions about these tools or need more information, feel free to ask!"
      ],
      "text/plain": [
       "<IPython.core.display.Markdown object>"
      ]
     },
     "metadata": {},
     "output_type": "display_data"
    }
   ],
   "source": [
    "%bob please list the explanations for all available segmentation tools"
   ]
  },
  {
   "cell_type": "code",
   "execution_count": null,
   "id": "f3a327d2-ef91-43c0-ae6b-4e0d96626892",
   "metadata": {},
   "outputs": [],
   "source": []
  }
 ],
 "metadata": {
  "kernelspec": {
   "display_name": "Python 3 (ipykernel)",
   "language": "python",
   "name": "python3"
  },
  "language_info": {
   "codemirror_mode": {
    "name": "ipython",
    "version": 3
   },
   "file_extension": ".py",
   "mimetype": "text/x-python",
   "name": "python",
   "nbconvert_exporter": "python",
   "pygments_lexer": "ipython3",
   "version": "3.9.16"
  }
 },
 "nbformat": 4,
 "nbformat_minor": 5
}
