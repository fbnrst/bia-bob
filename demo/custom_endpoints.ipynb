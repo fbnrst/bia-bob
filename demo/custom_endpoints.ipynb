{
 "cells": [
  {
   "cell_type": "markdown",
   "id": "b1880ec0-dfa0-48c1-82ab-e8bc0c4f9dc1",
   "metadata": {},
   "source": [
    "# Using custom endpoints\n",
    "You can also access alternative endpoints for prompting, such as the [blablador](https://login.helmholtz.de/oauth2-as/oauth2-authz-web-entry) service provided by the Helmholtz foundation."
   ]
  },
  {
   "cell_type": "code",
   "execution_count": 1,
   "id": "54151cc0-94f9-4d2b-ba26-3b4511eff07a",
   "metadata": {},
   "outputs": [
    {
     "data": {
      "text/plain": [
       "'0.10.1'"
      ]
     },
     "execution_count": 1,
     "metadata": {},
     "output_type": "execute_result"
    }
   ],
   "source": [
    "import os\n",
    "from bia_bob import bob\n",
    "bob.__version__"
   ]
  },
  {
   "cell_type": "markdown",
   "id": "678d1dfb-1830-4afe-9aed-7cbccf7ec6ce",
   "metadata": {},
   "source": [
    "For this you need to initialize the model and the endpoint."
   ]
  },
  {
   "cell_type": "code",
   "execution_count": 2,
   "id": "ed3f8372-bdfa-47aa-865a-aa9f9eb18600",
   "metadata": {},
   "outputs": [],
   "source": [
    "bob.initialize(\n",
    "    endpoint='https://helmholtz-blablador.fz-juelich.de:8000/v1', \n",
    "    api_key=os.environ.get('BLABLADOR_API_KEY'), \n",
    "    model='Mistral-7B-Instruct-v0.2')"
   ]
  },
  {
   "cell_type": "markdown",
   "id": "8771f7ca-1ad4-46de-a902-2d8fb5ff8988",
   "metadata": {},
   "source": [
    "Afterwards, you can use `bob` as usual."
   ]
  },
  {
   "cell_type": "code",
   "execution_count": 3,
   "id": "caa31fd3-172e-4c14-b010-ebf801108152",
   "metadata": {},
   "outputs": [
    {
     "data": {
      "text/markdown": [
       "Load the \"blobs.tif\" image file using the provided libraries and display it using the `stackview.insight()` function.\n",
       "\n"
      ],
      "text/plain": [
       "<IPython.core.display.Markdown object>"
      ]
     },
     "metadata": {},
     "output_type": "display_data"
    }
   ],
   "source": [
    "%bob load blobs.tif and show it"
   ]
  },
  {
   "cell_type": "code",
   "execution_count": null,
   "id": "17b0fec0-3e54-4cf2-992b-7d317f1f5e3e",
   "metadata": {},
   "outputs": [],
   "source": [
    "from skimage.io import imread\n",
    "import stackview as sv\n",
    "\n",
    "image = imread('blobs.tif')\n",
    "sv.insight(image)"
   ]
  },
  {
   "cell_type": "markdown",
   "id": "beb38ec0-2762-4cb3-8863-540e3b759933",
   "metadata": {},
   "source": [
    "## Listing available models on blablador\n",
    "You can list available models like this:"
   ]
  },
  {
   "cell_type": "code",
   "execution_count": 4,
   "id": "91c3c1a7-fe42-4548-b621-3620dbc0d5d5",
   "metadata": {},
   "outputs": [
    {
     "data": {
      "text/plain": [
       "['Mistral-7B-Instruct-v0.2',\n",
       " 'Mixtral-8x7B-Instruct-v0.1',\n",
       " 'leo-mistral-hessianai-7b-chat',\n",
       " 'neural-chat-7b-v3-1',\n",
       " 'zephyr-7b-beta']"
      ]
     },
     "execution_count": 4,
     "metadata": {},
     "output_type": "execute_result"
    }
   ],
   "source": [
    "from bia_bob import available_models\n",
    "available_models(\n",
    "    endpoint='https://helmholtz-blablador.fz-juelich.de:8000/v1', \n",
    "    api_key=os.environ.get('BLABLADOR_API_KEY')\n",
    ")"
   ]
  }
 ],
 "metadata": {
  "kernelspec": {
   "display_name": "Python 3 (ipykernel)",
   "language": "python",
   "name": "python3"
  },
  "language_info": {
   "codemirror_mode": {
    "name": "ipython",
    "version": 3
   },
   "file_extension": ".py",
   "mimetype": "text/x-python",
   "name": "python",
   "nbconvert_exporter": "python",
   "pygments_lexer": "ipython3",
   "version": "3.10.13"
  }
 },
 "nbformat": 4,
 "nbformat_minor": 5
}
