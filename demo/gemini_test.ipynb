{
  "cells": [
    {
      "cell_type": "markdown",
      "metadata": {
        "id": "VEqbX8OhE8y9"
      },
      "source": [
        "# Using Gemini from Python/Google Colab\n",
        "This notebook demonstrates how to use Google gemini via the Vertex API from Python to generate Python code. It is derived from [this official example notebook](https://colab.research.google.com/github/GoogleCloudPlatform/generative-ai/blob/main/gemini/getting-started/intro_gemini_python.ipynb).\n",
        "\n"
      ]
    },
    {
      "cell_type": "code",
      "execution_count": 8,
      "metadata": {
        "id": "NyKGtVQjgx13",
        "tags": []
      },
      "outputs": [],
      "source": [
        "import sys\n",
        "\n",
        "# Additional authentication is required for Google Colab\n",
        "if \"google.colab\" in sys.modules:\n",
        "    # Authenticate user to Google Cloud\n",
        "    from google.colab import auth\n",
        "\n",
        "    auth.authenticate_user()"
      ]
    },
    {
      "cell_type": "code",
      "execution_count": 26,
      "metadata": {
        "id": "Nqwi-5ufWp_B",
        "tags": []
      },
      "outputs": [],
      "source": [
        "if \"google.colab\" in sys.modules:\n",
        "    # Define project information\n",
        "    PROJECT_ID = \"metal-clone-408718\"  # @param {type:\"string\"}\n",
        "    LOCATION = \"us-central1\"  # @param {type:\"string\"}\n",
        "\n",
        "    # Initialize Vertex AI\n",
        "    import vertexai\n",
        "\n",
        "    vertexai.init(project=PROJECT_ID, location=LOCATION)"
      ]
    },
    {
      "cell_type": "code",
      "execution_count": 27,
      "metadata": {
        "id": "lslYAvw37JGQ",
        "tags": []
      },
      "outputs": [],
      "source": [
        "from vertexai.preview.generative_models import (\n",
        "    GenerationConfig,\n",
        "    GenerativeModel,\n",
        "    Image,\n",
        "    Part,\n",
        ")"
      ]
    },
    {
      "cell_type": "code",
      "execution_count": 28,
      "metadata": {
        "id": "2998506fe6d1",
        "tags": []
      },
      "outputs": [],
      "source": [
        "model = GenerativeModel(\"gemini-pro\")"
      ]
    },
    {
      "cell_type": "code",
      "execution_count": 32,
      "metadata": {
        "id": "eAo-UsfZECGF",
        "tags": [],
        "outputId": "59523698-6b02-40a8-8eb7-31b3ea89f55a",
        "colab": {
          "base_uri": "https://localhost:8080/"
        }
      },
      "outputs": [
        {
          "output_type": "stream",
          "name": "stdout",
          "text": [
            "1. Check if the file `vgsales.csv` exists locally.\n",
            "2. If the file does not exist, download the file from the given URL and save it locally.\n",
            "3. Use pandas to open the downloaded file and store it in a variable called `df`.\n",
            "\n",
            "```\n",
            "import pandas as pd\n",
            "import os\n",
            "\n",
            "# Check if file exists locally\n",
            "file_exists = os.path.isfile('vgsales.csv')\n",
            "\n",
            "# If the file does not exist, download it from the given URL and save it locally\n",
            "if not file_exists:\n",
            "    import wget\n",
            "    url = 'https://zenodo.org/records/5898311/files/vgsales.csv?download=1'\n",
            "    wget.download(url)\n",
            "\n",
            "# Use pandas to open the downloaded file\n",
            "df = pd.read_csv('vgsales.csv')\n",
            "\n",
            "# Print the first few rows of the dataframe\n",
            "print(df.head())\n",
            "```"
          ]
        }
      ],
      "source": [
        "responses = model.generate_content(\"\"\"\n",
        "If the request entails writing code, write concise professional bioimage analysis high-quality code.\n",
        "If there are several ways to solve the task, chose the option with the least amount of code.\n",
        "\n",
        "If there is no specific programming language required, write python code and follow the below instructions.\n",
        "\n",
        "## Python specific instruction\n",
        "\n",
        "For python, you can only use those libraries: scikit-image, pyclesperanto-prototype, scikit-learn, numpy, pandas.\n",
        "If you create images, show the results and save them in variables for later reuse.\n",
        "The following variables are available: input_image, label_image\n",
        "Do not set the values of the variables that are available.\n",
        "The following functions are available:\n",
        "\n",
        "## Explanations and code\n",
        "\n",
        "Initially, provide a concise step-by-step plan without any code.\n",
        "Always provide the plan first.\n",
        "\n",
        "After the complete plan, print the code.\n",
        "There must be only one single code block.\n",
        "Importantly, the code block must start with the line:\n",
        "```\n",
        "and it must end with the line:\n",
        "```\n",
        "\n",
        "There must be no text after the code block.\n",
        "If the request does not require to write code, simply answer in plain text.\n",
        "\n",
        "# Task\n",
        "This is the task:\n",
        "\n",
        "write python code that\n",
        "* opens the file vgsales.csv using pandas\n",
        "* if the file doesn't exist, open it from https://zenodo.org/records/5898311/files/vgsales.csv?download=1\n",
        "  and save it as vgsales.csv\n",
        "\"\"\", stream=True)\n",
        "\n",
        "for response in responses:\n",
        "    print(response.text, end=\"\")"
      ]
    }
  ],
  "metadata": {
    "colab": {
      "provenance": [],
      "toc_visible": true
    },
    "environment": {
      "kernel": "python3",
      "name": "common-cpu.m113",
      "type": "gcloud",
      "uri": "gcr.io/deeplearning-platform-release/base-cpu:m113"
    },
    "kernelspec": {
      "display_name": "Python 3",
      "language": "python",
      "name": "python3"
    },
    "language_info": {
      "codemirror_mode": {
        "name": "ipython",
        "version": 3
      },
      "file_extension": ".py",
      "mimetype": "text/x-python",
      "name": "python",
      "nbconvert_exporter": "python",
      "pygments_lexer": "ipython3",
      "version": "3.10.13"
    }
  },
  "nbformat": 4,
  "nbformat_minor": 0
}