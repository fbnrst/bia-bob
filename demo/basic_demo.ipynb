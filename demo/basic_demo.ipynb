{
 "cells": [
  {
   "cell_type": "markdown",
   "id": "b97b3b00-8ff4-4e1b-b7c7-709f87aabc37",
   "metadata": {},
   "source": [
    "## BIA Tischi demo\n",
    "BIA Tischi is a Jupyter-magic based assistant for interacting with data via code"
   ]
  },
  {
   "cell_type": "code",
   "execution_count": 1,
   "id": "f4ae3a80-b6ea-4409-95b7-caecd4e4211c",
   "metadata": {
    "scrolled": true,
    "tags": []
   },
   "outputs": [
    {
     "name": "stdout",
     "output_type": "stream",
     "text": [
      "Initializing new AI assistant.\n",
      "Agent and context initialised.\n"
     ]
    },
    {
     "data": {
      "text/markdown": [
       "Plan:\n",
       "\n",
       "1. Use print function to print \"Hello World!\" on to the console."
      ],
      "text/plain": [
       "<IPython.core.display.Markdown object>"
      ]
     },
     "metadata": {},
     "output_type": "display_data"
    },
    {
     "data": {
      "text/markdown": [
       "Code was generated and pasted."
      ],
      "text/plain": [
       "<IPython.core.display.Markdown object>"
      ]
     },
     "metadata": {},
     "output_type": "display_data"
    }
   ],
   "source": [
    "import numpy as np\n",
    "from bia_tischi import bob, xbob, cbob, vars, populate_next_cell\n",
    "from bia_tischi._machinery import _context\n",
    "\n",
    "%cbob print hello world!"
   ]
  },
  {
   "cell_type": "code",
   "execution_count": null,
   "id": "0afd0ef8-4848-4365-897d-f4feade99000",
   "metadata": {},
   "outputs": [],
   "source": [
    "print(\"Hello World!\")"
   ]
  },
  {
   "cell_type": "code",
   "execution_count": 3,
   "id": "ce2da291-7abe-4653-ac80-9ca41ca90d0b",
   "metadata": {},
   "outputs": [
    {
     "data": {
      "image/png": "[encoded data removed]",
      "text/plain": [
       "<Figure size 640x480 with 1 Axes>"
      ]
     },
     "metadata": {},
     "output_type": "display_data"
    }
   ],
   "source": [
    "import numpy as np\n",
    "import matplotlib.pyplot as plt\n",
    "\n",
    "# Generate a small random image (for example 50x50), data should be in the range of 0 and 255.\n",
    "image = np.random.randint(0, 256, (50, 50))\n",
    "\n",
    "# Use matplotlib to display the image.\n",
    "plt.imshow(image, cmap='gray')\n",
    "plt.show()"
   ]
  },
  {
   "cell_type": "code",
   "execution_count": null,
   "id": "e59d9a43-7d5f-4f5b-b84b-99173bb97838",
   "metadata": {},
   "outputs": [],
   "source": [
    "print(\"Hello World!\")"
   ]
  },
  {
   "cell_type": "code",
   "execution_count": 3,
   "id": "6aba2c6d-c74e-4886-866d-4522ceccb4e1",
   "metadata": {},
   "outputs": [
    {
     "name": "stdout",
     "output_type": "stream",
     "text": [
      "Hello World!\n"
     ]
    }
   ],
   "source": [
    "print(\"Hello World!\")"
   ]
  },
  {
   "cell_type": "code",
   "execution_count": null,
   "id": "3beb5e8d-83f4-471f-b112-8a1b7c6dca6f",
   "metadata": {},
   "outputs": [],
   "source": [
    "\n",
    "# This is some custom code\n",
    "def hello_world():\n",
    "    print(\"Hello, World!\")\n",
    "    "
   ]
  },
  {
   "cell_type": "code",
   "execution_count": null,
   "id": "d2ade2b9-3bdd-4dee-a9c5-87c291dfcf0f",
   "metadata": {},
   "outputs": [],
   "source": [
    "\n",
    "# This is some custom code\n",
    "def hello_world():\n",
    "    print(\"Hello, World!\")\n",
    "    "
   ]
  },
  {
   "cell_type": "markdown",
   "id": "6b78c8e5-58d1-4750-b659-e639a2b99d2f",
   "metadata": {},
   "source": [
    "It works using the `%tischi` and `%%tischi` magic commands. Just enter tasks and ask questions. Hint: if you want to ask a question, you need to put a space before the `?`."
   ]
  },
  {
   "cell_type": "code",
   "execution_count": null,
   "id": "547ca431-88d9-4e75-8c95-611ba4009759",
   "metadata": {},
   "outputs": [],
   "source": [
    "%tischi measure mean_intensity and major axis length of the objects in the input_image using the label_image as labels. Store the result in a dataframe called df"
   ]
  }
 ],
 "metadata": {
  "kernelspec": {
   "display_name": "Python 3 (ipykernel)",
   "language": "python",
   "name": "python3"
  },
  "language_info": {
   "codemirror_mode": {
    "name": "ipython",
    "version": 3
   },
   "file_extension": ".py",
   "mimetype": "text/x-python",
   "name": "python",
   "nbconvert_exporter": "python",
   "pygments_lexer": "ipython3",
   "version": "3.9.18"
  }
 },
 "nbformat": 4,
 "nbformat_minor": 5
}
