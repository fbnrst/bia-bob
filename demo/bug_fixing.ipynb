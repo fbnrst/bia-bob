{
 "cells": [
  {
   "cell_type": "code",
   "execution_count": 1,
   "id": "d677eeda-d384-48d3-b9a7-8ac9bc3b56e2",
   "metadata": {},
   "outputs": [],
   "source": [
    "from bia_bob import bob"
   ]
  },
  {
   "cell_type": "code",
   "execution_count": 2,
   "id": "92966320-2db1-4a9f-98ab-a772836f7b8e",
   "metadata": {},
   "outputs": [
    {
     "ename": "NameError",
     "evalue": "name 'blobs' is not defined",
     "output_type": "error",
     "traceback": [
      "\u001b[1;31m---------------------------------------------------------------------------\u001b[0m",
      "\u001b[1;31mNameError\u001b[0m                                 Traceback (most recent call last)",
      "Cell \u001b[1;32mIn[2], line 2\u001b[0m\n\u001b[0;32m      1\u001b[0m \u001b[38;5;28;01mfrom\u001b[39;00m \u001b[38;5;21;01mskimage\u001b[39;00m\u001b[38;5;21;01m.\u001b[39;00m\u001b[38;5;21;01mio\u001b[39;00m \u001b[38;5;28;01mimport\u001b[39;00m imread\n\u001b[1;32m----> 2\u001b[0m image \u001b[38;5;241m=\u001b[39m imread(\u001b[43mblobs\u001b[49m\u001b[38;5;241m.\u001b[39mtif)\n",
      "\u001b[1;31mNameError\u001b[0m: name 'blobs' is not defined"
     ]
    }
   ],
   "source": [
    "from skimage.io import imread\n",
    "image = imread(blobs.tif)"
   ]
  },
  {
   "cell_type": "code",
   "execution_count": 3,
   "id": "84e16614-1ad9-42a5-b1d4-a2a6860b3ba8",
   "metadata": {},
   "outputs": [
    {
     "data": {
      "text/markdown": [
       "The error occurred because the filename should be passed as a string. To fix the code, you need to wrap the filename in quotes:"
      ],
      "text/plain": [
       "<IPython.core.display.Markdown object>"
      ]
     },
     "metadata": {},
     "output_type": "display_data"
    }
   ],
   "source": [
    "bob.fix()"
   ]
  },
  {
   "cell_type": "code",
   "execution_count": 4,
   "id": "5f18df6a-daa8-46be-9015-3081bf4c3d07",
   "metadata": {},
   "outputs": [],
   "source": [
    "from skimage.io import imread\n",
    "image = imread(\"blobs.tif\")"
   ]
  },
  {
   "cell_type": "code",
   "execution_count": null,
   "id": "a9e0522f-473c-479c-9501-afe70d86aec3",
   "metadata": {},
   "outputs": [],
   "source": []
  }
 ],
 "metadata": {
  "kernelspec": {
   "display_name": "Python 3 (ipykernel)",
   "language": "python",
   "name": "python3"
  },
  "language_info": {
   "codemirror_mode": {
    "name": "ipython",
    "version": 3
   },
   "file_extension": ".py",
   "mimetype": "text/x-python",
   "name": "python",
   "nbconvert_exporter": "python",
   "pygments_lexer": "ipython3",
   "version": "3.9.16"
  }
 },
 "nbformat": 4,
 "nbformat_minor": 5
}
