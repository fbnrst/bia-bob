{
 "cells": [
  {
   "cell_type": "code",
   "execution_count": 1,
   "id": "fc708df1-9e30-4daf-b186-d60d337a534a",
   "metadata": {},
   "outputs": [
    {
     "data": {
      "text/plain": [
       "'0.3.0'"
      ]
     },
     "execution_count": 1,
     "metadata": {},
     "output_type": "execute_result"
    }
   ],
   "source": [
    "from bia_bob import bob\n",
    "bob.__version__"
   ]
  },
  {
   "cell_type": "code",
   "execution_count": 2,
   "id": "70dd18f6-5f03-4995-9aa9-aec322e75af1",
   "metadata": {},
   "outputs": [
    {
     "data": {
      "text/markdown": [
       "The code will perform the following steps:\n",
       "1. Load the image from the specified file path.\n",
       "2. Normalize the image to enhance the contrast.\n",
       "3. Use the stardist model \"2D_versatile_fluo\" to segment the nuclei in the normalized image.\n",
       "\n",
       "Here is the code:"
      ],
      "text/plain": [
       "<IPython.core.display.Markdown object>"
      ]
     },
     "metadata": {},
     "output_type": "display_data"
    }
   ],
   "source": [
    "%%bob \n",
    "load c:/structure/data/blobs.tif,\n",
    "normalize the image and \n",
    "use the stardist model \"2D_versatile_fluo\" to segment the nuclei in this image"
   ]
  },
  {
   "cell_type": "code",
   "execution_count": 3,
   "id": "ec18e767-6a17-432e-a7ff-3bb2936f68e6",
   "metadata": {},
   "outputs": [
    {
     "name": "stdout",
     "output_type": "stream",
     "text": [
      "Found model '2D_versatile_fluo' for 'StarDist2D'.\n",
      "Loading network weights from 'weights_best.h5'.\n",
      "Loading thresholds from 'thresholds.json'.\n",
      "Using default values: prob_thresh=0.479071, nms_thresh=0.3.\n",
      "1/1 [==============================] - 0s 184ms/step\n"
     ]
    },
    {
     "data": {
      "application/vnd.jupyter.widget-view+json": {
       "model_id": "6656ab57eeeb44b58b8d778de7cf3bd0",
       "version_major": 2,
       "version_minor": 0
      },
      "text/plain": [
       "VBox(children=(HBox(children=(VBox(children=(ImageWidget(height=254, width=256),)),)), IntSlider(value=127, de…"
      ]
     },
     "execution_count": 3,
     "metadata": {},
     "output_type": "execute_result"
    }
   ],
   "source": [
    "import numpy as np\n",
    "from skimage.io import imread\n",
    "from skimage import exposure\n",
    "from stardist.models import StarDist2D\n",
    "\n",
    "# Step 1: Load the image\n",
    "filename = \"c:/structure/data/blobs.tif\"\n",
    "image = imread(filename)\n",
    "\n",
    "# Step 2: Normalize the image\n",
    "image_normalized = exposure.rescale_intensity(image, out_range=(0, 1))\n",
    "\n",
    "# Step 3: Segment the nuclei using stardist model\n",
    "model = StarDist2D.from_pretrained('2D_versatile_fluo')\n",
    "nuclei_labels, _ = model.predict_instances(image_normalized)\n",
    "\n",
    "# Display the original image and the segmented nuclei\n",
    "import stackview\n",
    "stackview.curtain(image, nuclei_labels)"
   ]
  },
  {
   "cell_type": "code",
   "execution_count": 5,
   "id": "e7f16bef-b092-4b05-a220-b56e89a75025",
   "metadata": {},
   "outputs": [
    {
     "data": {
      "text/html": [
       "<table>\n",
       "<tr>\n",
       "<td>\n",
       "<img src=\"data:image/png;base64,iVBORw0KGgoAAAANSUhEUgAAAoAAAAHgCAYAAAA10dzkAAAAOXRFWHRTb2Z0d2FyZQBNYXRwbG90bGliIHZlcnNpb24zLjcuMSwgaHR0cHM6Ly9tYXRwbG90bGliLm9yZy/bCgiHAAAACXBIWXMAAA9hAAAPYQGoP6dpAAA6F0lEQVR4nO3dfZBV9Z3n8c9VmwYZ6KJB+iECaVNoEpulksagRBERW0mhQ3CE6G4WouvoIGR7gDFBdtYmZehIjZgNaCbOGvAhDDpTQszIJmmDgMgyg4QoYMYiEQVi93RU7OYp3Tyc/YO913u77/M9D79zfu9XVVfR95577ulbLXz8fM/vnJjjOI4AAABgjfOCPgAAAAD4iwAIAABgGQIgAACAZQiAAAAAliEAAgAAWIYACAAAYBkCIAAAgGUIgAAAAJYhAAIAAFiGAAgAAGAZAiAAAIBlCIAAAACWIQACAABYhgAIAABgGQIgAACAZQiAAAAAliEAAgAAWIYACAAAYBkCIAAAgGUIgAAAAJYhAAIAAFiGAAgAAGAZAiAAAIBlCIAAAACWIQACAABYhgAIAABgGQIgAACAZQiAAAAAliEAAgAAWIYACAAAYBkCIAAAgGUIgAAAAJYhAAIAAFiGAAgAAGAZAiAAAIBlCIAAAACWIQACAABYhgAIAABgGQIgAACAZQiAAAAAliEAAgAAWIYACAAAYBkCIAAAgGUIgAAAAJYhAAIAAFiGAAgAAGAZAiAAAIBlCIAAAACWIQACAABYhgAIAABgGQIgAACAZQiAAAAAliEAAgAAWIYAaKnHH39cdXV16t+/vxoaGvTqq68GfUgAAMAnBEALPffcc2pqatKSJUu0e/duXXPNNZo6daoOHjwY9KEBAAAfxBzHcYI+CPhr/Pjx+uIXv6gf/vCHicc+97nPafr06WppaQnwyAAAgB8uCPoA4K+enh7t2rVL3/72t1Meb2xs1Pbt29O+pru7W93d3Ynvz549q48++khDhw5VLBbz9HgBAN5xHEdHjx5VbW2tzjuPoaBNCICW+eCDD3TmzBlVVVWlPF5VVaX29va0r2lpadHSpUv9ODwAQAAOHTqkiy++OOjDgI8IgJbq3dw5jpOxzVu8eLEWLFiQ+L6zs1MjR4709PjiNv3ih7k3ytPkG//KtX0V46GZ/zXQ9/8fzz8d2HvvuubTgb13Og2vvhv0ISQMfLDc9/c8vrQ790Yw0n03fuTq/npOd+kffvVpDRo0yNX9wnwEQMsMGzZM559/fp+2r6Ojo08rGFdeXq7ycv//kfq3bWt8f08v9S/rF/QhBObPLjBrtPT2dZdIki575Z1Aj+PPWvoH+r7HFv8pkPdHcRZMO+3Zvjmdxz5m/a0Mz/Xr108NDQ1qbW1Neby1tVUTJkwI6KhS/du2NZ6EP6/2i8zevu6SRNgykcnH5oegAiiA4NEAWmjBggX6+te/rnHjxumqq67SE088oYMHD+ree+8N+tAAAIAPCIAWmjVrlj788EN95zvfUVtbm+rr67Vx40aNGjUq6EOjoYOvgh4BA/nwcvQLexEALTV37lzNnTs36MNIsCH4LfrJ/5Yk/d1//m+BvTfMwOgVQNA4BxAAAMAyNIBAhNH8Iez2jM1+n/Ixb1zj05EEg/EvvEIAROBsGP8CyeKXX2EUnF6u0Jdr26iHQsANjIABAAAsQwOIwPjd/H3p6jm+vl/QTBj/xlfZ2n69PeSnkOYv3/3QBgLpEQARCJvHvsnBzO0VwSaEPqAYboW/dPslBAJ9MQIGAACwDA0grGDq+HfRT/63ay0g7V94sPjDX/F2MUxNIKt/4TUCIHxn8/g3nVIuEG166OPcv/RYBfwJr0a/md4rTCEQ8BIBEL4JIviZ2vylY3qYi6K3r7vE6tvBxYMoAPtwDiAAAIBlCIAArGVz+2cCP8e/AFIRABFZYRr/AgDgJwIgAACAZVgEAgCWYfEHAAIgALhk49dr0z7+lWfeT/v4scV/4lIwAALBCBgAAMAyNIBAgXbufyrr81eMnu3TkcAEmVq/TNtkagP9YvP4t9iLQP/fmtvz2u6qtn8sav9AEAiAQBa5wl6u1xAGoy2f8JfuNUGHQOSWb+hL9xqCIMKAETAAAIBlaACBDIpp/zLtgyYwWopp/jLx677ANo9+C1VM+9f79aW2gCv+5dw/zwumnS5pP0AmBECgFzeCX7p9EgLNYeIdQLxcEexW+Bv1rX/Rew9Pc2Vffsr33L9Sgx8QJoyAAQAALEMDiMgp5RZwXrR/Nos3bW9fd0nAR2KW+Ai592IQN8fBpbR+o771L0U9V2g7OOaNayJ7P2AWhMB0BEBA/gQ/m88HvOyVd4wJgaWOf908/y+TYsfBXoW+UvYR9MiY8S+QHiNgAAAAy9AAIlJKGf8C+fjKM++X3ALmcx3A3m1epkaw1AUebjR/ufafrQWMN3Ruj4KLvegzYAsCIABfBH0+oIkrfwvhxWVcvA5/vd/Hr3FwIeHP69FvqZeEWfEvF3ApGHiCAAjfxNu5f9u2xrN9I71XtuZ/tsd1E896eCTBnA8Y9vDnNr+CX7r3zRQCk0NbsW1goa0f5/3BZpwDCAAAYBkaQIQe7V96hbR+mV7nVRuY3Mh52QZ61fzFz+Er5lzAoO8DHFT7l/z+uUbB+V4expbz/LgrCLxAAITvvnT1HE/GwCg+9OXan5djYa/CoB9j33wXhAQd+qTgg1+hbAl3hXD7fMB4sISdGAEDAABYhviPQLjVAjL+db/1y/QeXi8OkTK3dtmawaAXeGRq9zLd7QP2cfOuIKWMg2n8kIzfBgSm2FXBhL5P+BH+TBB0yCuGScHPtPGv35eFiSLCHEplx78eAAAASOB/IRC45EYvUxvodesXvz+vH/cEdkMQzZ8fC0JgB9uaPzdGv4DbCIAwSpTHu/GQWSpbxr4AAO/wLwkAAIBlCIBAErdaOi/2+8rW82j/UDDTFoAAMAP/mgAoCCEUAMKPv8kBAAAswyIQoBc3VwSz8AMw11Vt/5i4SDNgG/5VATIoNbx5dT4hgPDgEjAwFQ0gkEWmEJfcDnoZ9Gj+AG/FA5rbTSDBD6bjXxcAAADLxBzHcYI+CIRLV1eXKioqgj4MK5jaAHI3kHAx6VIwJt8FxK0WMIztX2dnpwYPHhz0YcBHjIDhqf81bHHObf77By0+HEn4mBr+gKgqdRxcSPD7/Kf/a17bvfXu00UdC5AL/8IAAABYhgYQrsun9eu9PS0gAFP0bvLSNYLFjnnzbf6St6cFhBc4BxAFy3YOYKHhL44A+IkwjH45BzB8TDgP0OTz/7xUaOjLxMsgyDmA9jH/XxoAAAC4ihEwXFFs8wdE1f13zpIkLf/xcwEfyTnx9i2IJtDW5k9yr/2L74txMNxCAIQR4gHS9lFwGMa/SC8e+HI9bkogjIL/8t1VGZ97dsk8H4+kLzeDH+AF/rUBAACwDA0gSmbq+HfYvIn6YNXWoA8DEZap9cv3NUG0ge89PM3XMbDb499srZ8N4s0io2CUilXAKFjvVcBuBMBSR7/D5k0saHtTg2FYRsC2rwIuJvhlEuRI2Msg6MV5f8WEvyBGwX6Mf90OgKwCtk84/rUBAACAaxgBI9QKbf7Svc7UNtBUtrZ/brZ+6fYb1Dg4zs02kLEvYD4aQITSsHkTiw5/mfbl1v6AYngVMPPlRmh77+FpxoU/wiOQHg0gQsfLoMbCEaTjVzgL+tqB6cJbtmbQy+v7EdwAb9EAAgAAWIYGMEKam5u1dOnSlMeqqqrU3t4uSXIcR0uXLtUTTzyhI0eOaPz48Xrsscd0+eWXB3G4BfNrRBt/H7+bwLCsAIZdbL6LBxBl/IsTMZdffrna2toSX3v27Ek8t3z5cq1YsUKrVq3Szp07VV1drRtuuEFHjx4N8IjzuwRMEOfn+f2epi+uuG7iWeOP0W333zkrkHPzgj4fMGiMfwHvEQAj5oILLlB1dXXi66KLLpJ0rv37/ve/ryVLlmjGjBmqr6/XU089pRMnTmjt2rUBHzUAAPATATBi9u/fr9raWtXV1elrX/ua3nnnHUnSgQMH1N7ersbGxsS25eXluvbaa7V9+/as++zu7lZXV1fKV7JiL+L83z9oMf7ev6wOPse25g8Aoo5zACNk/Pjxevrpp3XppZfqP/7jP/TQQw9pwoQJ2rdvX+I8wKqqqpTXVFVV6b333su635aWlj7nFvaWHOTyuTNIvsGP8BUsgl9wgl4RHAQvRr9B3AnkrXef9uVuIEApaAAjZOrUqbr11ls1ZswYTZkyRS+99JIk6amnnkpsE4vFUl7jOE6fx3pbvHixOjs7E1+HDh1y/+ABAIBvaAAjbODAgRozZoz279+v6dOnS5La29tVU1OT2Kajo6NPK9hbeXm5ysvL835f08e6xfDr+oDXTTxrzGpg2j+gePF79brdBLp9D2DYy4x/aeCJ7u5u/fa3v1VNTY3q6upUXV2t1tbWxPM9PT3asmWLJkyYEOBRwjQ2rvYFANvQAEbIokWLdPPNN2vkyJHq6OjQQw89pK6uLs2ePVuxWExNTU1atmyZRo8erdGjR2vZsmW68MILdccddwR96AAAwEc0gBFy+PBh3X777brssss0Y8YM9evXTzt27NCoUaMkSffff7+ampo0d+5cjRs3Tn/4wx/0y1/+UoMGDQr4yNOzdQFIkA0czZ95bLkmYFSv/efmyJbxL9xEAxgh69aty/p8LBZTc3Ozmpub/TkglMSv8wEJfWazaRVwVJV6PiDBD16gAQQAALAMDSBgsOR2zq02kMYPJvFq9BvE9f9yKeb6gLR/8AoBEAiJdMEt31BI6IOJonreXza9A11yICTswU8EQBjH1sUfxSDYAeFG6ENQOAcQAADAMjSAAABfeT36NfH8P8A0BEAgD37cBs4m468/mdd2//qrAR4fCfwWhvP+/s/ilWkfn9oy3+cjAbzDCBgAAMAyNIAAPJdv45fpdUE1gfGLMNtyNw6bZWr9Mm1DG4iwIwAC8EyxwS/dfmwbB0fxDiCmnfuXT+jL9towhMAHnr885ftlM/cFdCQwDSNgAAAAy9AAAlmw+KN4brV/vfcXRBO4/MfPMQYugYkLP0pp/5L3YUIL2Lvly3db2kC7EQBhnHjo4oLQsFUUx79ey3f860bwM0EhoS/bPrpPnNEjc/7dhSNC2DACBgAAsAwNIJAB49/iuD36Tbf/oMbAcV6Ng/1q/u75u+dzbvOjRTN9OJLwizeKXo6C3Wj7gN5oAGEsAlj4eB3+TLH8x8+5HtZMCn/x7fLdNizCOP4l/MErBEAAAADLMAIGeqF5LI4t7V+y3q1dMaNh05q/dK8zeRwc1fv+0vzBawRAGM3vFcGEP5TC1NW7pY5y4683OQhm48fo181LwhD+4AdGwAAAAJahAUQofLBqq6ctIM1f8Wwc/YaJmws5TB8HB8mN9o/mD34iACI0kkOaW2GQ4AeEV1TP/wP8QABEKGUKbpmCIUHPG7R/yEc8qJl4SzjAVpwDCAAAYBkaQERK1Jq+8/5ict7bnv3nTR4eCWAORr9A6QiAgCEKCXvZXk8QhKmeXTKv5DFwVMMfC0DgN0bAAAAAlqEBBAJWavOXbX+0gTBNKS2gie2fWxd/BvxGAAQC5Hb4y7R/gmB6f1l2Scbnnjj1jo9HYpd8VgWbGPaAKGEEDAAAYBkaQFjptYpjKd9/ufPPfH1/r5s/ZJat9cu2XaGNYPLro9Imun0XEFo+IDgEQFihd+DL53mvQmEQ4e+8v5gcmTHwv/5qQFGvyzf4efH6fF4blZBoE87/Q5gxAgYAALAMDSAiK1frl8/r/R4Nwxultn9++MuyS4xtAd0e/fot3tT9n8UrXd8nEFY0gIic1yqOlRz+vNjXeX8xmXP/kNVfll3ielgtNbyFPfy5bWrLfE/C37KZ+1zfJ5ANARAAAMAyMcdxnKAPAuHS1dWlioqKoA8jI7cau95KHQeb0v65uRhk/PUnXdtXLsUs/gjD6DcdL0bB9/zd83lvG+XWr5QxsF9jX79uC5fcOnZ2dmrw4MG+vC/MwDmAKNk1y27L+NyrD/yTj0fiXfhL3jfnBSKMohzqCpEc4rKFwSDP8Vs2c5/nIZCRMwiAKNpV/3O6LuhflnWbdOHQ71CI8Cv20i9hY+oikKgyeSFHPKC5HQQJfojjHEAAAADL0ADCd/FWkCYw/P71VwM8PQ/QluZPov1DesmNXbFtIK0f0mERCAoWXwSSzwg4X26FQS/PAUxW6HmApiwAkdxdBJLM7SBYavgLywIQgh9MwCIQ+zACBgAAsAwjYBih1LGwX81fsc7+8yajWkAvuDkOtmX0S/sXbh2P5760zvC5rL6GmQiAMMo1y27j3ECPeDX6TZYc3AoNg4Q+hEE+oS/T9oRBmIQRMAAAgGVoAAF4wpZGLx+0ftFQaPuX7vW0gDAFARDG4TIxCLswBr4fb3w97eN3fmVczm1ySd5HGJUa/NLtiyCIoDECBgAAsAwNIOCT+CKMqK8GNsUTp97x9VqAprd+xbZ3xb4u2z7C1Ai62f713i8tIIJEAISxTF0RXOhFoBFtUQ1+Xko+JlPDoFfBDzAFI2AAAADL0AAiEuKtnOkXhJbsuCi0KeLtnFejYFPbPxNbv0zix2pqE+glxsAIEgEQyFOYR79+XATaJgS/aGP8CxswAkakhCWknf3nTYQyHz1x6p3Elxv7gvsIr4C/CIAAAACWYQSMyPHifECvmkWvzwekZeyrmMvDhKH1o0EDUAgCIIxWyl1Bvtz5ZyWFQL/Gyckhzc0wSPjLLFOgSw6GYQh9URP0ghAbzv2788D6lO97jp7Qs//pPwd0NAgSI2AAAADL0AAi0nK1eK9VHDNq4UipbSCtX2lo/RBFvVs/QCIAwnImhb/eeoe55EBI0APCz49rABL+kAkj4BDZunWrbr75ZtXW1ioWi2nDhg0pzzuOo+bmZtXW1mrAgAGaNGmS9u3bl7JNd3e35s+fr2HDhmngwIG65ZZbdPjwYR9/CgAAEDQCYIgcP35cY8eO1apVq9I+v3z5cq1YsUKrVq3Szp07VV1drRtuuEFHjx5NbNPU1KT169dr3bp12rZtm44dO6Zp06bpzJkzfv0YKFL82oG0fwByufPAeto/ZEUADJGpU6fqoYce0owZM/o85ziOvv/972vJkiWaMWOG6uvr9dRTT+nEiRNau3atJKmzs1NPPvmkHnnkEU2ZMkVf+MIX9Oyzz2rPnj16+eWX/f5xChJfDQwAyI7gh3wQACPiwIEDam9vV2NjY+Kx8vJyXXvttdq+fbskadeuXTp16lTKNrW1taqvr09sAwAAoo8AGBHt7e2SpKqqqpTHq6qqEs+1t7erX79+GjJkSMZt0unu7lZXV1fKFwCzBHXtPADhRACMmFgslvK94zh9Hust1zYtLS2qqKhIfI0YMcKVYwWS3bTkB0EfAiw3fO5MX1bmxt/LbZz3h0IQACOiurpakvo0eR0dHYlWsLq6Wj09PTpy5EjGbdJZvHixOjs7E1+HDh1y+egBAICfuA5gRNTV1am6ulqtra36whe+IEnq6enRli1b9PDDD0uSGhoaVFZWptbWVs2cee7/Ptva2rR3714tX748477Ly8tVXl7u/Q+BSMun4cu0zc+/+023DyeS4mNg7gtcmuFzZ3p2WzivGkaaPxSKABgix44d0+9+97vE9wcOHNBvfvMbVVZWauTIkWpqatKyZcs0evRojR49WsuWLdOFF16oO+64Q5JUUVGhu+66SwsXLtTQoUNVWVmpRYsWacyYMZoyZUpQPxYizK2xbvJ+CIO53fmVcYTAEsWDmptB0K/xMpAPAmCIvP7667ruuusS3y9YsECSNHv2bK1Zs0b333+/Tp48qblz5+rIkSMaP368fvnLX2rQoEGJ1zz66KO64IILNHPmTJ08eVLXX3+91qxZo/PPP9/3n6cQrz7wT0EfAgrk1Tl9hMH8hLENNHEhixttIMEPJiIAhsikSZPkOE7G52OxmJqbm9Xc3Jxxm/79+2vlypVauXKlB0cIAADCgEUgAFx105If+Lail5XDud35lXFGNmthUsrqYNo/mIoGEEZj9Itc4iGQcXB2ySEwTGNhkxDmECU0gAAAAJahAQTgmiBHsjct+QEtYJ4yjYSDbAYZUwP+IgDCWH6Of50HB+e9bWwpt8IzFePg0jAmBuzBCBgAAMAyNIAwjqnNX7rX0AYiqvxqAxn9AsEgAMIofoS/YkJftn1FNQT+z5tXJ/78nZ99I8AjQdC8uqg04c89P677KreDQ0EYAQMAAFiGBhCB82vk62bz13u/UWkBk1u/3o+HqQVkRbA3uMcwEB0EQATC7ws8exX+eu8/KkEwnXg4zBQEuSuHHUoNgYx9vfPjuq9KEqNg5IURMAAAgGVoAOGbIG7r5nXzh0/8/LvfpAW0RLoWL59WkPbPHywIQT4IgCja//3Ohj6PXbPstsSfg76PbxDhz43zAb+xIPd/lqtXnC7pPaKO8//8Z2u4+9wlX+/z2G/feSaAI0kVHwdLjISRHiNgAAAAy9AAwlVBt35hlk/z13tbmkDAe+lavmK3D6IdTG4DgTgCICInbOf9FRL80r2WEAh4p9DwV8j+TBgVw14xx3GcoA8C4dLV1aWKioqgDyMtk8JfvucClhIAk5kSBINcCOLHuX9fOHUi8efdZRd6/n7wn9uhLxtTQmBnZ6cGDzbn7094j3MAAQAALEMDiILRAOYnnwbQrfYvzpQWUPK/CfSy/Utu/ZIF3QCu+9SQvLb72h+OeHwk0eBn85dOkG0gDaB9CIAoGAEwP0EEQMm+EOhV8MsU+noLIgTmG/zSIQxmFnQAjAsiCBIA7cMIGAAAwDKsAkYkmNT84RPxds7tJtDrxR75tn/J2/rVBJbS/vV+PW3gJ0xp/wC/EAABeC45sBUbBv1e4WuDdZ8aQgg00Ocu+boxq4MRXYyAAQAALMMiEBTMxEUgJo6Asy0C8WLxR28mLQYJi1IaQK9HwKWOfnOxtQk0ffTrVxPIIhD70AACgOwb//bmdcAEYBYCIAAAgGVYBAK4LN9bwMEMtjd/AOxEAwgAkHRuDMwo2Cymn6OI8CIAAgAAWIYACARg9YrTrNI1AOPf9GgBgejjHEAgYgiW0RS/TItf4Szd+0TtUjGMV2EzAiAA69D8FSceCqMWBE0XD6rcHQRuYgQMAABgGRpAeGryX/e9f+umR4u7F2w28UuvmHhHkGxWrzjt6l1BGP/6z+s7gJgoeTxMG+g9mj94gQAIV6ULfLm28SIQBiXIawAS/uzwtT8cYZGGS377zjOcBwhrMQIGAACwTMxxHCfog0C4dHV1qaKiIvF9Pq1fLm62gEGOgUtpAIsZBdP65c+LhR9Bj39NagLDOgoOQwPoxwi4s7NTgweH6xQalIYAiILFA+DEuffogvJyV/cd1iDoxei3dyAk7BXPq1W/BMBUYQyBBMBzCID2YQQMAABgGRaBwCiT//qbrrWAsaVdvrSAXi38oPErXdSv98eCkOhjBTC8QgBEpHl9eZggV/0iOy/DX9Cj32R+3yEkauIBKwyjYMBNjIABAAAsQwMIK7g9Dqb5M1PUR76m41Zx7mH0C68RAGGN5NBWTBgk9OX22rI3En/+8gNjAzwS+3A+YGlMuii0V+HvM9Mr9fsNH3myb4QPI2AAAADL0ADCSr3bvEyNoKmt36RdjyT+vLlhoe/vn9z0FbqNV82gX+NfkxaAwF1BLwjxsvlL92dJOnvK0YGXGNnbiAAI48TvLOLnPYJNDXrJkkNfPo9L3oTDfMJfvq9nTAyc40f4A5IRAGEcP4Of6bKFu0Je70YQLDX4wXtcEsYdyWHM6zbQi+BH6EM+OAcQAADAMjSAgKFKbf9676uUFtCr9u+1ZW+UPAbm0i/wUu+Gzq1GkOYPQSMAwjhBnAMIAPkw9fp8hD8UihEwAACAZWgAYRzbmz83R7/p9lvIKNiPhR/x9zB9RTCXf4GpaP9QDBpAAGmx6hcAoosACAAAYBlGwIBBvBr/wi5B3Rc4fh1C+IPRL0pBAwij2H7+H8zE+X+5Ef78RfhDqQiAAAAAlmEEDCPQ/KFY8XaOC0Kn8uu2cDR//qL5g1sIgAAiYXfZha6HwCiMfr04H5DQB4QfI+AQ2bp1q26++WbV1tYqFotpw4YNKc/PmTNHsVgs5evKK69M2aa7u1vz58/XsGHDNHDgQN1yyy06fPiwjz8FAAAIGg1giBw/flxjx47VN77xDd16661pt7npppu0evXqxPf9+vVLeb6pqUk/+9nPtG7dOg0dOlQLFy7UtGnTtGvXLp1//vmeHn8mjH/PMWUFcJiv/+fmODgK7V+cWy2gl83f/rHzE38e/cZKz94njBj7wgsEwBCZOnWqpk6dmnWb8vJyVVdXp32us7NTTz75pJ555hlNmTJFkvTss89qxIgRevnll3XjjTe6fsyZEPr62tyw0NMQWMgdQMKu1HFwlMJfXHJ4yxUGvQp6ySEv3+1sDYOEPniNEXDEbN68WcOHD9ell16qu+++Wx0dHYnndu3apVOnTqmxsTHxWG1trerr67V9+/YgDhcAAASABjBCpk6dqttuu02jRo3SgQMH9Ld/+7eaPHmydu3apfLycrW3t6tfv34aMiT1//6rqqrU3t6ecb/d3d3q7u5OfN/V1SVJ2vr4jyRJk//6m3kdH60f/JRvCxjFti8Xvxdx5Nv8ZXqtbS0g7R/8QACMkFmzZiX+XF9fr3HjxmnUqFF66aWXNGPGjIyvcxxHsVgs4/MtLS1aunRpxucJdjCVCeHu/ttv6/PY8n/8pwCOJBilhL/e+4h6ECT4wU8EwAirqanRqFGjtH//fklSdXW1enp6dOTIkZQWsKOjQxMmTMi4n8WLF2vBggWJ77u6ujRixAjvDtxiXp8HCO+kC3qFbGtTKERfhD/4jXMAI+zDDz/UoUOHVFNTI0lqaGhQWVmZWltbE9u0tbVp7969WQNgeXm5Bg8enPIFAADCiwYwRI4dO6bf/e53ie8PHDig3/zmN6qsrFRlZaWam5t16623qqamRu+++64eeOABDRs2TF/96lclSRUVFbrrrru0cOFCDR06VJWVlVq0aJHGjBmTWBWMaLJpBbCfCmn98tlXlFpAN0a/ALxDAAyR119/Xdddd13i+/hYdvbs2frhD3+oPXv26Omnn9bHH3+smpoaXXfddXruuec0aNCgxGseffRRXXDBBZo5c6ZOnjyp66+/XmvWrAnsGoDoKx7WGAWbyc3Ql2nfUQqCyI7RL4JCAAyRSZMmyXGcjM//4he/yLmP/v37a+XKlVq5MtonUwMAgMw4BxAwlBtj280NCxn/uuT+22/ztP3r/V4A4CUaQMBgxYyDwxb4vvzA2KAPIScCWWE4/w8wHw0gAACAZWgAYZTVNxd28vs3fmZHM9O71UvXCLrR/L227I2S9xElNH92qnzwrzM+99HSR308EsA7BEAErtDQl+61tgTBuLCNeVE4VgR7L1vQy/UagiDCjhEwAACAZWgAEYhSWj8TfPndOxJ/fu3TawM8knAzeQEI499oK6b9S/d6mkCEFQEQvvMi/Hk1Ck4OevluE9ZAyPl/nyD8lWb0GytdXQk8+g33rltaavADooIRMAAAgGVoAOGbsI1982n/sr0urE0gYBLT278wj4J/v+GjoA8BASIAwhd+hb/VN/9TyWPgYoNfuv0QAsOF0W80Mfbti/AHAiCQxK3w13t/BEHYJt7cFXsuoJvNn8niQewz0yt9fT+AcwABAAAsQwMIT4XlvD+3m790+ze1BWT17zmMf71RzIpgW9o/v9H+IRkBEJFT6CVhvA5/QDGidAeQIANdWM7/+/2GjzwZAxP6kAkjYAAAAMvQAMIzYRn/+oUFIQCycXNBCM0fciEAInLcvhsI3GfyLeBMYPr4d8ysgwVtv+e5kR4dSTQlh7d8wyCBD4ViBAwAAGAZGkAA0LnWjZXA6RXa+GV7PW1gYWj24BUCIOAzky4JwyVgzGLS6LfU0Jdtv4RAIHiMgAEAACxDAwjXBb36t9DrAAImsKH9671/mkAgOARARA7Bz2ysAE5lUvDzG+NgIDiMgAEAACxDAwgA/1+8jfN6NbCprZ/Xo99s7+lVE/jR0kc9vR3cR0sf9WzfgJcIgADgA1NDX1wQ4a/3+3sZAiWz7wv8/KHpGZ+bOWKDb8cBexAAAaAXN64JaHrgs5HbbWAx7V+2oJfPawiDcAvnAAIAAFiGBhCRwgpgc4Vt9W9yg5etDQx70xf06DeZH5eHcWscXEj7V0zrl2tfNIEoFQEQrouHMD+vB0jwg5fCHvLQV7oAlykUlrLQw83w13u/hECUghEwAACAZWgAAZ+Zch9gP4Vt/As7uXlJF6+av3TvQROIYtAAwjN+jWUZ/5rryw+MJfzBOn6EP6BUBEAAAADLEADhqW/87DZPGzo39m3jSBYwmUkrkwvx/KHpgbR/NI4oBucAwhfJQa3U1cFhHfnaFjQZ/QKAuWgAAQAALEMDCN/lavDiDaGfTV+8nfvyu3d4un8b0PyFR1hHrSZiDIuwIQDCOEGOeF/79FpXQ6Dpwe/LD4zVa8veCPowgD78uCsIYDNGwAAAAJahAQR6cWscbHr7Fxcf2brRBDL+hW0Y/SKsCIBABr0DXLZAGJawl02x42BCHwCEDwEQyFMUQl4u+YZAG0LfXePeKvq1T77+eRePxE6c+wd4i3MAAQAALEMDCCBFrnMCo9b+ldL05btPGkEApiEAAkgreRwctdAX50X4y/Q+hEAAJmEEDAAAYBkaQAAZRbH586v1y/S+JjWBe54byd1AAEvRAAKwwl3j3gos/PU+DsBNM0dsCPoQEEIEQAAAAMsQAAFEnmmtmyltJEo3c8QGGjiEEucAAgCMwkWg80PwRCloAAEAACxDAwggshiz5hZv20xYDRzm5m/miA16/tB0X98PKAUBEAAQuDCHv7h4KPMyCBL84BZGwAAAAJahAQQABHZR6Cg0f725PQ6m9YMXCIAAAEmpYczLMOhH6Nv1/sy8tmuofd6T9y9lHEzggx8YAQMAAFgm5jiOE/RBIFy6urpUUVER9GEAWYVlBbBJ9wbORz7NYNBj3XzbP8m7BjBsOjs7NXjw4KAPAz5iBAwAyFvQ4S6bQoJf79cQBGEbRsAh0dLSoiuuuEKDBg3S8OHDNX36dL399tsp2ziOo+bmZtXW1mrAgAGaNGmS9u3bl7JNd3e35s+fr2HDhmngwIG65ZZbdPjwYT9/FABwXTHhz83XA2FDAAyJLVu26L777tOOHTvU2tqq06dPq7GxUcePH09ss3z5cq1YsUKrVq3Szp07VV1drRtuuEFHjx5NbNPU1KT169dr3bp12rZtm44dO6Zp06bpzJkzQfxYAAAgAJwDGFJ//OMfNXz4cG3ZskUTJ06U4ziqra1VU1OTvvWtb0k61/ZVVVXp4Ycf1j333KPOzk5ddNFFeuaZZzRr1ixJ0vvvv68RI0Zo48aNuvHGG/N676DPARzQ+eM+j52suDOAI4HpTD8PMGzn/5nIzebO5jEw5wDah3MAQ6qzs1OSVFlZKUk6cOCA2tvb1djYmNimvLxc1157rbZv36577rlHu3bt0qlTp1K2qa2tVX19vbZv354xAHZ3d6u7uzvxfVdXlxc/UlbpQl+m5wmD5vnuocKGDUtGnPXoSAAAEiPgUHIcRwsWLNDVV1+t+vp6SVJ7e7skqaqqKmXbqqqqxHPt7e3q16+fhgwZknGbdFpaWlRRUZH4GjFihJs/DgAA8BkNYAjNmzdPb775prZt29bnuVgslvK94zh9Hust1zaLFy/WggULEt93dXX5FgJzNX/ZXkMTGKxCW790r6UJBABvEABDZv78+XrxxRe1detWXXzxxYnHq6urJZ1r+WpqahKPd3R0JFrB6upq9fT06MiRIyktYEdHhyZMmJDxPcvLy1VeXu72j+K5AZ0/JgQGoJTgl21fxYTB+Dl2pp8LCAB+YwQcEo7jaN68eXrhhRe0adMm1dXVpTxfV1en6upqtba2Jh7r6enRli1bEuGuoaFBZWVlKdu0tbVp7969WQMgAACIFhrAkLjvvvu0du1a/fSnP9WgQYMS5+xVVFRowIABisViampq0rJlyzR69GiNHj1ay5Yt04UXXqg77rgjse1dd92lhQsXaujQoaqsrNSiRYs0ZswYTZkyJcgfL61ixr+Z9hGWJrB+TX3G5/bO2evjkRTOzeYv2/6jMBZm9S+AoHEZmJDIdI7e6tWrNWfOHEnnWsKlS5fqRz/6kY4cOaLx48frscceSywUkaQ//elP+pu/+RutXbtWJ0+e1PXXX6/HH3+8oHP6/LoMjBsBMJmJITBb4MuHSaHQ6wCYrJgQaNIYmADoDrcv3sxlYLgMjE1oAEMin5wei8XU3Nys5ubmjNv0799fK1eu1MqVK108OgAAECYEQFjDlHFwqa1f730F3QL62fz1fs8ojIMBIAiMgFGwsI6A44IKgG4Gv0z8DoNBhL/eCg2BQY+CGf+6izuBuIMRsH2C/9sbAAAAviIAwjpeNYvZ+NH++fk+JvnuofMKaiKDauCefP3ztH8Gs7n9g504BxBWMuV8QC/EQ2DQ5wb67buHzst7HOz3BaIJfuYi+MFWNICAh+rX1FvZygXFxDaQ8OethtrnCXFAEQiAAAAAlmEEDKtF+X7BJlwiJgwyNXSljIdp/fzXUPt8wSuCaQ5hMwIgEGGcD1g8Qlz4JAe6dGGQwAd8ghEwAACAZWgAYT2vxsAs/gCCQ9sHZEcDCCCSTLhLCQCYir8hAQAALMMIGEX74a/+mwYM7Jfy2JwrHw/oaAAgXN667LN5bff5t//d4yOBjQiAcNWaHXNDGQKjfGcQLy0ZcZZRK5CnfANfttcRBuEW/uYGAACwDAEQrluzY67W7Jgb9GEgiZcrkpeMOFvyNfeAKHvrss8W3f55uS/YjREwPBPGcbCbl4TZO2cvl4JBaPygZWJJr//m4q0uHUk0eB3S3rrss4yDURIaQAAAAMvEHMdxgj4IhEtXV5cqKirSrgLOpNgmML44w09uLgQxpQH061Zwpi0IYTSdXqltX7FsaQn9HtG60QR2dnZq8ODBLhwNwoIRMHwRxnEwEEVBhb9C3jusQTGoc/MYB6MYBEAAruGyMOYKMvgVqvexhiEQBr0wgxCIQvE3NQAAgGVoAOGb+KVhTB8Fc1Ho0sTPu6MJhFuSG0HT2sCgmz+gWARAwEPxxRemLAbxU9DjYBaAfCJM499cTA6DQYuHUUbByAf/iw4AAGAZGkAYLT6GDeJyMCidbePgX2/YkHObL06f7vlxwB+MfxFmBEDAB7bfFcTvcbBf4998Al+21/gRBqM0/u3tBy0TGQOnwYpg5MOO/y0HAABAAg0gfGf6RaGjtPrXrzuA5MOPcbDJzV+m/TASLk284fS7CWT8i7CjAUQoRCGU7Z2z16hAFhSvQlrYwh8ABIkACAAAYBlGwAB85+Y4OOzX+4s3ioyCAfiJBhBI4seo2a8xcBjGzUtGnE18+fG6Uvx6wwZPx7+MlksT5dXOxXjrss9yniKyIgACAABYhhEwQsPLi0L7vcjE5lvEZRL2US4AhAkNIEInCiuC47wY07LaGMDn3/53LgaNrGgA4Ts3rgHoVhtYapisGT0p43Nt+zfntY/ksFZKI0joA/zz+bf/nXPsEGo0gAAAAJahAUSonay4s6gWsJjmL1vbl2t7r9pAWj/k8s3FW61YIcs9gYHCEADhG69u/5Yc5jKFwTCeN0i4AwB4hREwAACAZWgAESleNX2Fjn/TvT7fMTCAcDB1IQirf5EPAiB84dX412ulBr90+yIIwm9RPg8w6HP/4mHLxCAIZMMIGAAAwDI0gPBUWJs/AOYLuv1LZsI4mNEvCkEAhOuiEvrcHP/23i9jYPgtHpaiOgo2QZDjYMIfCsUIGAAAwDI0gHBFVFo/AOYzafSbTnIb50cbSPuHYsQcx3GCPgiES1dXlyoqKoI+DM95NQKWWAkcZr/esMGT/X5x+nRP9ptOmMfApoe/bNwMg26Hvs7OTg0ePNjVfcJsjIABAAAswwgYsMwDeibl+2X6ekBHgqCEdUFImNs/KXtr99Zln2WUC18xAkbBGAGXJojxb+/Qlw5BMH9ujoH9HP2mY3oIDHvoCwtGwPZhBAwAAGAZRsAAJJ1rCWkB/RV0+yelb9hMaAVp/gBvEQCBXrxc/YtoiAc3r1YEBy3f8OVmUCTwAf4iAAI+Mf3SL7R/hUtu8AoJgyY0f24gtAHhxTmAAAAAlmEVMArGKuDiBN0AZloJTPPnjXgjGJW2D9HGKmD7EABRMAJg4YIOfwCQDQHQPoyAAQAALEMABDKgtQMARBUBMCRaWlp0xRVXaNCgQRo+fLimT5+ut99+O2WbOXPmKBaLpXxdeeWVKdt0d3dr/vz5GjZsmAYOHKhbbrlFhw8f9vNHsUrb/s0ESQCAcQiAIbFlyxbdd9992rFjh1pbW3X69Gk1Njbq+PHjKdvddNNNamtrS3xt3Lgx5fmmpiatX79e69at07Zt23Ts2DFNmzZNZ86c8fPHAQAAAWIRSEj98Y9/1PDhw7VlyxZNnHjuYqxz5szRxx9/rA0ZrkfW2dmpiy66SM8884xmzZolSXr//fc1YsQIbdy4UTfeeGNe723LIpBkxSwIofkDEBYsArEPDWBIdXZ2SpIqKytTHt+8ebOGDx+uSy+9VHfffbc6OjoSz+3atUunTp1SY2Nj4rHa2lrV19dr+/btGd+ru7tbXV1dKV+2yTfMxUe+hD8AgMkIgCHkOI4WLFigq6++WvX19YnHp06dqp/85CfatGmTHnnkEe3cuVOTJ09Wd3e3JKm9vV39+vXTkCFDUvZXVVWl9vb2jO/X0tKiioqKxNeIESO8+cEAAIAvuBVcCM2bN09vvvmmtm3blvJ4fKwrSfX19Ro3bpxGjRqll156STNmzMi4P8dxFIvFMj6/ePFiLViwIPF9V1eXlSGQVg8AEBU0gCEzf/58vfjii3rllVd08cUXZ922pqZGo0aN0v79+yVJ1dXV6unp0ZEjR1K26+joUFVVVcb9lJeXa/DgwSlfAAAgvAiAIeE4jubNm6cXXnhBmzZtUl1dXc7XfPjhhzp06JBqamokSQ0NDSorK1Nra2tim7a2Nu3du1cTJkzw7NgBAIBZGAGHxH333ae1a9fqpz/9qQYNGpQ4Z6+iokIDBgzQsWPH1NzcrFtvvVU1NTV699139cADD2jYsGH66le/mtj2rrvu0sKFCzV06FBVVlZq0aJFGjNmjKZMmZL3sbBwHACihb/XLeQgFCSl/Vq9erXjOI5z4sQJp7Gx0bnoooucsrIyZ+TIkc7s2bOdgwcPpuzn5MmTzrx585zKykpnwIABzrRp0/psk8vvf//7jMfDF1988cVX+L4OHTrk1j9XCAmuA4iCffzxxxoyZIgOHjxo3fUA8xVfKHPo0CHOmcyAzyg3PqPs+Hxyy/UZOY6jo0ePqra2Vuedx1lhNmEEjILF/5KoqKjgL90cWDSTG59RbnxG2fH55JbtM+J/5O1E3AcAALAMARAAAMAyBEAUrLy8XA8++KDKy8uDPhRj8RnlxmeUG59Rdnw+ufEZIRMWgQAAAFiGBhAAAMAyBEAAAADLEAABAAAsQwAEAACwDAEQBXv88cdVV1en/v37q6GhQa+++mrQhxSI5uZmxWKxlK/q6urE847jqLm5WbW1tRowYIAmTZqkffv2BXjE3tu6datuvvlm1dbWKhaLacOGDSnP5/OZdHd3a/78+Ro2bJgGDhyoW265RYcPH/bxp/BWrs9ozpw5fX6vrrzyypRtovwZtbS06IorrtCgQYM0fPhwTZ8+XW+//XbKNrb/HuXzGdn+e4TcCIAoyHPPPaempiYtWbJEu3fv1jXXXKOpU6fq4MGDQR9aIC6//HK1tbUlvvbs2ZN4bvny5VqxYoVWrVqlnTt3qrq6WjfccIOOHj0a4BF76/jx4xo7dqxWrVqV9vl8PpOmpiatX79e69at07Zt23Ts2DFNmzZNZ86c8evH8FSuz0iSbrrpppTfq40bN6Y8H+XPaMuWLbrvvvu0Y8cOtba26vTp02psbNTx48cT29j+e5TPZyTZ/XuEPAR3G2KE0Ze+9CXn3nvvTXnss5/9rPPtb387oCMKzoMPPuiMHTs27XNnz551qqurne9973uJx/70pz85FRUVzt///d/7dITBkuSsX78+8X0+n8nHH3/slJWVOevWrUts84c//ME577zznJ///Oe+Hbtfen9GjuM4s2fPdv78z/8842ts+4w6OjocSc6WLVscx+H3KJ3en5Hj8HuE3GgAkbeenh7t2rVLjY2NKY83NjZq+/btAR1VsPbv36/a2lrV1dXpa1/7mt555x1J0oEDB9Te3p7yWZWXl+vaa6+19rPK5zPZtWuXTp06lbJNbW2t6uvrrfrcNm/erOHDh+vSSy/V3XffrY6OjsRztn1GnZ2dkqTKykpJ/B6l0/sziuP3CNkQAJG3Dz74QGfOnFFVVVXK41VVVWpvbw/oqIIzfvx4Pf300/rFL36hf/iHf1B7e7smTJigDz/8MPF58Fl9Ip/PpL29Xf369dOQIUMybhN1U6dO1U9+8hNt2rRJjzzyiHbu3KnJkyeru7tbkl2fkeM4WrBgga6++mrV19dL4veot3SfkcTvEXK7IOgDQPjEYrGU7x3H6fOYDaZOnZr485gxY3TVVVfpM5/5jJ566qnEydZ8Vn0V85nY9LnNmjUr8ef6+nqNGzdOo0aN0ksvvaQZM2ZkfF0UP6N58+bpzTff1LZt2/o8x+/ROZk+I36PkAsNIPI2bNgwnX/++X3+77Cjo6PP/43baODAgRozZoz279+fWA3MZ/WJfD6T6upq9fT06MiRIxm3sU1NTY1GjRql/fv3S7LnM5o/f75efPFFvfLKK7r44osTj/N79IlMn1E6tv4eITMCIPLWr18/NTQ0qLW1NeXx1tZWTZgwIaCjMkd3d7d++9vfqqamRnV1daqurk75rHp6erRlyxZrP6t8PpOGhgaVlZWlbNPW1qa9e/da+7l9+OGHOnTokGpqaiRF/zNyHEfz5s3TCy+8oE2bNqmuri7leX6Pcn9G6dj2e4Q8BLP2BGG1bt06p6yszHnyySedt956y2lqanIGDhzovPvuu0Efmu8WLlzobN682XnnnXecHTt2ONOmTXMGDRqU+Cy+973vORUVFc4LL7zg7Nmzx7n99tudmpoap6urK+Aj987Ro0ed3bt3O7t373YkOStWrHB2797tvPfee47j5PeZ3Hvvvc7FF1/svPzyy86vf/1rZ/Lkyc7YsWOd06dPB/VjuSrbZ3T06FFn4cKFzvbt250DBw44r7zyinPVVVc5n/rUp6z5jP7qr/7KqaiocDZv3uy0tbUlvk6cOJHYxvbfo1yfEb9HyAcBEAV77LHHnFGjRjn9+vVzvvjFL6ZcesAms2bNcmpqapyysjKntrbWmTFjhrNv377E82fPnnUefPBBp7q62ikvL3cmTpzo7NmzJ8Aj9t4rr7ziSOrzNXv2bMdx8vtMTp486cybN8+prKx0BgwY4EybNs05ePBgAD+NN7J9RidOnHAaGxudiy66yCkrK3NGjhzpzJ49u8/PH+XPKN1nI8lZvXp1Yhvbf49yfUb8HiEfMcdxHP/6RgAAAASNcwABAAAsQwAEAACwDAEQAADAMgRAAAAAyxAAAQAALEMABAAAsAwBEAAAwDIEQAAAAMsQAAEAACxDAAQAALAMARAAAMAyBEAAAADLEAABAAAsQwAEAACwDAEQAADAMgRAAAAAyxAAAQAALEMABAAAsAwBEAAAwDIEQAAAAMsQAAEAACxDAAQAALAMARAAAMAyBEAAAADLEAABAAAsQwAEAACwDAEQAADAMgRAAAAAyxAAAQAALEMABAAAsAwBEAAAwDL/D/9UQ3fPc4ATAAAAAElFTkSuQmCC\"></img>\n",
       "</td>\n",
       "<td style=\"text-align: center; vertical-align: top;\">\n",
       "\n",
       "<table>\n",
       "<tr><td>shape</td><td>(254,&nbsp;256)</td></tr>\n",
       "<tr><td>dtype</td><td>int32</td></tr>\n",
       "<tr><td>size</td><td>254.0 kB</td></tr>\n",
       "<tr><td>min</td><td>0</td></tr><tr><td>max</td><td>56</td></tr>\n",
       "</table>\n",
       "\n",
       "</td>\n",
       "</tr>\n",
       "</table>"
      ],
      "text/plain": [
       "StackViewNDArray([[ 0,  0,  0, ...,  0,  0,  0],\n",
       "                  [ 0,  0,  0, ..., 52, 52,  0],\n",
       "                  [ 0,  0,  0, ..., 52, 52,  0],\n",
       "                  ...,\n",
       "                  [ 0,  0,  0, ...,  0,  0,  0],\n",
       "                  [ 0,  0,  0, ...,  0,  0,  0],\n",
       "                  [ 0,  0,  0, ...,  0,  0,  0]])"
      ]
     },
     "execution_count": 5,
     "metadata": {},
     "output_type": "execute_result"
    }
   ],
   "source": [
    "stackview.insight(nuclei_labels)"
   ]
  },
  {
   "cell_type": "code",
   "execution_count": null,
   "id": "a7d05328-f116-49e1-9201-17fee564ee49",
   "metadata": {},
   "outputs": [],
   "source": []
  }
 ],
 "metadata": {
  "kernelspec": {
   "display_name": "Python 3 (ipykernel)",
   "language": "python",
   "name": "python3"
  },
  "language_info": {
   "codemirror_mode": {
    "name": "ipython",
    "version": 3
   },
   "file_extension": ".py",
   "mimetype": "text/x-python",
   "name": "python",
   "nbconvert_exporter": "python",
   "pygments_lexer": "ipython3",
   "version": "3.9.16"
  }
 },
 "nbformat": 4,
 "nbformat_minor": 5
}
