{
 "cells": [
  {
   "cell_type": "markdown",
   "id": "b97b3b00-8ff4-4e1b-b7c7-709f87aabc37",
   "metadata": {},
   "source": [
    "## BIA Tischi demo\n",
    "BIA Tischi is a Jupyter-magic based assistant for interacting data via code"
   ]
  },
  {
   "cell_type": "code",
   "execution_count": 1,
   "id": "f4ae3a80-b6ea-4409-95b7-caecd4e4211c",
   "metadata": {
    "tags": []
   },
   "outputs": [
    {
     "data": {
      "text/plain": [
       "'0.1.0'"
      ]
     },
     "execution_count": 1,
     "metadata": {},
     "output_type": "execute_result"
    }
   ],
   "source": [
    "from bia_tischi import tischi\n",
    "tischi.__version__"
   ]
  },
  {
   "cell_type": "markdown",
   "id": "847ef918-65b2-4122-adb6-b2cabb46b1b4",
   "metadata": {},
   "source": [
    "We initially give tischi access to all variables in the current scope."
   ]
  },
  {
   "cell_type": "code",
   "execution_count": 2,
   "id": "00a53272-efae-4393-b639-d73d68655575",
   "metadata": {},
   "outputs": [],
   "source": [
    "tischi.initialize(globals())"
   ]
  },
  {
   "cell_type": "markdown",
   "id": "6b78c8e5-58d1-4750-b659-e639a2b99d2f",
   "metadata": {},
   "source": [
    "It works using the `%tischi` and `%%tischi` magic commands. Just enter tasks and ask questions. Hint: if you want to ask a question, you need to put a space before the `?`."
   ]
  },
  {
   "cell_type": "code",
   "execution_count": 3,
   "id": "80439485-2899-4f51-b78e-3bf7f7c58e4d",
   "metadata": {},
   "outputs": [],
   "source": [
    "a = 5"
   ]
  },
  {
   "cell_type": "code",
   "execution_count": 4,
   "id": "7f40c8a0-d0df-4b19-b43b-2d817ac5ee15",
   "metadata": {
    "tags": []
   },
   "outputs": [
    {
     "name": "stdout",
     "output_type": "stream",
     "text": [
      "Asking for code like this:\n",
      " \n",
      "    Write high-quality python code.\n",
      "    Use image-processing libraries such as scikit-image, scipy, numpy or pyclesperanto_prototype.\n",
      "    Do not show results, but save them in variables instead.\n",
      "    Do not provide additional explanations, just Python code.\n",
      "    The following variables are available:\n",
      "    ['__name__', '__doc__', '__package__', '__loader__', '__spec__', '__builtin__', '__builtins__', '_ih', '_oh', '_dh', 'In', 'Out', 'get_ipython', 'exit', 'quit', 'open', '_', '__', '___', '__session__', '_i', '_ii', '_iii', '_i1', 'tischi', '_1', '_i2', '_i3', 'a', '_i4']\n",
      "    \n",
      "    The code should do the following:\n",
      "    print(a)\n",
      "\n",
      "Code:\n",
      " print(a)\n",
      "Execution:\n",
      "5\n",
      "Execution done.\n"
     ]
    },
    {
     "data": {
      "text/markdown": [
       "The Python code for printing out the variable `a` is `print(a)`. This code will execute and display the value of the variable `a`."
      ],
      "text/plain": [
       "<IPython.core.display.Markdown object>"
      ]
     },
     "metadata": {},
     "output_type": "display_data"
    }
   ],
   "source": [
    "%tischi generate and execute python code for printing out the variable a"
   ]
  },
  {
   "cell_type": "code",
   "execution_count": null,
   "id": "e403391c",
   "metadata": {
    "collapsed": false,
    "jupyter": {
     "outputs_hidden": false
    }
   },
   "outputs": [],
   "source": [
    "\n"
   ]
  }
 ],
 "metadata": {
  "kernelspec": {
   "display_name": "Python 3 (ipykernel)",
   "language": "python",
   "name": "python3"
  },
  "language_info": {
   "codemirror_mode": {
    "name": "ipython",
    "version": 3
   },
   "file_extension": ".py",
   "mimetype": "text/x-python",
   "name": "python",
   "nbconvert_exporter": "python",
   "pygments_lexer": "ipython3",
   "version": "3.9.16"
  }
 },
 "nbformat": 4,
 "nbformat_minor": 5
}
