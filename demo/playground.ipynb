{
 "cells": [
  {
   "cell_type": "code",
   "execution_count": 1,
   "id": "370cf3ae-7b85-43c4-b042-c835db1507db",
   "metadata": {},
   "outputs": [
    {
     "name": "stdout",
     "output_type": "stream",
     "text": [
      "Assistant initialised.\n",
      "\n",
      "You can call it using the %ai command, e.g.\n",
      "\n",
      "%ai please generate a random 2D grayscale image.\n"
     ]
    }
   ],
   "source": [
    "import openai\n",
    "from bia_tischi._utilities import available_models\n",
    "from bia_tischi._machinery import init_assistant\n",
    "from bia_tischi._machinery import Context\n",
    "\n",
    "Context.verbose = True\n",
    "init_assistant(\"gpt-3.5-turbo\", 0)"
   ]
  },
  {
   "cell_type": "code",
   "execution_count": 2,
   "id": "c8e6e4f5-8c35-476e-8bb7-5c256aab75ee",
   "metadata": {},
   "outputs": [
    {
     "data": {
      "text/markdown": [
       "\n",
       "#### Request details\n",
       "\n",
       "- Model: gpt-3.5-turbo\n",
       "- Input: 274 token = 0.0411 US Cent.\n",
       "- Output: 25 token = 0.0050 US Cent, https://openai.com/pricing\n",
       "\n",
       "### Assistant response\n",
       "\n",
       "Step-by-step plan:\n",
       "1. Print the string \"Hello World\".\n",
       "\n",
       "Code:\n",
       "#### Additional information\n",
       "\n",
       "The code was put into the next cell.\n",
       "\n",
       "It is **your responsibility to carefully check it** before executing!\n",
       "\n"
      ],
      "text/plain": [
       "<IPython.core.display.Markdown object>"
      ]
     },
     "metadata": {},
     "output_type": "display_data"
    }
   ],
   "source": [
    "Context.verbose = False\n",
    "%ai please print hello world"
   ]
  },
  {
   "cell_type": "code",
   "execution_count": null,
   "id": "62f6e79c-e7b9-40e9-946c-931ae0272ca1",
   "metadata": {},
   "outputs": [],
   "source": [
    "print(\"Hello World\")"
   ]
  },
  {
   "cell_type": "code",
   "execution_count": null,
   "id": "f3071eca-0e20-401b-aab9-92e621aa2f39",
   "metadata": {},
   "outputs": [],
   "source": [
    "import numpy as np\n",
    "import matplotlib.pyplot as plt\n",
    "\n",
    "# Set the size of the image\n",
    "image_size = (256, 256)\n",
    "\n",
    "# Generate random pixel values\n",
    "random_pixels = np.random.randint(0, 256, image_size, dtype=np.uint8)\n",
    "\n",
    "# Create the grayscale image\n",
    "image = np.array(random_pixels, dtype=np.uint8)\n",
    "\n",
    "# Display the image\n",
    "plt.imshow(image, cmap='gray')\n",
    "plt.axis('off')\n",
    "plt.show()"
   ]
  }
 ],
 "metadata": {
  "kernelspec": {
   "display_name": "Python 3 (ipykernel)",
   "language": "python",
   "name": "python3"
  },
  "language_info": {
   "codemirror_mode": {
    "name": "ipython",
    "version": 3
   },
   "file_extension": ".py",
   "mimetype": "text/x-python",
   "name": "python",
   "nbconvert_exporter": "python",
   "pygments_lexer": "ipython3",
   "version": "3.9.18"
  }
 },
 "nbformat": 4,
 "nbformat_minor": 5
}
