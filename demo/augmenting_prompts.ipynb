{
 "cells": [
  {
   "cell_type": "markdown",
   "id": "69da0313-3276-4bf4-8096-ba2da4e52e7b",
   "metadata": {},
   "source": [
    "# Augmenting prompts\n",
    "Using the `{variable}` syntax, we can augment prompts to \"%bob\". This allows providing necessary information to have code that fits best to requested tasks. This notebook demonstrates how to use this, e.g. to let bob come up with regular expressions for retrieving information from filenames."
   ]
  },
  {
   "cell_type": "code",
   "execution_count": 1,
   "id": "7dd2c7f1-8e55-48b4-9dce-8cc30e57352c",
   "metadata": {},
   "outputs": [],
   "source": [
    "filenames = [\"exp01_c1_t0001.tif\", \"exp01_c2_t0001.tif\", \"exp01_c1_t0002.tif\", \"exp01_c2_t0002.tif\"]"
   ]
  },
  {
   "cell_type": "code",
   "execution_count": 2,
   "id": "a1f80cf8-d720-46c7-825d-487e62bdbc83",
   "metadata": {},
   "outputs": [],
   "source": [
    "import bia_bob"
   ]
  },
  {
   "cell_type": "code",
   "execution_count": 3,
   "id": "ccd6da97-970b-4e6f-affc-88ee2f33063f",
   "metadata": {},
   "outputs": [
    {
     "data": {
      "text/plain": [
       "['exp01_c1_t0001.tif',\n",
       " 'exp01_c2_t0001.tif',\n",
       " 'exp01_c1_t0002.tif',\n",
       " 'exp01_c2_t0002.tif']"
      ]
     },
     "execution_count": 3,
     "metadata": {},
     "output_type": "execute_result"
    }
   ],
   "source": [
    "filenames"
   ]
  },
  {
   "cell_type": "raw",
   "id": "8af47295-f632-47d9-a506-89408d85dc44",
   "metadata": {},
   "source": [
    "%%bob\n",
    "I have the following list of filenames stored in variable \"filenames\":\n",
    "\n",
    "{filenames}\n",
    "\n",
    "Please write Python code using regular expressions for extracting\n",
    "the time point t and the channel c  as numbers from the filenames. \n",
    "Save them in two lists t_list and c_list.\n",
    "Print out both lists."
   ]
  },
  {
   "cell_type": "code",
   "execution_count": 5,
   "id": "d4b924d9-5701-4724-98bc-400a68a85fa5",
   "metadata": {},
   "outputs": [
    {
     "name": "stdout",
     "output_type": "stream",
     "text": [
      "Time points (t_list): [1, 1, 2, 2]\n",
      "Channels (c_list): [1, 2, 1, 2]\n"
     ]
    }
   ],
   "source": [
    "import re\n",
    "\n",
    "t_list = []\n",
    "c_list = []\n",
    "\n",
    "for filename in filenames:\n",
    "    t_match = re.search(r't(\\d+)', filename)\n",
    "    c_match = re.search(r'c(\\d+)', filename)\n",
    "    \n",
    "    if t_match:\n",
    "        t_list.append(int(t_match.group(1)))\n",
    "    if c_match:\n",
    "        c_list.append(int(c_match.group(1)))\n",
    "\n",
    "print(\"Time points (t_list):\", t_list)\n",
    "print(\"Channels (c_list):\", c_list)"
   ]
  },
  {
   "cell_type": "markdown",
   "id": "002a8eaa-be6f-4d17-bcac-168a41ae5cc1",
   "metadata": {},
   "source": [
    "## Computing image object features\n",
    "The same approach can be used for computing additional features after feature extraction from images."
   ]
  },
  {
   "cell_type": "code",
   "execution_count": 10,
   "id": "62cd0256-af24-40a9-81cb-a60a666300e2",
   "metadata": {},
   "outputs": [],
   "source": [
    "%%bob\n",
    "Load blobs.tif. Segmen the bright objects using \n",
    "Otsu's method and connected component labeling.\n",
    "Extract shape descriptors from the label image \n",
    "using scikit-image's regionprops_table.\n",
    "Store the measurements in a pandas DataFrame"
   ]
  },
  {
   "cell_type": "code",
   "execution_count": 13,
   "id": "8fbbf065-2056-4e0e-9476-05359ce52120",
   "metadata": {},
   "outputs": [
    {
     "data": {
      "text/html": [
       "<div>\n",
       "<style scoped>\n",
       "    .dataframe tbody tr th:only-of-type {\n",
       "        vertical-align: middle;\n",
       "    }\n",
       "\n",
       "    .dataframe tbody tr th {\n",
       "        vertical-align: top;\n",
       "    }\n",
       "\n",
       "    .dataframe thead th {\n",
       "        text-align: right;\n",
       "    }\n",
       "</style>\n",
       "<table border=\"1\" class=\"dataframe\">\n",
       "  <thead>\n",
       "    <tr style=\"text-align: right;\">\n",
       "      <th></th>\n",
       "      <th>label</th>\n",
       "      <th>area</th>\n",
       "      <th>perimeter</th>\n",
       "      <th>centroid-0</th>\n",
       "      <th>centroid-1</th>\n",
       "      <th>bbox-0</th>\n",
       "      <th>bbox-1</th>\n",
       "      <th>bbox-2</th>\n",
       "      <th>bbox-3</th>\n",
       "      <th>eccentricity</th>\n",
       "      <th>solidity</th>\n",
       "      <th>minor_axis_length</th>\n",
       "      <th>major_axis_length</th>\n",
       "    </tr>\n",
       "  </thead>\n",
       "  <tbody>\n",
       "    <tr>\n",
       "      <th>0</th>\n",
       "      <td>1</td>\n",
       "      <td>433.0</td>\n",
       "      <td>91.254834</td>\n",
       "      <td>13.212471</td>\n",
       "      <td>19.986143</td>\n",
       "      <td>0</td>\n",
       "      <td>10</td>\n",
       "      <td>30</td>\n",
       "      <td>36</td>\n",
       "      <td>0.876649</td>\n",
       "      <td>0.881874</td>\n",
       "      <td>16.819060</td>\n",
       "      <td>34.957399</td>\n",
       "    </tr>\n",
       "    <tr>\n",
       "      <th>1</th>\n",
       "      <td>2</td>\n",
       "      <td>185.0</td>\n",
       "      <td>53.556349</td>\n",
       "      <td>4.270270</td>\n",
       "      <td>62.945946</td>\n",
       "      <td>0</td>\n",
       "      <td>53</td>\n",
       "      <td>11</td>\n",
       "      <td>74</td>\n",
       "      <td>0.828189</td>\n",
       "      <td>0.968586</td>\n",
       "      <td>11.803854</td>\n",
       "      <td>21.061417</td>\n",
       "    </tr>\n",
       "    <tr>\n",
       "      <th>2</th>\n",
       "      <td>3</td>\n",
       "      <td>658.0</td>\n",
       "      <td>95.698485</td>\n",
       "      <td>12.568389</td>\n",
       "      <td>108.329787</td>\n",
       "      <td>0</td>\n",
       "      <td>95</td>\n",
       "      <td>28</td>\n",
       "      <td>122</td>\n",
       "      <td>0.352060</td>\n",
       "      <td>0.977712</td>\n",
       "      <td>28.278264</td>\n",
       "      <td>30.212552</td>\n",
       "    </tr>\n",
       "    <tr>\n",
       "      <th>3</th>\n",
       "      <td>4</td>\n",
       "      <td>434.0</td>\n",
       "      <td>76.870058</td>\n",
       "      <td>9.806452</td>\n",
       "      <td>154.520737</td>\n",
       "      <td>0</td>\n",
       "      <td>144</td>\n",
       "      <td>23</td>\n",
       "      <td>167</td>\n",
       "      <td>0.341084</td>\n",
       "      <td>0.973094</td>\n",
       "      <td>23.064079</td>\n",
       "      <td>24.535398</td>\n",
       "    </tr>\n",
       "    <tr>\n",
       "      <th>4</th>\n",
       "      <td>5</td>\n",
       "      <td>477.0</td>\n",
       "      <td>83.798990</td>\n",
       "      <td>13.545073</td>\n",
       "      <td>246.809224</td>\n",
       "      <td>0</td>\n",
       "      <td>237</td>\n",
       "      <td>29</td>\n",
       "      <td>256</td>\n",
       "      <td>0.771328</td>\n",
       "      <td>0.977459</td>\n",
       "      <td>19.833058</td>\n",
       "      <td>31.162612</td>\n",
       "    </tr>\n",
       "  </tbody>\n",
       "</table>\n",
       "</div>"
      ],
      "text/plain": [
       "   label   area  perimeter  centroid-0  centroid-1  bbox-0  bbox-1  bbox-2  \\\n",
       "0      1  433.0  91.254834   13.212471   19.986143       0      10      30   \n",
       "1      2  185.0  53.556349    4.270270   62.945946       0      53      11   \n",
       "2      3  658.0  95.698485   12.568389  108.329787       0      95      28   \n",
       "3      4  434.0  76.870058    9.806452  154.520737       0     144      23   \n",
       "4      5  477.0  83.798990   13.545073  246.809224       0     237      29   \n",
       "\n",
       "   bbox-3  eccentricity  solidity  minor_axis_length  major_axis_length  \n",
       "0      36      0.876649  0.881874          16.819060          34.957399  \n",
       "1      74      0.828189  0.968586          11.803854          21.061417  \n",
       "2     122      0.352060  0.977712          28.278264          30.212552  \n",
       "3     167      0.341084  0.973094          23.064079          24.535398  \n",
       "4     256      0.771328  0.977459          19.833058          31.162612  "
      ]
     },
     "execution_count": 13,
     "metadata": {},
     "output_type": "execute_result"
    }
   ],
   "source": [
    "from skimage.io import imread\n",
    "from skimage.filters import threshold_otsu\n",
    "from skimage.measure import label, regionprops_table\n",
    "import pandas as pd\n",
    "\n",
    "# Load the image\n",
    "image = imread(\"blobs.tif\")\n",
    "\n",
    "# Apply Otsu's thresholding\n",
    "threshold = threshold_otsu(image)\n",
    "binary = image > threshold\n",
    "\n",
    "# Perform connected component labeling\n",
    "label_image = label(binary)\n",
    "\n",
    "# Extract shape descriptors using regionprops_table\n",
    "properties = ['label', 'area', 'perimeter', 'centroid', 'bbox', 'eccentricity', 'solidity', 'minor_axis_length', 'major_axis_length']\n",
    "measurements = regionprops_table(label_image, properties=properties)\n",
    "\n",
    "# Convert the measurements into a pandas DataFrame\n",
    "df = pd.DataFrame(measurements)\n",
    "df.head()"
   ]
  },
  {
   "cell_type": "code",
   "execution_count": 14,
   "id": "21634e61-2120-41eb-b5be-63754ca35254",
   "metadata": {},
   "outputs": [
    {
     "data": {
      "text/plain": [
       "Index(['label', 'area', 'perimeter', 'centroid-0', 'centroid-1', 'bbox-0',\n",
       "       'bbox-1', 'bbox-2', 'bbox-3', 'eccentricity', 'solidity',\n",
       "       'minor_axis_length', 'major_axis_length'],\n",
       "      dtype='object')"
      ]
     },
     "execution_count": 14,
     "metadata": {},
     "output_type": "execute_result"
    }
   ],
   "source": [
    "columns = df.columns\n",
    "columns"
   ]
  },
  {
   "cell_type": "code",
   "execution_count": 15,
   "id": "e758f04e-1cd0-4256-b4e7-dc2f35f7392f",
   "metadata": {},
   "outputs": [],
   "source": [
    "%%bob\n",
    "I have a DataFrame `df` with the following columns: {columns}\n",
    "How can I put a new column `aspect_ratio` into the table?"
   ]
  },
  {
   "cell_type": "code",
   "execution_count": 16,
   "id": "4881cd67-d46b-4eef-8d37-8d5ffd2b0866",
   "metadata": {},
   "outputs": [
    {
     "name": "stdout",
     "output_type": "stream",
     "text": [
      "Index(['label', 'area', 'perimeter', 'centroid-0', 'centroid-1', 'bbox-0',\n",
      "       'bbox-1', 'bbox-2', 'bbox-3', 'eccentricity', 'solidity',\n",
      "       'minor_axis_length', 'major_axis_length', 'aspect_ratio'],\n",
      "      dtype='object')\n"
     ]
    }
   ],
   "source": [
    "# Calculate the aspect ratio\n",
    "df['aspect_ratio'] = df['major_axis_length'] / df['minor_axis_length']\n",
    "\n",
    "print(df.columns)"
   ]
  },
  {
   "cell_type": "code",
   "execution_count": null,
   "id": "75fa2a3e-6fd9-4b6b-a66b-7b947868d4c8",
   "metadata": {},
   "outputs": [],
   "source": []
  }
 ],
 "metadata": {
  "kernelspec": {
   "display_name": "Python 3 (ipykernel)",
   "language": "python",
   "name": "python3"
  },
  "language_info": {
   "codemirror_mode": {
    "name": "ipython",
    "version": 3
   },
   "file_extension": ".py",
   "mimetype": "text/x-python",
   "name": "python",
   "nbconvert_exporter": "python",
   "pygments_lexer": "ipython3",
   "version": "3.11.9"
  }
 },
 "nbformat": 4,
 "nbformat_minor": 5
}
