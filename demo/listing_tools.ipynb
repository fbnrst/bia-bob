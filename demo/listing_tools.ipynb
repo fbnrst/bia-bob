{
 "cells": [
  {
   "cell_type": "markdown",
   "id": "c18442ad-3205-496e-8d6b-b44a62896269",
   "metadata": {},
   "source": [
    "# Listing tools\n",
    "BIA Bob can list all available tools and explain them."
   ]
  },
  {
   "cell_type": "code",
   "execution_count": null,
   "id": "5b82c4e6-bf35-42c2-ac61-23f54113f149",
   "metadata": {},
   "outputs": [],
   "source": [
    "from bia_bob import bob\n",
    "bob.__version__"
   ]
  },
  {
   "cell_type": "code",
   "execution_count": null,
   "id": "e46a428f-e367-45e3-aa7c-286df34b6d3a",
   "metadata": {},
   "outputs": [],
   "source": [
    "%bob can you list all available tools and what they are good for ?"
   ]
  },
  {
   "cell_type": "code",
   "execution_count": null,
   "id": "900aef7a-404e-4214-b314-f1b40eda0933",
   "metadata": {},
   "outputs": [],
   "source": [
    "%bob please list the explanations for all available segmentation tools"
   ]
  },
  {
   "cell_type": "code",
   "execution_count": null,
   "id": "f3a327d2-ef91-43c0-ae6b-4e0d96626892",
   "metadata": {},
   "outputs": [],
   "source": []
  }
 ],
 "metadata": {
  "kernelspec": {
   "display_name": "Python 3 (ipykernel)",
   "language": "python",
   "name": "python3"
  },
  "language_info": {
   "codemirror_mode": {
    "name": "ipython",
    "version": 3
   },
   "file_extension": ".py",
   "mimetype": "text/x-python",
   "name": "python",
   "nbconvert_exporter": "python",
   "pygments_lexer": "ipython3",
   "version": "3.9.13"
  }
 },
 "nbformat": 4,
 "nbformat_minor": 5
}
